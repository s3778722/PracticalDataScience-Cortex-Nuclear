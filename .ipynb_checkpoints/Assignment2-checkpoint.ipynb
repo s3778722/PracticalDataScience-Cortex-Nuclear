{
 "cells": [
  {
   "cell_type": "markdown",
   "metadata": {},
   "source": [
    " ## Retrieving and Preparing the Data"
   ]
  },
  {
   "cell_type": "code",
   "execution_count": 1,
   "metadata": {},
   "outputs": [],
   "source": [
    "import pandas as pd\n",
    "import numpy as np\n",
    "import matplotlib.pyplot as plt"
   ]
  },
  {
   "cell_type": "code",
   "execution_count": 2,
   "metadata": {},
   "outputs": [],
   "source": [
    "#Create a variable for the dataset\n",
    "data_set = 'Data_Cortex_Nuclear.xls'"
   ]
  },
  {
   "cell_type": "code",
   "execution_count": 3,
   "metadata": {},
   "outputs": [],
   "source": [
    "#Load and read the dataset in excel format\n",
    "df = pd.read_excel(data_set,sep=',', decimal='.')"
   ]
  },
  {
   "cell_type": "code",
   "execution_count": 4,
   "metadata": {},
   "outputs": [
    {
     "data": {
      "text/html": [
       "<div>\n",
       "<style scoped>\n",
       "    .dataframe tbody tr th:only-of-type {\n",
       "        vertical-align: middle;\n",
       "    }\n",
       "\n",
       "    .dataframe tbody tr th {\n",
       "        vertical-align: top;\n",
       "    }\n",
       "\n",
       "    .dataframe thead th {\n",
       "        text-align: right;\n",
       "    }\n",
       "</style>\n",
       "<table border=\"1\" class=\"dataframe\">\n",
       "  <thead>\n",
       "    <tr style=\"text-align: right;\">\n",
       "      <th></th>\n",
       "      <th>MouseID</th>\n",
       "      <th>DYRK1A_N</th>\n",
       "      <th>ITSN1_N</th>\n",
       "      <th>BDNF_N</th>\n",
       "      <th>NR1_N</th>\n",
       "      <th>NR2A_N</th>\n",
       "      <th>pAKT_N</th>\n",
       "      <th>pBRAF_N</th>\n",
       "      <th>pCAMKII_N</th>\n",
       "      <th>pCREB_N</th>\n",
       "      <th>...</th>\n",
       "      <th>pCFOS_N</th>\n",
       "      <th>SYP_N</th>\n",
       "      <th>H3AcK18_N</th>\n",
       "      <th>EGR1_N</th>\n",
       "      <th>H3MeK4_N</th>\n",
       "      <th>CaNA_N</th>\n",
       "      <th>Genotype</th>\n",
       "      <th>Treatment</th>\n",
       "      <th>Behavior</th>\n",
       "      <th>class</th>\n",
       "    </tr>\n",
       "  </thead>\n",
       "  <tbody>\n",
       "    <tr>\n",
       "      <td>0</td>\n",
       "      <td>309_1</td>\n",
       "      <td>0.503644</td>\n",
       "      <td>0.747193</td>\n",
       "      <td>0.430175</td>\n",
       "      <td>2.816329</td>\n",
       "      <td>5.990152</td>\n",
       "      <td>0.218830</td>\n",
       "      <td>0.177565</td>\n",
       "      <td>2.373744</td>\n",
       "      <td>0.232224</td>\n",
       "      <td>...</td>\n",
       "      <td>0.108336</td>\n",
       "      <td>0.427099</td>\n",
       "      <td>0.114783</td>\n",
       "      <td>0.131790</td>\n",
       "      <td>0.128186</td>\n",
       "      <td>1.675652</td>\n",
       "      <td>Control</td>\n",
       "      <td>Memantine</td>\n",
       "      <td>C/S</td>\n",
       "      <td>c-CS-m</td>\n",
       "    </tr>\n",
       "    <tr>\n",
       "      <td>1</td>\n",
       "      <td>309_2</td>\n",
       "      <td>0.514617</td>\n",
       "      <td>0.689064</td>\n",
       "      <td>0.411770</td>\n",
       "      <td>2.789514</td>\n",
       "      <td>5.685038</td>\n",
       "      <td>0.211636</td>\n",
       "      <td>0.172817</td>\n",
       "      <td>2.292150</td>\n",
       "      <td>0.226972</td>\n",
       "      <td>...</td>\n",
       "      <td>0.104315</td>\n",
       "      <td>0.441581</td>\n",
       "      <td>0.111974</td>\n",
       "      <td>0.135103</td>\n",
       "      <td>0.131119</td>\n",
       "      <td>1.743610</td>\n",
       "      <td>Control</td>\n",
       "      <td>Memantine</td>\n",
       "      <td>C/S</td>\n",
       "      <td>c-CS-m</td>\n",
       "    </tr>\n",
       "    <tr>\n",
       "      <td>2</td>\n",
       "      <td>309_3</td>\n",
       "      <td>0.509183</td>\n",
       "      <td>0.730247</td>\n",
       "      <td>0.418309</td>\n",
       "      <td>2.687201</td>\n",
       "      <td>5.622059</td>\n",
       "      <td>0.209011</td>\n",
       "      <td>0.175722</td>\n",
       "      <td>2.283337</td>\n",
       "      <td>0.230247</td>\n",
       "      <td>...</td>\n",
       "      <td>0.106219</td>\n",
       "      <td>0.435777</td>\n",
       "      <td>0.111883</td>\n",
       "      <td>0.133362</td>\n",
       "      <td>0.127431</td>\n",
       "      <td>1.926427</td>\n",
       "      <td>Control</td>\n",
       "      <td>Memantine</td>\n",
       "      <td>C/S</td>\n",
       "      <td>c-CS-m</td>\n",
       "    </tr>\n",
       "    <tr>\n",
       "      <td>3</td>\n",
       "      <td>309_4</td>\n",
       "      <td>0.442107</td>\n",
       "      <td>0.617076</td>\n",
       "      <td>0.358626</td>\n",
       "      <td>2.466947</td>\n",
       "      <td>4.979503</td>\n",
       "      <td>0.222886</td>\n",
       "      <td>0.176463</td>\n",
       "      <td>2.152301</td>\n",
       "      <td>0.207004</td>\n",
       "      <td>...</td>\n",
       "      <td>0.111262</td>\n",
       "      <td>0.391691</td>\n",
       "      <td>0.130405</td>\n",
       "      <td>0.147444</td>\n",
       "      <td>0.146901</td>\n",
       "      <td>1.700563</td>\n",
       "      <td>Control</td>\n",
       "      <td>Memantine</td>\n",
       "      <td>C/S</td>\n",
       "      <td>c-CS-m</td>\n",
       "    </tr>\n",
       "    <tr>\n",
       "      <td>4</td>\n",
       "      <td>309_5</td>\n",
       "      <td>0.434940</td>\n",
       "      <td>0.617430</td>\n",
       "      <td>0.358802</td>\n",
       "      <td>2.365785</td>\n",
       "      <td>4.718679</td>\n",
       "      <td>0.213106</td>\n",
       "      <td>0.173627</td>\n",
       "      <td>2.134014</td>\n",
       "      <td>0.192158</td>\n",
       "      <td>...</td>\n",
       "      <td>0.110694</td>\n",
       "      <td>0.434154</td>\n",
       "      <td>0.118481</td>\n",
       "      <td>0.140314</td>\n",
       "      <td>0.148380</td>\n",
       "      <td>1.839730</td>\n",
       "      <td>Control</td>\n",
       "      <td>Memantine</td>\n",
       "      <td>C/S</td>\n",
       "      <td>c-CS-m</td>\n",
       "    </tr>\n",
       "  </tbody>\n",
       "</table>\n",
       "<p>5 rows × 82 columns</p>\n",
       "</div>"
      ],
      "text/plain": [
       "  MouseID  DYRK1A_N   ITSN1_N    BDNF_N     NR1_N    NR2A_N    pAKT_N  \\\n",
       "0   309_1  0.503644  0.747193  0.430175  2.816329  5.990152  0.218830   \n",
       "1   309_2  0.514617  0.689064  0.411770  2.789514  5.685038  0.211636   \n",
       "2   309_3  0.509183  0.730247  0.418309  2.687201  5.622059  0.209011   \n",
       "3   309_4  0.442107  0.617076  0.358626  2.466947  4.979503  0.222886   \n",
       "4   309_5  0.434940  0.617430  0.358802  2.365785  4.718679  0.213106   \n",
       "\n",
       "    pBRAF_N  pCAMKII_N   pCREB_N  ...   pCFOS_N     SYP_N  H3AcK18_N  \\\n",
       "0  0.177565   2.373744  0.232224  ...  0.108336  0.427099   0.114783   \n",
       "1  0.172817   2.292150  0.226972  ...  0.104315  0.441581   0.111974   \n",
       "2  0.175722   2.283337  0.230247  ...  0.106219  0.435777   0.111883   \n",
       "3  0.176463   2.152301  0.207004  ...  0.111262  0.391691   0.130405   \n",
       "4  0.173627   2.134014  0.192158  ...  0.110694  0.434154   0.118481   \n",
       "\n",
       "     EGR1_N  H3MeK4_N    CaNA_N  Genotype  Treatment  Behavior   class  \n",
       "0  0.131790  0.128186  1.675652   Control  Memantine       C/S  c-CS-m  \n",
       "1  0.135103  0.131119  1.743610   Control  Memantine       C/S  c-CS-m  \n",
       "2  0.133362  0.127431  1.926427   Control  Memantine       C/S  c-CS-m  \n",
       "3  0.147444  0.146901  1.700563   Control  Memantine       C/S  c-CS-m  \n",
       "4  0.140314  0.148380  1.839730   Control  Memantine       C/S  c-CS-m  \n",
       "\n",
       "[5 rows x 82 columns]"
      ]
     },
     "execution_count": 4,
     "metadata": {},
     "output_type": "execute_result"
    }
   ],
   "source": [
    "#Show the first 5 rows to check if the data is loaded correctly\n",
    "df.head()"
   ]
  },
  {
   "cell_type": "code",
   "execution_count": 5,
   "metadata": {},
   "outputs": [
    {
     "data": {
      "text/plain": [
       "MouseID       object\n",
       "DYRK1A_N     float64\n",
       "ITSN1_N      float64\n",
       "BDNF_N       float64\n",
       "NR1_N        float64\n",
       "              ...   \n",
       "CaNA_N       float64\n",
       "Genotype      object\n",
       "Treatment     object\n",
       "Behavior      object\n",
       "class         object\n",
       "Length: 82, dtype: object"
      ]
     },
     "execution_count": 5,
     "metadata": {},
     "output_type": "execute_result"
    }
   ],
   "source": [
    "#Check the data types of the loaded columns\n",
    "df.dtypes"
   ]
  },
  {
   "cell_type": "code",
   "execution_count": 6,
   "metadata": {
    "scrolled": true
   },
   "outputs": [
    {
     "data": {
      "text/html": [
       "<div>\n",
       "<style scoped>\n",
       "    .dataframe tbody tr th:only-of-type {\n",
       "        vertical-align: middle;\n",
       "    }\n",
       "\n",
       "    .dataframe tbody tr th {\n",
       "        vertical-align: top;\n",
       "    }\n",
       "\n",
       "    .dataframe thead th {\n",
       "        text-align: right;\n",
       "    }\n",
       "</style>\n",
       "<table border=\"1\" class=\"dataframe\">\n",
       "  <thead>\n",
       "    <tr style=\"text-align: right;\">\n",
       "      <th></th>\n",
       "      <th>DYRK1A_N</th>\n",
       "      <th>ITSN1_N</th>\n",
       "      <th>BDNF_N</th>\n",
       "      <th>NR1_N</th>\n",
       "      <th>NR2A_N</th>\n",
       "      <th>pAKT_N</th>\n",
       "      <th>pBRAF_N</th>\n",
       "      <th>pCAMKII_N</th>\n",
       "      <th>pCREB_N</th>\n",
       "      <th>pELK_N</th>\n",
       "      <th>...</th>\n",
       "      <th>SHH_N</th>\n",
       "      <th>BAD_N</th>\n",
       "      <th>BCL2_N</th>\n",
       "      <th>pS6_N</th>\n",
       "      <th>pCFOS_N</th>\n",
       "      <th>SYP_N</th>\n",
       "      <th>H3AcK18_N</th>\n",
       "      <th>EGR1_N</th>\n",
       "      <th>H3MeK4_N</th>\n",
       "      <th>CaNA_N</th>\n",
       "    </tr>\n",
       "  </thead>\n",
       "  <tbody>\n",
       "    <tr>\n",
       "      <td>0</td>\n",
       "      <td>0.503644</td>\n",
       "      <td>0.747193</td>\n",
       "      <td>0.430175</td>\n",
       "      <td>2.816329</td>\n",
       "      <td>5.990152</td>\n",
       "      <td>0.218830</td>\n",
       "      <td>0.177565</td>\n",
       "      <td>2.373744</td>\n",
       "      <td>0.232224</td>\n",
       "      <td>1.750936</td>\n",
       "      <td>...</td>\n",
       "      <td>0.188852</td>\n",
       "      <td>0.122652</td>\n",
       "      <td>NaN</td>\n",
       "      <td>0.106305</td>\n",
       "      <td>0.108336</td>\n",
       "      <td>0.427099</td>\n",
       "      <td>0.114783</td>\n",
       "      <td>0.131790</td>\n",
       "      <td>0.128186</td>\n",
       "      <td>1.675652</td>\n",
       "    </tr>\n",
       "    <tr>\n",
       "      <td>1</td>\n",
       "      <td>0.514617</td>\n",
       "      <td>0.689064</td>\n",
       "      <td>0.411770</td>\n",
       "      <td>2.789514</td>\n",
       "      <td>5.685038</td>\n",
       "      <td>0.211636</td>\n",
       "      <td>0.172817</td>\n",
       "      <td>2.292150</td>\n",
       "      <td>0.226972</td>\n",
       "      <td>1.596377</td>\n",
       "      <td>...</td>\n",
       "      <td>0.200404</td>\n",
       "      <td>0.116682</td>\n",
       "      <td>NaN</td>\n",
       "      <td>0.106592</td>\n",
       "      <td>0.104315</td>\n",
       "      <td>0.441581</td>\n",
       "      <td>0.111974</td>\n",
       "      <td>0.135103</td>\n",
       "      <td>0.131119</td>\n",
       "      <td>1.743610</td>\n",
       "    </tr>\n",
       "    <tr>\n",
       "      <td>2</td>\n",
       "      <td>0.509183</td>\n",
       "      <td>0.730247</td>\n",
       "      <td>0.418309</td>\n",
       "      <td>2.687201</td>\n",
       "      <td>5.622059</td>\n",
       "      <td>0.209011</td>\n",
       "      <td>0.175722</td>\n",
       "      <td>2.283337</td>\n",
       "      <td>0.230247</td>\n",
       "      <td>1.561316</td>\n",
       "      <td>...</td>\n",
       "      <td>0.193685</td>\n",
       "      <td>0.118508</td>\n",
       "      <td>NaN</td>\n",
       "      <td>0.108303</td>\n",
       "      <td>0.106219</td>\n",
       "      <td>0.435777</td>\n",
       "      <td>0.111883</td>\n",
       "      <td>0.133362</td>\n",
       "      <td>0.127431</td>\n",
       "      <td>1.926427</td>\n",
       "    </tr>\n",
       "    <tr>\n",
       "      <td>3</td>\n",
       "      <td>0.442107</td>\n",
       "      <td>0.617076</td>\n",
       "      <td>0.358626</td>\n",
       "      <td>2.466947</td>\n",
       "      <td>4.979503</td>\n",
       "      <td>0.222886</td>\n",
       "      <td>0.176463</td>\n",
       "      <td>2.152301</td>\n",
       "      <td>0.207004</td>\n",
       "      <td>1.595086</td>\n",
       "      <td>...</td>\n",
       "      <td>0.192112</td>\n",
       "      <td>0.132781</td>\n",
       "      <td>NaN</td>\n",
       "      <td>0.103184</td>\n",
       "      <td>0.111262</td>\n",
       "      <td>0.391691</td>\n",
       "      <td>0.130405</td>\n",
       "      <td>0.147444</td>\n",
       "      <td>0.146901</td>\n",
       "      <td>1.700563</td>\n",
       "    </tr>\n",
       "    <tr>\n",
       "      <td>4</td>\n",
       "      <td>0.434940</td>\n",
       "      <td>0.617430</td>\n",
       "      <td>0.358802</td>\n",
       "      <td>2.365785</td>\n",
       "      <td>4.718679</td>\n",
       "      <td>0.213106</td>\n",
       "      <td>0.173627</td>\n",
       "      <td>2.134014</td>\n",
       "      <td>0.192158</td>\n",
       "      <td>1.504230</td>\n",
       "      <td>...</td>\n",
       "      <td>0.205604</td>\n",
       "      <td>0.129954</td>\n",
       "      <td>NaN</td>\n",
       "      <td>0.104784</td>\n",
       "      <td>0.110694</td>\n",
       "      <td>0.434154</td>\n",
       "      <td>0.118481</td>\n",
       "      <td>0.140314</td>\n",
       "      <td>0.148380</td>\n",
       "      <td>1.839730</td>\n",
       "    </tr>\n",
       "    <tr>\n",
       "      <td>...</td>\n",
       "      <td>...</td>\n",
       "      <td>...</td>\n",
       "      <td>...</td>\n",
       "      <td>...</td>\n",
       "      <td>...</td>\n",
       "      <td>...</td>\n",
       "      <td>...</td>\n",
       "      <td>...</td>\n",
       "      <td>...</td>\n",
       "      <td>...</td>\n",
       "      <td>...</td>\n",
       "      <td>...</td>\n",
       "      <td>...</td>\n",
       "      <td>...</td>\n",
       "      <td>...</td>\n",
       "      <td>...</td>\n",
       "      <td>...</td>\n",
       "      <td>...</td>\n",
       "      <td>...</td>\n",
       "      <td>...</td>\n",
       "      <td>...</td>\n",
       "    </tr>\n",
       "    <tr>\n",
       "      <td>1075</td>\n",
       "      <td>0.254860</td>\n",
       "      <td>0.463591</td>\n",
       "      <td>0.254860</td>\n",
       "      <td>2.092082</td>\n",
       "      <td>2.600035</td>\n",
       "      <td>0.211736</td>\n",
       "      <td>0.171262</td>\n",
       "      <td>2.483740</td>\n",
       "      <td>0.207317</td>\n",
       "      <td>1.057971</td>\n",
       "      <td>...</td>\n",
       "      <td>0.275547</td>\n",
       "      <td>0.190483</td>\n",
       "      <td>NaN</td>\n",
       "      <td>0.115806</td>\n",
       "      <td>0.183324</td>\n",
       "      <td>0.374088</td>\n",
       "      <td>0.318782</td>\n",
       "      <td>0.204660</td>\n",
       "      <td>0.328327</td>\n",
       "      <td>1.364823</td>\n",
       "    </tr>\n",
       "    <tr>\n",
       "      <td>1076</td>\n",
       "      <td>0.272198</td>\n",
       "      <td>0.474163</td>\n",
       "      <td>0.251638</td>\n",
       "      <td>2.161390</td>\n",
       "      <td>2.801492</td>\n",
       "      <td>0.251274</td>\n",
       "      <td>0.182496</td>\n",
       "      <td>2.512737</td>\n",
       "      <td>0.216339</td>\n",
       "      <td>1.081150</td>\n",
       "      <td>...</td>\n",
       "      <td>0.283207</td>\n",
       "      <td>0.190463</td>\n",
       "      <td>NaN</td>\n",
       "      <td>0.113614</td>\n",
       "      <td>0.175674</td>\n",
       "      <td>0.375259</td>\n",
       "      <td>0.325639</td>\n",
       "      <td>0.200415</td>\n",
       "      <td>0.293435</td>\n",
       "      <td>1.364478</td>\n",
       "    </tr>\n",
       "    <tr>\n",
       "      <td>1077</td>\n",
       "      <td>0.228700</td>\n",
       "      <td>0.395179</td>\n",
       "      <td>0.234118</td>\n",
       "      <td>1.733184</td>\n",
       "      <td>2.220852</td>\n",
       "      <td>0.220665</td>\n",
       "      <td>0.161435</td>\n",
       "      <td>1.989723</td>\n",
       "      <td>0.185164</td>\n",
       "      <td>0.884342</td>\n",
       "      <td>...</td>\n",
       "      <td>0.290843</td>\n",
       "      <td>0.216682</td>\n",
       "      <td>NaN</td>\n",
       "      <td>0.118948</td>\n",
       "      <td>0.158296</td>\n",
       "      <td>0.422121</td>\n",
       "      <td>0.321306</td>\n",
       "      <td>0.229193</td>\n",
       "      <td>0.355213</td>\n",
       "      <td>1.430825</td>\n",
       "    </tr>\n",
       "    <tr>\n",
       "      <td>1078</td>\n",
       "      <td>0.221242</td>\n",
       "      <td>0.412894</td>\n",
       "      <td>0.243974</td>\n",
       "      <td>1.876347</td>\n",
       "      <td>2.384088</td>\n",
       "      <td>0.208897</td>\n",
       "      <td>0.173623</td>\n",
       "      <td>2.086028</td>\n",
       "      <td>0.192044</td>\n",
       "      <td>0.922595</td>\n",
       "      <td>...</td>\n",
       "      <td>0.306701</td>\n",
       "      <td>0.222263</td>\n",
       "      <td>NaN</td>\n",
       "      <td>0.125295</td>\n",
       "      <td>0.196296</td>\n",
       "      <td>0.397676</td>\n",
       "      <td>0.335936</td>\n",
       "      <td>0.251317</td>\n",
       "      <td>0.365353</td>\n",
       "      <td>1.404031</td>\n",
       "    </tr>\n",
       "    <tr>\n",
       "      <td>1079</td>\n",
       "      <td>0.302626</td>\n",
       "      <td>0.461059</td>\n",
       "      <td>0.256564</td>\n",
       "      <td>2.092790</td>\n",
       "      <td>2.594348</td>\n",
       "      <td>0.251001</td>\n",
       "      <td>0.191811</td>\n",
       "      <td>2.361816</td>\n",
       "      <td>0.223632</td>\n",
       "      <td>1.064085</td>\n",
       "      <td>...</td>\n",
       "      <td>0.292330</td>\n",
       "      <td>0.227606</td>\n",
       "      <td>NaN</td>\n",
       "      <td>0.118899</td>\n",
       "      <td>0.187556</td>\n",
       "      <td>0.420347</td>\n",
       "      <td>0.335062</td>\n",
       "      <td>0.252995</td>\n",
       "      <td>0.365278</td>\n",
       "      <td>1.370999</td>\n",
       "    </tr>\n",
       "  </tbody>\n",
       "</table>\n",
       "<p>1080 rows × 77 columns</p>\n",
       "</div>"
      ],
      "text/plain": [
       "      DYRK1A_N   ITSN1_N    BDNF_N     NR1_N    NR2A_N    pAKT_N   pBRAF_N  \\\n",
       "0     0.503644  0.747193  0.430175  2.816329  5.990152  0.218830  0.177565   \n",
       "1     0.514617  0.689064  0.411770  2.789514  5.685038  0.211636  0.172817   \n",
       "2     0.509183  0.730247  0.418309  2.687201  5.622059  0.209011  0.175722   \n",
       "3     0.442107  0.617076  0.358626  2.466947  4.979503  0.222886  0.176463   \n",
       "4     0.434940  0.617430  0.358802  2.365785  4.718679  0.213106  0.173627   \n",
       "...        ...       ...       ...       ...       ...       ...       ...   \n",
       "1075  0.254860  0.463591  0.254860  2.092082  2.600035  0.211736  0.171262   \n",
       "1076  0.272198  0.474163  0.251638  2.161390  2.801492  0.251274  0.182496   \n",
       "1077  0.228700  0.395179  0.234118  1.733184  2.220852  0.220665  0.161435   \n",
       "1078  0.221242  0.412894  0.243974  1.876347  2.384088  0.208897  0.173623   \n",
       "1079  0.302626  0.461059  0.256564  2.092790  2.594348  0.251001  0.191811   \n",
       "\n",
       "      pCAMKII_N   pCREB_N    pELK_N  ...     SHH_N     BAD_N  BCL2_N  \\\n",
       "0      2.373744  0.232224  1.750936  ...  0.188852  0.122652     NaN   \n",
       "1      2.292150  0.226972  1.596377  ...  0.200404  0.116682     NaN   \n",
       "2      2.283337  0.230247  1.561316  ...  0.193685  0.118508     NaN   \n",
       "3      2.152301  0.207004  1.595086  ...  0.192112  0.132781     NaN   \n",
       "4      2.134014  0.192158  1.504230  ...  0.205604  0.129954     NaN   \n",
       "...         ...       ...       ...  ...       ...       ...     ...   \n",
       "1075   2.483740  0.207317  1.057971  ...  0.275547  0.190483     NaN   \n",
       "1076   2.512737  0.216339  1.081150  ...  0.283207  0.190463     NaN   \n",
       "1077   1.989723  0.185164  0.884342  ...  0.290843  0.216682     NaN   \n",
       "1078   2.086028  0.192044  0.922595  ...  0.306701  0.222263     NaN   \n",
       "1079   2.361816  0.223632  1.064085  ...  0.292330  0.227606     NaN   \n",
       "\n",
       "         pS6_N   pCFOS_N     SYP_N  H3AcK18_N    EGR1_N  H3MeK4_N    CaNA_N  \n",
       "0     0.106305  0.108336  0.427099   0.114783  0.131790  0.128186  1.675652  \n",
       "1     0.106592  0.104315  0.441581   0.111974  0.135103  0.131119  1.743610  \n",
       "2     0.108303  0.106219  0.435777   0.111883  0.133362  0.127431  1.926427  \n",
       "3     0.103184  0.111262  0.391691   0.130405  0.147444  0.146901  1.700563  \n",
       "4     0.104784  0.110694  0.434154   0.118481  0.140314  0.148380  1.839730  \n",
       "...        ...       ...       ...        ...       ...       ...       ...  \n",
       "1075  0.115806  0.183324  0.374088   0.318782  0.204660  0.328327  1.364823  \n",
       "1076  0.113614  0.175674  0.375259   0.325639  0.200415  0.293435  1.364478  \n",
       "1077  0.118948  0.158296  0.422121   0.321306  0.229193  0.355213  1.430825  \n",
       "1078  0.125295  0.196296  0.397676   0.335936  0.251317  0.365353  1.404031  \n",
       "1079  0.118899  0.187556  0.420347   0.335062  0.252995  0.365278  1.370999  \n",
       "\n",
       "[1080 rows x 77 columns]"
      ]
     },
     "execution_count": 6,
     "metadata": {},
     "output_type": "execute_result"
    }
   ],
   "source": [
    "#Check the data that consist a float64 data type\n",
    "df.select_dtypes(include='float64')"
   ]
  },
  {
   "cell_type": "code",
   "execution_count": 7,
   "metadata": {},
   "outputs": [
    {
     "data": {
      "text/html": [
       "<div>\n",
       "<style scoped>\n",
       "    .dataframe tbody tr th:only-of-type {\n",
       "        vertical-align: middle;\n",
       "    }\n",
       "\n",
       "    .dataframe tbody tr th {\n",
       "        vertical-align: top;\n",
       "    }\n",
       "\n",
       "    .dataframe thead th {\n",
       "        text-align: right;\n",
       "    }\n",
       "</style>\n",
       "<table border=\"1\" class=\"dataframe\">\n",
       "  <thead>\n",
       "    <tr style=\"text-align: right;\">\n",
       "      <th></th>\n",
       "      <th>MouseID</th>\n",
       "      <th>Genotype</th>\n",
       "      <th>Treatment</th>\n",
       "      <th>Behavior</th>\n",
       "      <th>class</th>\n",
       "    </tr>\n",
       "  </thead>\n",
       "  <tbody>\n",
       "    <tr>\n",
       "      <td>0</td>\n",
       "      <td>309_1</td>\n",
       "      <td>Control</td>\n",
       "      <td>Memantine</td>\n",
       "      <td>C/S</td>\n",
       "      <td>c-CS-m</td>\n",
       "    </tr>\n",
       "    <tr>\n",
       "      <td>1</td>\n",
       "      <td>309_2</td>\n",
       "      <td>Control</td>\n",
       "      <td>Memantine</td>\n",
       "      <td>C/S</td>\n",
       "      <td>c-CS-m</td>\n",
       "    </tr>\n",
       "    <tr>\n",
       "      <td>2</td>\n",
       "      <td>309_3</td>\n",
       "      <td>Control</td>\n",
       "      <td>Memantine</td>\n",
       "      <td>C/S</td>\n",
       "      <td>c-CS-m</td>\n",
       "    </tr>\n",
       "    <tr>\n",
       "      <td>3</td>\n",
       "      <td>309_4</td>\n",
       "      <td>Control</td>\n",
       "      <td>Memantine</td>\n",
       "      <td>C/S</td>\n",
       "      <td>c-CS-m</td>\n",
       "    </tr>\n",
       "    <tr>\n",
       "      <td>4</td>\n",
       "      <td>309_5</td>\n",
       "      <td>Control</td>\n",
       "      <td>Memantine</td>\n",
       "      <td>C/S</td>\n",
       "      <td>c-CS-m</td>\n",
       "    </tr>\n",
       "    <tr>\n",
       "      <td>...</td>\n",
       "      <td>...</td>\n",
       "      <td>...</td>\n",
       "      <td>...</td>\n",
       "      <td>...</td>\n",
       "      <td>...</td>\n",
       "    </tr>\n",
       "    <tr>\n",
       "      <td>1075</td>\n",
       "      <td>J3295_11</td>\n",
       "      <td>Ts65Dn</td>\n",
       "      <td>Saline</td>\n",
       "      <td>S/C</td>\n",
       "      <td>t-SC-s</td>\n",
       "    </tr>\n",
       "    <tr>\n",
       "      <td>1076</td>\n",
       "      <td>J3295_12</td>\n",
       "      <td>Ts65Dn</td>\n",
       "      <td>Saline</td>\n",
       "      <td>S/C</td>\n",
       "      <td>t-SC-s</td>\n",
       "    </tr>\n",
       "    <tr>\n",
       "      <td>1077</td>\n",
       "      <td>J3295_13</td>\n",
       "      <td>Ts65Dn</td>\n",
       "      <td>Saline</td>\n",
       "      <td>S/C</td>\n",
       "      <td>t-SC-s</td>\n",
       "    </tr>\n",
       "    <tr>\n",
       "      <td>1078</td>\n",
       "      <td>J3295_14</td>\n",
       "      <td>Ts65Dn</td>\n",
       "      <td>Saline</td>\n",
       "      <td>S/C</td>\n",
       "      <td>t-SC-s</td>\n",
       "    </tr>\n",
       "    <tr>\n",
       "      <td>1079</td>\n",
       "      <td>J3295_15</td>\n",
       "      <td>Ts65Dn</td>\n",
       "      <td>Saline</td>\n",
       "      <td>S/C</td>\n",
       "      <td>t-SC-s</td>\n",
       "    </tr>\n",
       "  </tbody>\n",
       "</table>\n",
       "<p>1080 rows × 5 columns</p>\n",
       "</div>"
      ],
      "text/plain": [
       "       MouseID Genotype  Treatment Behavior   class\n",
       "0        309_1  Control  Memantine      C/S  c-CS-m\n",
       "1        309_2  Control  Memantine      C/S  c-CS-m\n",
       "2        309_3  Control  Memantine      C/S  c-CS-m\n",
       "3        309_4  Control  Memantine      C/S  c-CS-m\n",
       "4        309_5  Control  Memantine      C/S  c-CS-m\n",
       "...        ...      ...        ...      ...     ...\n",
       "1075  J3295_11   Ts65Dn     Saline      S/C  t-SC-s\n",
       "1076  J3295_12   Ts65Dn     Saline      S/C  t-SC-s\n",
       "1077  J3295_13   Ts65Dn     Saline      S/C  t-SC-s\n",
       "1078  J3295_14   Ts65Dn     Saline      S/C  t-SC-s\n",
       "1079  J3295_15   Ts65Dn     Saline      S/C  t-SC-s\n",
       "\n",
       "[1080 rows x 5 columns]"
      ]
     },
     "execution_count": 7,
     "metadata": {},
     "output_type": "execute_result"
    }
   ],
   "source": [
    "#Check the data that does not consist a float64 data type\n",
    "df.select_dtypes(exclude ='float64')"
   ]
  },
  {
   "cell_type": "code",
   "execution_count": 8,
   "metadata": {},
   "outputs": [
    {
     "data": {
      "text/plain": [
       "['MouseID', 'Genotype', 'Treatment', 'Behavior', 'class']"
      ]
     },
     "execution_count": 8,
     "metadata": {},
     "output_type": "execute_result"
    }
   ],
   "source": [
    "#List out the object data type columns\n",
    "list(df.select_dtypes(['object']).columns)"
   ]
  },
  {
   "cell_type": "code",
   "execution_count": 9,
   "metadata": {
    "scrolled": true
   },
   "outputs": [
    {
     "data": {
      "text/plain": [
       "Index(['MouseID', 'DYRK1A_N', 'ITSN1_N', 'BDNF_N', 'NR1_N', 'NR2A_N', 'pAKT_N',\n",
       "       'pBRAF_N', 'pCAMKII_N', 'pCREB_N', 'pELK_N', 'pERK_N', 'pJNK_N',\n",
       "       'PKCA_N', 'pMEK_N', 'pNR1_N', 'pNR2A_N', 'pNR2B_N', 'pPKCAB_N',\n",
       "       'pRSK_N', 'AKT_N', 'BRAF_N', 'CAMKII_N', 'CREB_N', 'ELK_N', 'ERK_N',\n",
       "       'GSK3B_N', 'JNK_N', 'MEK_N', 'TRKA_N', 'RSK_N', 'APP_N', 'Bcatenin_N',\n",
       "       'SOD1_N', 'MTOR_N', 'P38_N', 'pMTOR_N', 'DSCR1_N', 'AMPKA_N', 'NR2B_N',\n",
       "       'pNUMB_N', 'RAPTOR_N', 'TIAM1_N', 'pP70S6_N', 'NUMB_N', 'P70S6_N',\n",
       "       'pGSK3B_N', 'pPKCG_N', 'CDK5_N', 'S6_N', 'ADARB1_N', 'AcetylH3K9_N',\n",
       "       'RRP1_N', 'BAX_N', 'ARC_N', 'ERBB4_N', 'nNOS_N', 'Tau_N', 'GFAP_N',\n",
       "       'GluR3_N', 'GluR4_N', 'IL1B_N', 'P3525_N', 'pCASP9_N', 'PSD95_N',\n",
       "       'SNCA_N', 'Ubiquitin_N', 'pGSK3B_Tyr216_N', 'SHH_N', 'BAD_N', 'BCL2_N',\n",
       "       'pS6_N', 'pCFOS_N', 'SYP_N', 'H3AcK18_N', 'EGR1_N', 'H3MeK4_N',\n",
       "       'CaNA_N', 'Genotype', 'Treatment', 'Behavior', 'class'],\n",
       "      dtype='object')"
      ]
     },
     "execution_count": 9,
     "metadata": {},
     "output_type": "execute_result"
    }
   ],
   "source": [
    "#Show all the columns in the dataframe\n",
    "df.columns"
   ]
  },
  {
   "cell_type": "code",
   "execution_count": 10,
   "metadata": {},
   "outputs": [
    {
     "data": {
      "text/plain": [
       "3517_11    1\n",
       "3489_9     1\n",
       "3476_3     1\n",
       "3499_15    1\n",
       "3497_9     1\n",
       "          ..\n",
       "3521_9     1\n",
       "3414_1     1\n",
       "364_7      1\n",
       "3522_2     1\n",
       "3489_11    1\n",
       "Name: MouseID, Length: 1080, dtype: int64"
      ]
     },
     "execution_count": 10,
     "metadata": {},
     "output_type": "execute_result"
    }
   ],
   "source": [
    "#Check for data entry error and outlier with frequency table\n",
    "df['MouseID'].value_counts()"
   ]
  },
  {
   "cell_type": "code",
   "execution_count": 11,
   "metadata": {},
   "outputs": [
    {
     "data": {
      "text/plain": [
       "Control    570\n",
       "Ts65Dn     510\n",
       "Name: Genotype, dtype: int64"
      ]
     },
     "execution_count": 11,
     "metadata": {},
     "output_type": "execute_result"
    }
   ],
   "source": [
    "#Check for data entry error and outlier with frequency table\n",
    "df['Genotype'].value_counts()"
   ]
  },
  {
   "cell_type": "code",
   "execution_count": 12,
   "metadata": {
    "scrolled": true
   },
   "outputs": [
    {
     "data": {
      "text/plain": [
       "Memantine    570\n",
       "Saline       510\n",
       "Name: Treatment, dtype: int64"
      ]
     },
     "execution_count": 12,
     "metadata": {},
     "output_type": "execute_result"
    }
   ],
   "source": [
    "#Check for data entry error and outlier with frequency table\n",
    "df['Treatment'].value_counts()"
   ]
  },
  {
   "cell_type": "code",
   "execution_count": 13,
   "metadata": {},
   "outputs": [
    {
     "data": {
      "text/plain": [
       "S/C    555\n",
       "C/S    525\n",
       "Name: Behavior, dtype: int64"
      ]
     },
     "execution_count": 13,
     "metadata": {},
     "output_type": "execute_result"
    }
   ],
   "source": [
    "#Check for data entry error and outlier with frequency table\n",
    "df['Behavior'].value_counts()"
   ]
  },
  {
   "cell_type": "code",
   "execution_count": 14,
   "metadata": {
    "scrolled": false
   },
   "outputs": [
    {
     "data": {
      "text/plain": [
       "c-SC-m    150\n",
       "c-CS-m    150\n",
       "t-SC-m    135\n",
       "t-CS-m    135\n",
       "c-CS-s    135\n",
       "c-SC-s    135\n",
       "t-SC-s    135\n",
       "t-CS-s    105\n",
       "Name: class, dtype: int64"
      ]
     },
     "execution_count": 14,
     "metadata": {},
     "output_type": "execute_result"
    }
   ],
   "source": [
    "#Check for data entry error and outlier with frequency table\n",
    "df['class'].value_counts()"
   ]
  },
  {
   "cell_type": "code",
   "execution_count": 15,
   "metadata": {
    "scrolled": false
   },
   "outputs": [
    {
     "data": {
      "text/plain": [
       "Index(['DYRK1A_N', 'ITSN1_N', 'BDNF_N', 'NR1_N', 'NR2A_N', 'pAKT_N', 'pBRAF_N',\n",
       "       'pCAMKII_N', 'pCREB_N', 'pELK_N', 'pERK_N', 'pJNK_N', 'PKCA_N',\n",
       "       'pMEK_N', 'pNR1_N', 'pNR2A_N', 'pNR2B_N', 'pPKCAB_N', 'pRSK_N', 'AKT_N',\n",
       "       'BRAF_N', 'CAMKII_N', 'CREB_N', 'ELK_N', 'ERK_N', 'GSK3B_N', 'JNK_N',\n",
       "       'MEK_N', 'TRKA_N', 'RSK_N', 'APP_N', 'Bcatenin_N', 'SOD1_N', 'MTOR_N',\n",
       "       'P38_N', 'pMTOR_N', 'DSCR1_N', 'AMPKA_N', 'NR2B_N', 'pNUMB_N',\n",
       "       'RAPTOR_N', 'TIAM1_N', 'pP70S6_N', 'NUMB_N', 'P70S6_N', 'pGSK3B_N',\n",
       "       'pPKCG_N', 'CDK5_N', 'S6_N', 'ADARB1_N', 'AcetylH3K9_N', 'RRP1_N',\n",
       "       'BAX_N', 'ARC_N', 'ERBB4_N', 'nNOS_N', 'Tau_N', 'GFAP_N', 'GluR3_N',\n",
       "       'GluR4_N', 'IL1B_N', 'P3525_N', 'pCASP9_N', 'PSD95_N', 'SNCA_N',\n",
       "       'Ubiquitin_N', 'pGSK3B_Tyr216_N', 'SHH_N', 'BAD_N', 'BCL2_N', 'pS6_N',\n",
       "       'pCFOS_N', 'SYP_N', 'H3AcK18_N', 'EGR1_N', 'H3MeK4_N', 'CaNA_N'],\n",
       "      dtype='object')"
      ]
     },
     "execution_count": 15,
     "metadata": {},
     "output_type": "execute_result"
    }
   ],
   "source": [
    "#Locate the proteins and check them\n",
    "proteins = df.iloc[:,1:78]\n",
    "proteins.columns"
   ]
  },
  {
   "cell_type": "code",
   "execution_count": 16,
   "metadata": {
    "scrolled": true
   },
   "outputs": [
    {
     "data": {
      "text/plain": [
       "(1080, 77)"
      ]
     },
     "execution_count": 16,
     "metadata": {},
     "output_type": "execute_result"
    }
   ],
   "source": [
    "#Check the dimension and size for the proteins\n",
    "proteins.shape"
   ]
  },
  {
   "cell_type": "code",
   "execution_count": 17,
   "metadata": {
    "scrolled": false
   },
   "outputs": [
    {
     "name": "stdout",
     "output_type": "stream",
     "text": [
      "DYRK1A_N False\n",
      "ITSN1_N False\n",
      "BDNF_N False\n",
      "NR1_N False\n",
      "NR2A_N False\n",
      "pAKT_N False\n",
      "pBRAF_N False\n",
      "pCAMKII_N False\n",
      "pCREB_N False\n",
      "pELK_N False\n",
      "pERK_N False\n",
      "pJNK_N False\n",
      "PKCA_N False\n",
      "pMEK_N False\n",
      "pNR1_N False\n",
      "pNR2A_N False\n",
      "pNR2B_N False\n",
      "pPKCAB_N False\n",
      "pRSK_N False\n",
      "AKT_N False\n",
      "BRAF_N False\n",
      "CAMKII_N False\n",
      "CREB_N False\n",
      "ELK_N False\n",
      "ERK_N False\n",
      "GSK3B_N False\n",
      "JNK_N False\n",
      "MEK_N False\n",
      "TRKA_N False\n",
      "RSK_N False\n",
      "APP_N False\n",
      "Bcatenin_N False\n",
      "SOD1_N False\n",
      "MTOR_N False\n",
      "P38_N False\n",
      "pMTOR_N False\n",
      "DSCR1_N False\n",
      "AMPKA_N False\n",
      "NR2B_N False\n",
      "pNUMB_N False\n",
      "RAPTOR_N False\n",
      "TIAM1_N False\n",
      "pP70S6_N False\n",
      "NUMB_N False\n",
      "P70S6_N False\n",
      "pGSK3B_N False\n",
      "pPKCG_N False\n",
      "CDK5_N False\n",
      "S6_N False\n",
      "ADARB1_N False\n",
      "AcetylH3K9_N False\n",
      "RRP1_N False\n",
      "BAX_N False\n",
      "ARC_N False\n",
      "ERBB4_N False\n",
      "nNOS_N False\n",
      "Tau_N False\n",
      "GFAP_N False\n",
      "GluR3_N False\n",
      "GluR4_N False\n",
      "IL1B_N False\n",
      "P3525_N False\n",
      "pCASP9_N False\n",
      "PSD95_N False\n",
      "SNCA_N False\n",
      "Ubiquitin_N False\n",
      "pGSK3B_Tyr216_N False\n",
      "SHH_N False\n",
      "BAD_N False\n",
      "BCL2_N False\n",
      "pS6_N False\n",
      "pCFOS_N False\n",
      "SYP_N False\n",
      "H3AcK18_N False\n",
      "EGR1_N False\n",
      "H3MeK4_N False\n",
      "CaNA_N False\n"
     ]
    }
   ],
   "source": [
    "#Do a sanity check for the proteins to check for impossible values\n",
    "for i in proteins:\n",
    "    data_sanitycheck = df.loc[(df[i] > 10)]\n",
    "    print(i,data_sanitycheck.any().any())"
   ]
  },
  {
   "cell_type": "code",
   "execution_count": 18,
   "metadata": {
    "scrolled": false
   },
   "outputs": [
    {
     "name": "stdout",
     "output_type": "stream",
     "text": [
      "DYRK1A_N False\n",
      "ITSN1_N False\n",
      "BDNF_N False\n",
      "NR1_N False\n",
      "NR2A_N False\n",
      "pAKT_N False\n",
      "pBRAF_N False\n",
      "pCAMKII_N False\n",
      "pCREB_N False\n",
      "pELK_N False\n",
      "pERK_N False\n",
      "pJNK_N False\n",
      "PKCA_N False\n",
      "pMEK_N False\n",
      "pNR1_N False\n",
      "pNR2A_N False\n",
      "pNR2B_N False\n",
      "pPKCAB_N False\n",
      "pRSK_N False\n",
      "AKT_N False\n",
      "BRAF_N False\n",
      "CAMKII_N False\n",
      "CREB_N False\n",
      "ELK_N False\n",
      "ERK_N False\n",
      "GSK3B_N False\n",
      "JNK_N False\n",
      "MEK_N False\n",
      "TRKA_N False\n",
      "RSK_N False\n",
      "APP_N False\n",
      "Bcatenin_N False\n",
      "SOD1_N False\n",
      "MTOR_N False\n",
      "P38_N False\n",
      "pMTOR_N False\n",
      "DSCR1_N False\n",
      "AMPKA_N False\n",
      "NR2B_N False\n",
      "pNUMB_N False\n",
      "RAPTOR_N False\n",
      "TIAM1_N False\n",
      "pP70S6_N False\n",
      "NUMB_N False\n",
      "P70S6_N False\n",
      "pGSK3B_N False\n",
      "pPKCG_N False\n",
      "CDK5_N False\n",
      "S6_N False\n",
      "ADARB1_N False\n",
      "AcetylH3K9_N False\n",
      "RRP1_N True\n",
      "BAX_N False\n",
      "ARC_N False\n",
      "ERBB4_N False\n",
      "nNOS_N False\n",
      "Tau_N False\n",
      "GFAP_N False\n",
      "GluR3_N False\n",
      "GluR4_N False\n",
      "IL1B_N False\n",
      "P3525_N False\n",
      "pCASP9_N False\n",
      "PSD95_N False\n",
      "SNCA_N False\n",
      "Ubiquitin_N False\n",
      "pGSK3B_Tyr216_N False\n",
      "SHH_N False\n",
      "BAD_N False\n",
      "BCL2_N False\n",
      "pS6_N False\n",
      "pCFOS_N False\n",
      "SYP_N False\n",
      "H3AcK18_N False\n",
      "EGR1_N False\n",
      "H3MeK4_N False\n",
      "CaNA_N False\n"
     ]
    }
   ],
   "source": [
    "#Do a sanity check for the proteins to check for impossible values\n",
    "for i in proteins:\n",
    "    data_sanitycheck = df.loc[(df[i] < 0)]\n",
    "    print(i,data_sanitycheck.any().any())"
   ]
  },
  {
   "cell_type": "code",
   "execution_count": 19,
   "metadata": {
    "scrolled": true
   },
   "outputs": [
    {
     "data": {
      "text/plain": [
       "(1080, 82)"
      ]
     },
     "execution_count": 19,
     "metadata": {},
     "output_type": "execute_result"
    }
   ],
   "source": [
    "#Check the dimension and size of the dataframe \n",
    "df.shape"
   ]
  },
  {
   "cell_type": "code",
   "execution_count": 20,
   "metadata": {},
   "outputs": [
    {
     "data": {
      "text/html": [
       "<div>\n",
       "<style scoped>\n",
       "    .dataframe tbody tr th:only-of-type {\n",
       "        vertical-align: middle;\n",
       "    }\n",
       "\n",
       "    .dataframe tbody tr th {\n",
       "        vertical-align: top;\n",
       "    }\n",
       "\n",
       "    .dataframe thead th {\n",
       "        text-align: right;\n",
       "    }\n",
       "</style>\n",
       "<table border=\"1\" class=\"dataframe\">\n",
       "  <thead>\n",
       "    <tr style=\"text-align: right;\">\n",
       "      <th></th>\n",
       "      <th>DYRK1A_N</th>\n",
       "      <th>ITSN1_N</th>\n",
       "      <th>BDNF_N</th>\n",
       "      <th>NR1_N</th>\n",
       "      <th>NR2A_N</th>\n",
       "      <th>pAKT_N</th>\n",
       "      <th>pBRAF_N</th>\n",
       "      <th>pCAMKII_N</th>\n",
       "      <th>pCREB_N</th>\n",
       "      <th>pELK_N</th>\n",
       "      <th>...</th>\n",
       "      <th>SHH_N</th>\n",
       "      <th>BAD_N</th>\n",
       "      <th>BCL2_N</th>\n",
       "      <th>pS6_N</th>\n",
       "      <th>pCFOS_N</th>\n",
       "      <th>SYP_N</th>\n",
       "      <th>H3AcK18_N</th>\n",
       "      <th>EGR1_N</th>\n",
       "      <th>H3MeK4_N</th>\n",
       "      <th>CaNA_N</th>\n",
       "    </tr>\n",
       "  </thead>\n",
       "  <tbody>\n",
       "    <tr>\n",
       "      <td>count</td>\n",
       "      <td>1077.000000</td>\n",
       "      <td>1077.000000</td>\n",
       "      <td>1077.000000</td>\n",
       "      <td>1077.000000</td>\n",
       "      <td>1077.000000</td>\n",
       "      <td>1077.000000</td>\n",
       "      <td>1077.000000</td>\n",
       "      <td>1077.000000</td>\n",
       "      <td>1077.000000</td>\n",
       "      <td>1077.000000</td>\n",
       "      <td>...</td>\n",
       "      <td>1080.000000</td>\n",
       "      <td>867.000000</td>\n",
       "      <td>795.000000</td>\n",
       "      <td>1080.000000</td>\n",
       "      <td>1005.000000</td>\n",
       "      <td>1080.000000</td>\n",
       "      <td>900.000000</td>\n",
       "      <td>870.000000</td>\n",
       "      <td>810.000000</td>\n",
       "      <td>1080.000000</td>\n",
       "    </tr>\n",
       "    <tr>\n",
       "      <td>mean</td>\n",
       "      <td>0.425810</td>\n",
       "      <td>0.617102</td>\n",
       "      <td>0.319088</td>\n",
       "      <td>2.297269</td>\n",
       "      <td>3.843934</td>\n",
       "      <td>0.233168</td>\n",
       "      <td>0.181846</td>\n",
       "      <td>3.537109</td>\n",
       "      <td>0.212574</td>\n",
       "      <td>1.428682</td>\n",
       "      <td>...</td>\n",
       "      <td>0.226676</td>\n",
       "      <td>0.157914</td>\n",
       "      <td>0.134762</td>\n",
       "      <td>0.121521</td>\n",
       "      <td>0.131053</td>\n",
       "      <td>0.446073</td>\n",
       "      <td>0.169609</td>\n",
       "      <td>0.183135</td>\n",
       "      <td>0.205440</td>\n",
       "      <td>1.337784</td>\n",
       "    </tr>\n",
       "    <tr>\n",
       "      <td>std</td>\n",
       "      <td>0.249362</td>\n",
       "      <td>0.251640</td>\n",
       "      <td>0.049383</td>\n",
       "      <td>0.347293</td>\n",
       "      <td>0.933100</td>\n",
       "      <td>0.041634</td>\n",
       "      <td>0.027042</td>\n",
       "      <td>1.295169</td>\n",
       "      <td>0.032587</td>\n",
       "      <td>0.466904</td>\n",
       "      <td>...</td>\n",
       "      <td>0.028989</td>\n",
       "      <td>0.029537</td>\n",
       "      <td>0.027417</td>\n",
       "      <td>0.014276</td>\n",
       "      <td>0.023863</td>\n",
       "      <td>0.066432</td>\n",
       "      <td>0.059402</td>\n",
       "      <td>0.040406</td>\n",
       "      <td>0.055514</td>\n",
       "      <td>0.317126</td>\n",
       "    </tr>\n",
       "    <tr>\n",
       "      <td>min</td>\n",
       "      <td>0.145327</td>\n",
       "      <td>0.245359</td>\n",
       "      <td>0.115181</td>\n",
       "      <td>1.330831</td>\n",
       "      <td>1.737540</td>\n",
       "      <td>0.063236</td>\n",
       "      <td>0.064043</td>\n",
       "      <td>1.343998</td>\n",
       "      <td>0.112812</td>\n",
       "      <td>0.429032</td>\n",
       "      <td>...</td>\n",
       "      <td>0.155869</td>\n",
       "      <td>0.088305</td>\n",
       "      <td>0.080657</td>\n",
       "      <td>0.067254</td>\n",
       "      <td>0.085419</td>\n",
       "      <td>0.258626</td>\n",
       "      <td>0.079691</td>\n",
       "      <td>0.105537</td>\n",
       "      <td>0.101787</td>\n",
       "      <td>0.586479</td>\n",
       "    </tr>\n",
       "    <tr>\n",
       "      <td>25%</td>\n",
       "      <td>0.288121</td>\n",
       "      <td>0.473361</td>\n",
       "      <td>0.287444</td>\n",
       "      <td>2.057411</td>\n",
       "      <td>3.155678</td>\n",
       "      <td>0.205755</td>\n",
       "      <td>0.164595</td>\n",
       "      <td>2.479834</td>\n",
       "      <td>0.190823</td>\n",
       "      <td>1.203665</td>\n",
       "      <td>...</td>\n",
       "      <td>0.206395</td>\n",
       "      <td>0.136424</td>\n",
       "      <td>0.115554</td>\n",
       "      <td>0.110839</td>\n",
       "      <td>0.113506</td>\n",
       "      <td>0.398082</td>\n",
       "      <td>0.125848</td>\n",
       "      <td>0.155121</td>\n",
       "      <td>0.165143</td>\n",
       "      <td>1.081423</td>\n",
       "    </tr>\n",
       "    <tr>\n",
       "      <td>50%</td>\n",
       "      <td>0.366378</td>\n",
       "      <td>0.565782</td>\n",
       "      <td>0.316564</td>\n",
       "      <td>2.296546</td>\n",
       "      <td>3.760855</td>\n",
       "      <td>0.231177</td>\n",
       "      <td>0.182302</td>\n",
       "      <td>3.326520</td>\n",
       "      <td>0.210594</td>\n",
       "      <td>1.355846</td>\n",
       "      <td>...</td>\n",
       "      <td>0.224000</td>\n",
       "      <td>0.152313</td>\n",
       "      <td>0.129468</td>\n",
       "      <td>0.121626</td>\n",
       "      <td>0.126523</td>\n",
       "      <td>0.448459</td>\n",
       "      <td>0.158240</td>\n",
       "      <td>0.174935</td>\n",
       "      <td>0.193994</td>\n",
       "      <td>1.317441</td>\n",
       "    </tr>\n",
       "    <tr>\n",
       "      <td>75%</td>\n",
       "      <td>0.487711</td>\n",
       "      <td>0.698032</td>\n",
       "      <td>0.348197</td>\n",
       "      <td>2.528481</td>\n",
       "      <td>4.440011</td>\n",
       "      <td>0.257261</td>\n",
       "      <td>0.197418</td>\n",
       "      <td>4.481940</td>\n",
       "      <td>0.234595</td>\n",
       "      <td>1.561316</td>\n",
       "      <td>...</td>\n",
       "      <td>0.241655</td>\n",
       "      <td>0.174017</td>\n",
       "      <td>0.148235</td>\n",
       "      <td>0.131955</td>\n",
       "      <td>0.143652</td>\n",
       "      <td>0.490773</td>\n",
       "      <td>0.197876</td>\n",
       "      <td>0.204542</td>\n",
       "      <td>0.235215</td>\n",
       "      <td>1.585824</td>\n",
       "    </tr>\n",
       "    <tr>\n",
       "      <td>max</td>\n",
       "      <td>2.516367</td>\n",
       "      <td>2.602662</td>\n",
       "      <td>0.497160</td>\n",
       "      <td>3.757641</td>\n",
       "      <td>8.482553</td>\n",
       "      <td>0.539050</td>\n",
       "      <td>0.317066</td>\n",
       "      <td>7.464070</td>\n",
       "      <td>0.306247</td>\n",
       "      <td>6.113347</td>\n",
       "      <td>...</td>\n",
       "      <td>0.358289</td>\n",
       "      <td>0.282016</td>\n",
       "      <td>0.261506</td>\n",
       "      <td>0.158748</td>\n",
       "      <td>0.256529</td>\n",
       "      <td>0.759588</td>\n",
       "      <td>0.479763</td>\n",
       "      <td>0.360692</td>\n",
       "      <td>0.413903</td>\n",
       "      <td>2.129791</td>\n",
       "    </tr>\n",
       "  </tbody>\n",
       "</table>\n",
       "<p>8 rows × 77 columns</p>\n",
       "</div>"
      ],
      "text/plain": [
       "          DYRK1A_N      ITSN1_N       BDNF_N        NR1_N       NR2A_N  \\\n",
       "count  1077.000000  1077.000000  1077.000000  1077.000000  1077.000000   \n",
       "mean      0.425810     0.617102     0.319088     2.297269     3.843934   \n",
       "std       0.249362     0.251640     0.049383     0.347293     0.933100   \n",
       "min       0.145327     0.245359     0.115181     1.330831     1.737540   \n",
       "25%       0.288121     0.473361     0.287444     2.057411     3.155678   \n",
       "50%       0.366378     0.565782     0.316564     2.296546     3.760855   \n",
       "75%       0.487711     0.698032     0.348197     2.528481     4.440011   \n",
       "max       2.516367     2.602662     0.497160     3.757641     8.482553   \n",
       "\n",
       "            pAKT_N      pBRAF_N    pCAMKII_N      pCREB_N       pELK_N  ...  \\\n",
       "count  1077.000000  1077.000000  1077.000000  1077.000000  1077.000000  ...   \n",
       "mean      0.233168     0.181846     3.537109     0.212574     1.428682  ...   \n",
       "std       0.041634     0.027042     1.295169     0.032587     0.466904  ...   \n",
       "min       0.063236     0.064043     1.343998     0.112812     0.429032  ...   \n",
       "25%       0.205755     0.164595     2.479834     0.190823     1.203665  ...   \n",
       "50%       0.231177     0.182302     3.326520     0.210594     1.355846  ...   \n",
       "75%       0.257261     0.197418     4.481940     0.234595     1.561316  ...   \n",
       "max       0.539050     0.317066     7.464070     0.306247     6.113347  ...   \n",
       "\n",
       "             SHH_N       BAD_N      BCL2_N        pS6_N      pCFOS_N  \\\n",
       "count  1080.000000  867.000000  795.000000  1080.000000  1005.000000   \n",
       "mean      0.226676    0.157914    0.134762     0.121521     0.131053   \n",
       "std       0.028989    0.029537    0.027417     0.014276     0.023863   \n",
       "min       0.155869    0.088305    0.080657     0.067254     0.085419   \n",
       "25%       0.206395    0.136424    0.115554     0.110839     0.113506   \n",
       "50%       0.224000    0.152313    0.129468     0.121626     0.126523   \n",
       "75%       0.241655    0.174017    0.148235     0.131955     0.143652   \n",
       "max       0.358289    0.282016    0.261506     0.158748     0.256529   \n",
       "\n",
       "             SYP_N   H3AcK18_N      EGR1_N    H3MeK4_N       CaNA_N  \n",
       "count  1080.000000  900.000000  870.000000  810.000000  1080.000000  \n",
       "mean      0.446073    0.169609    0.183135    0.205440     1.337784  \n",
       "std       0.066432    0.059402    0.040406    0.055514     0.317126  \n",
       "min       0.258626    0.079691    0.105537    0.101787     0.586479  \n",
       "25%       0.398082    0.125848    0.155121    0.165143     1.081423  \n",
       "50%       0.448459    0.158240    0.174935    0.193994     1.317441  \n",
       "75%       0.490773    0.197876    0.204542    0.235215     1.585824  \n",
       "max       0.759588    0.479763    0.360692    0.413903     2.129791  \n",
       "\n",
       "[8 rows x 77 columns]"
      ]
     },
     "execution_count": 20,
     "metadata": {},
     "output_type": "execute_result"
    }
   ],
   "source": [
    "#View some basic statistical details like percentile, mean, std etc for all the proteins\n",
    "df.describe()"
   ]
  },
  {
   "cell_type": "code",
   "execution_count": 21,
   "metadata": {
    "scrolled": false
   },
   "outputs": [
    {
     "data": {
      "text/plain": [
       "MouseID      0\n",
       "DYRK1A_N     3\n",
       "ITSN1_N      3\n",
       "BDNF_N       3\n",
       "NR1_N        3\n",
       "            ..\n",
       "CaNA_N       0\n",
       "Genotype     0\n",
       "Treatment    0\n",
       "Behavior     0\n",
       "class        0\n",
       "Length: 82, dtype: int64"
      ]
     },
     "execution_count": 21,
     "metadata": {},
     "output_type": "execute_result"
    }
   ],
   "source": [
    "#Check for null values\n",
    "df.isnull().sum()"
   ]
  },
  {
   "cell_type": "code",
   "execution_count": 22,
   "metadata": {
    "scrolled": true
   },
   "outputs": [
    {
     "data": {
      "text/html": [
       "<div>\n",
       "<style scoped>\n",
       "    .dataframe tbody tr th:only-of-type {\n",
       "        vertical-align: middle;\n",
       "    }\n",
       "\n",
       "    .dataframe tbody tr th {\n",
       "        vertical-align: top;\n",
       "    }\n",
       "\n",
       "    .dataframe thead th {\n",
       "        text-align: right;\n",
       "    }\n",
       "</style>\n",
       "<table border=\"1\" class=\"dataframe\">\n",
       "  <thead>\n",
       "    <tr style=\"text-align: right;\">\n",
       "      <th></th>\n",
       "      <th>MouseID</th>\n",
       "      <th>DYRK1A_N</th>\n",
       "      <th>ITSN1_N</th>\n",
       "      <th>BDNF_N</th>\n",
       "      <th>NR1_N</th>\n",
       "      <th>NR2A_N</th>\n",
       "      <th>pAKT_N</th>\n",
       "      <th>pBRAF_N</th>\n",
       "      <th>pCAMKII_N</th>\n",
       "      <th>pCREB_N</th>\n",
       "      <th>...</th>\n",
       "      <th>pCFOS_N</th>\n",
       "      <th>SYP_N</th>\n",
       "      <th>H3AcK18_N</th>\n",
       "      <th>EGR1_N</th>\n",
       "      <th>H3MeK4_N</th>\n",
       "      <th>CaNA_N</th>\n",
       "      <th>Genotype</th>\n",
       "      <th>Treatment</th>\n",
       "      <th>Behavior</th>\n",
       "      <th>class</th>\n",
       "    </tr>\n",
       "  </thead>\n",
       "  <tbody>\n",
       "    <tr>\n",
       "      <td>987</td>\n",
       "      <td>3426_13</td>\n",
       "      <td>NaN</td>\n",
       "      <td>NaN</td>\n",
       "      <td>NaN</td>\n",
       "      <td>NaN</td>\n",
       "      <td>NaN</td>\n",
       "      <td>NaN</td>\n",
       "      <td>NaN</td>\n",
       "      <td>NaN</td>\n",
       "      <td>NaN</td>\n",
       "      <td>...</td>\n",
       "      <td>0.112854</td>\n",
       "      <td>0.405540</td>\n",
       "      <td>0.151693</td>\n",
       "      <td>0.163125</td>\n",
       "      <td>0.208852</td>\n",
       "      <td>1.443353</td>\n",
       "      <td>Ts65Dn</td>\n",
       "      <td>Saline</td>\n",
       "      <td>S/C</td>\n",
       "      <td>t-SC-s</td>\n",
       "    </tr>\n",
       "    <tr>\n",
       "      <td>988</td>\n",
       "      <td>3426_14</td>\n",
       "      <td>NaN</td>\n",
       "      <td>NaN</td>\n",
       "      <td>NaN</td>\n",
       "      <td>NaN</td>\n",
       "      <td>NaN</td>\n",
       "      <td>NaN</td>\n",
       "      <td>NaN</td>\n",
       "      <td>NaN</td>\n",
       "      <td>NaN</td>\n",
       "      <td>...</td>\n",
       "      <td>0.120664</td>\n",
       "      <td>0.422986</td>\n",
       "      <td>0.175044</td>\n",
       "      <td>0.185038</td>\n",
       "      <td>0.195326</td>\n",
       "      <td>1.443269</td>\n",
       "      <td>Ts65Dn</td>\n",
       "      <td>Saline</td>\n",
       "      <td>S/C</td>\n",
       "      <td>t-SC-s</td>\n",
       "    </tr>\n",
       "    <tr>\n",
       "      <td>989</td>\n",
       "      <td>3426_15</td>\n",
       "      <td>NaN</td>\n",
       "      <td>NaN</td>\n",
       "      <td>NaN</td>\n",
       "      <td>NaN</td>\n",
       "      <td>NaN</td>\n",
       "      <td>NaN</td>\n",
       "      <td>NaN</td>\n",
       "      <td>NaN</td>\n",
       "      <td>NaN</td>\n",
       "      <td>...</td>\n",
       "      <td>0.098278</td>\n",
       "      <td>0.427405</td>\n",
       "      <td>0.172209</td>\n",
       "      <td>0.200861</td>\n",
       "      <td>0.233076</td>\n",
       "      <td>1.495249</td>\n",
       "      <td>Ts65Dn</td>\n",
       "      <td>Saline</td>\n",
       "      <td>S/C</td>\n",
       "      <td>t-SC-s</td>\n",
       "    </tr>\n",
       "  </tbody>\n",
       "</table>\n",
       "<p>3 rows × 82 columns</p>\n",
       "</div>"
      ],
      "text/plain": [
       "     MouseID  DYRK1A_N  ITSN1_N  BDNF_N  NR1_N  NR2A_N  pAKT_N  pBRAF_N  \\\n",
       "987  3426_13       NaN      NaN     NaN    NaN     NaN     NaN      NaN   \n",
       "988  3426_14       NaN      NaN     NaN    NaN     NaN     NaN      NaN   \n",
       "989  3426_15       NaN      NaN     NaN    NaN     NaN     NaN      NaN   \n",
       "\n",
       "     pCAMKII_N  pCREB_N  ...   pCFOS_N     SYP_N  H3AcK18_N    EGR1_N  \\\n",
       "987        NaN      NaN  ...  0.112854  0.405540   0.151693  0.163125   \n",
       "988        NaN      NaN  ...  0.120664  0.422986   0.175044  0.185038   \n",
       "989        NaN      NaN  ...  0.098278  0.427405   0.172209  0.200861   \n",
       "\n",
       "     H3MeK4_N    CaNA_N  Genotype  Treatment  Behavior   class  \n",
       "987  0.208852  1.443353    Ts65Dn     Saline       S/C  t-SC-s  \n",
       "988  0.195326  1.443269    Ts65Dn     Saline       S/C  t-SC-s  \n",
       "989  0.233076  1.495249    Ts65Dn     Saline       S/C  t-SC-s  \n",
       "\n",
       "[3 rows x 82 columns]"
      ]
     },
     "execution_count": 22,
     "metadata": {},
     "output_type": "execute_result"
    }
   ],
   "source": [
    "#Double check if it is true that they are null/NaN\n",
    "df[df['DYRK1A_N'].isnull()]"
   ]
  },
  {
   "cell_type": "code",
   "execution_count": 23,
   "metadata": {},
   "outputs": [
    {
     "data": {
      "text/plain": [
       "MouseID      3426_13\n",
       "DYRK1A_N         NaN\n",
       "ITSN1_N          NaN\n",
       "BDNF_N           NaN\n",
       "NR1_N            NaN\n",
       "              ...   \n",
       "CaNA_N       1.44335\n",
       "Genotype      Ts65Dn\n",
       "Treatment     Saline\n",
       "Behavior         S/C\n",
       "class         t-SC-s\n",
       "Name: 987, Length: 82, dtype: object"
      ]
     },
     "execution_count": 23,
     "metadata": {},
     "output_type": "execute_result"
    }
   ],
   "source": [
    "#Double check the specific row if it is true that they are null/NaN\n",
    "df.loc[987]"
   ]
  },
  {
   "cell_type": "code",
   "execution_count": 24,
   "metadata": {},
   "outputs": [],
   "source": [
    "#Fill the data frame with mean\n",
    "df = df.fillna(df.mean())"
   ]
  },
  {
   "cell_type": "code",
   "execution_count": 25,
   "metadata": {},
   "outputs": [
    {
     "data": {
      "text/plain": [
       "MouseID       3426_13\n",
       "DYRK1A_N      0.42581\n",
       "ITSN1_N      0.617102\n",
       "BDNF_N       0.319088\n",
       "NR1_N         2.29727\n",
       "               ...   \n",
       "CaNA_N        1.44335\n",
       "Genotype       Ts65Dn\n",
       "Treatment      Saline\n",
       "Behavior          S/C\n",
       "class          t-SC-s\n",
       "Name: 987, Length: 82, dtype: object"
      ]
     },
     "execution_count": 25,
     "metadata": {},
     "output_type": "execute_result"
    }
   ],
   "source": [
    "#Check the specific row if the null values are filled with the mean\n",
    "df.loc[987]"
   ]
  },
  {
   "cell_type": "code",
   "execution_count": 26,
   "metadata": {
    "scrolled": true
   },
   "outputs": [
    {
     "data": {
      "text/html": [
       "<div>\n",
       "<style scoped>\n",
       "    .dataframe tbody tr th:only-of-type {\n",
       "        vertical-align: middle;\n",
       "    }\n",
       "\n",
       "    .dataframe tbody tr th {\n",
       "        vertical-align: top;\n",
       "    }\n",
       "\n",
       "    .dataframe thead th {\n",
       "        text-align: right;\n",
       "    }\n",
       "</style>\n",
       "<table border=\"1\" class=\"dataframe\">\n",
       "  <thead>\n",
       "    <tr style=\"text-align: right;\">\n",
       "      <th></th>\n",
       "      <th>DYRK1A_N</th>\n",
       "      <th>ITSN1_N</th>\n",
       "      <th>BDNF_N</th>\n",
       "      <th>NR1_N</th>\n",
       "      <th>NR2A_N</th>\n",
       "      <th>pAKT_N</th>\n",
       "      <th>pBRAF_N</th>\n",
       "      <th>pCAMKII_N</th>\n",
       "      <th>pCREB_N</th>\n",
       "      <th>pELK_N</th>\n",
       "      <th>...</th>\n",
       "      <th>SHH_N</th>\n",
       "      <th>BAD_N</th>\n",
       "      <th>BCL2_N</th>\n",
       "      <th>pS6_N</th>\n",
       "      <th>pCFOS_N</th>\n",
       "      <th>SYP_N</th>\n",
       "      <th>H3AcK18_N</th>\n",
       "      <th>EGR1_N</th>\n",
       "      <th>H3MeK4_N</th>\n",
       "      <th>CaNA_N</th>\n",
       "    </tr>\n",
       "  </thead>\n",
       "  <tbody>\n",
       "    <tr>\n",
       "      <td>count</td>\n",
       "      <td>1080.000000</td>\n",
       "      <td>1080.000000</td>\n",
       "      <td>1080.000000</td>\n",
       "      <td>1080.000000</td>\n",
       "      <td>1080.000000</td>\n",
       "      <td>1080.000000</td>\n",
       "      <td>1080.000000</td>\n",
       "      <td>1080.000000</td>\n",
       "      <td>1080.000000</td>\n",
       "      <td>1080.000000</td>\n",
       "      <td>...</td>\n",
       "      <td>1080.000000</td>\n",
       "      <td>1080.000000</td>\n",
       "      <td>1080.000000</td>\n",
       "      <td>1080.000000</td>\n",
       "      <td>1080.000000</td>\n",
       "      <td>1080.000000</td>\n",
       "      <td>1080.000000</td>\n",
       "      <td>1080.000000</td>\n",
       "      <td>1080.000000</td>\n",
       "      <td>1080.000000</td>\n",
       "    </tr>\n",
       "    <tr>\n",
       "      <td>mean</td>\n",
       "      <td>0.425810</td>\n",
       "      <td>0.617102</td>\n",
       "      <td>0.319088</td>\n",
       "      <td>2.297269</td>\n",
       "      <td>3.843934</td>\n",
       "      <td>0.233168</td>\n",
       "      <td>0.181846</td>\n",
       "      <td>3.537109</td>\n",
       "      <td>0.212574</td>\n",
       "      <td>1.428682</td>\n",
       "      <td>...</td>\n",
       "      <td>0.226676</td>\n",
       "      <td>0.157914</td>\n",
       "      <td>0.134762</td>\n",
       "      <td>0.121521</td>\n",
       "      <td>0.131053</td>\n",
       "      <td>0.446073</td>\n",
       "      <td>0.169609</td>\n",
       "      <td>0.183135</td>\n",
       "      <td>0.205440</td>\n",
       "      <td>1.337784</td>\n",
       "    </tr>\n",
       "    <tr>\n",
       "      <td>std</td>\n",
       "      <td>0.249015</td>\n",
       "      <td>0.251290</td>\n",
       "      <td>0.049314</td>\n",
       "      <td>0.346810</td>\n",
       "      <td>0.931802</td>\n",
       "      <td>0.041577</td>\n",
       "      <td>0.027004</td>\n",
       "      <td>1.293368</td>\n",
       "      <td>0.032542</td>\n",
       "      <td>0.466254</td>\n",
       "      <td>...</td>\n",
       "      <td>0.028989</td>\n",
       "      <td>0.026461</td>\n",
       "      <td>0.023519</td>\n",
       "      <td>0.014276</td>\n",
       "      <td>0.023018</td>\n",
       "      <td>0.066432</td>\n",
       "      <td>0.054222</td>\n",
       "      <td>0.036261</td>\n",
       "      <td>0.048069</td>\n",
       "      <td>0.317126</td>\n",
       "    </tr>\n",
       "    <tr>\n",
       "      <td>min</td>\n",
       "      <td>0.145327</td>\n",
       "      <td>0.245359</td>\n",
       "      <td>0.115181</td>\n",
       "      <td>1.330831</td>\n",
       "      <td>1.737540</td>\n",
       "      <td>0.063236</td>\n",
       "      <td>0.064043</td>\n",
       "      <td>1.343998</td>\n",
       "      <td>0.112812</td>\n",
       "      <td>0.429032</td>\n",
       "      <td>...</td>\n",
       "      <td>0.155869</td>\n",
       "      <td>0.088305</td>\n",
       "      <td>0.080657</td>\n",
       "      <td>0.067254</td>\n",
       "      <td>0.085419</td>\n",
       "      <td>0.258626</td>\n",
       "      <td>0.079691</td>\n",
       "      <td>0.105537</td>\n",
       "      <td>0.101787</td>\n",
       "      <td>0.586479</td>\n",
       "    </tr>\n",
       "    <tr>\n",
       "      <td>25%</td>\n",
       "      <td>0.288163</td>\n",
       "      <td>0.473669</td>\n",
       "      <td>0.287650</td>\n",
       "      <td>2.059152</td>\n",
       "      <td>3.160287</td>\n",
       "      <td>0.205821</td>\n",
       "      <td>0.164619</td>\n",
       "      <td>2.479861</td>\n",
       "      <td>0.190828</td>\n",
       "      <td>1.206389</td>\n",
       "      <td>...</td>\n",
       "      <td>0.206395</td>\n",
       "      <td>0.141045</td>\n",
       "      <td>0.119986</td>\n",
       "      <td>0.110839</td>\n",
       "      <td>0.114373</td>\n",
       "      <td>0.398082</td>\n",
       "      <td>0.133969</td>\n",
       "      <td>0.159168</td>\n",
       "      <td>0.174271</td>\n",
       "      <td>1.081423</td>\n",
       "    </tr>\n",
       "    <tr>\n",
       "      <td>50%</td>\n",
       "      <td>0.366540</td>\n",
       "      <td>0.566365</td>\n",
       "      <td>0.316703</td>\n",
       "      <td>2.297269</td>\n",
       "      <td>3.763306</td>\n",
       "      <td>0.231246</td>\n",
       "      <td>0.182270</td>\n",
       "      <td>3.329624</td>\n",
       "      <td>0.210681</td>\n",
       "      <td>1.356368</td>\n",
       "      <td>...</td>\n",
       "      <td>0.224000</td>\n",
       "      <td>0.157914</td>\n",
       "      <td>0.134762</td>\n",
       "      <td>0.121626</td>\n",
       "      <td>0.128466</td>\n",
       "      <td>0.448459</td>\n",
       "      <td>0.169609</td>\n",
       "      <td>0.183135</td>\n",
       "      <td>0.205440</td>\n",
       "      <td>1.317441</td>\n",
       "    </tr>\n",
       "    <tr>\n",
       "      <td>75%</td>\n",
       "      <td>0.487574</td>\n",
       "      <td>0.697500</td>\n",
       "      <td>0.348039</td>\n",
       "      <td>2.528035</td>\n",
       "      <td>4.425107</td>\n",
       "      <td>0.257225</td>\n",
       "      <td>0.197226</td>\n",
       "      <td>4.480652</td>\n",
       "      <td>0.234558</td>\n",
       "      <td>1.560931</td>\n",
       "      <td>...</td>\n",
       "      <td>0.241655</td>\n",
       "      <td>0.167584</td>\n",
       "      <td>0.139331</td>\n",
       "      <td>0.131955</td>\n",
       "      <td>0.142427</td>\n",
       "      <td>0.490773</td>\n",
       "      <td>0.187174</td>\n",
       "      <td>0.196133</td>\n",
       "      <td>0.219242</td>\n",
       "      <td>1.585824</td>\n",
       "    </tr>\n",
       "    <tr>\n",
       "      <td>max</td>\n",
       "      <td>2.516367</td>\n",
       "      <td>2.602662</td>\n",
       "      <td>0.497160</td>\n",
       "      <td>3.757641</td>\n",
       "      <td>8.482553</td>\n",
       "      <td>0.539050</td>\n",
       "      <td>0.317066</td>\n",
       "      <td>7.464070</td>\n",
       "      <td>0.306247</td>\n",
       "      <td>6.113347</td>\n",
       "      <td>...</td>\n",
       "      <td>0.358289</td>\n",
       "      <td>0.282016</td>\n",
       "      <td>0.261506</td>\n",
       "      <td>0.158748</td>\n",
       "      <td>0.256529</td>\n",
       "      <td>0.759588</td>\n",
       "      <td>0.479763</td>\n",
       "      <td>0.360692</td>\n",
       "      <td>0.413903</td>\n",
       "      <td>2.129791</td>\n",
       "    </tr>\n",
       "  </tbody>\n",
       "</table>\n",
       "<p>8 rows × 77 columns</p>\n",
       "</div>"
      ],
      "text/plain": [
       "          DYRK1A_N      ITSN1_N       BDNF_N        NR1_N       NR2A_N  \\\n",
       "count  1080.000000  1080.000000  1080.000000  1080.000000  1080.000000   \n",
       "mean      0.425810     0.617102     0.319088     2.297269     3.843934   \n",
       "std       0.249015     0.251290     0.049314     0.346810     0.931802   \n",
       "min       0.145327     0.245359     0.115181     1.330831     1.737540   \n",
       "25%       0.288163     0.473669     0.287650     2.059152     3.160287   \n",
       "50%       0.366540     0.566365     0.316703     2.297269     3.763306   \n",
       "75%       0.487574     0.697500     0.348039     2.528035     4.425107   \n",
       "max       2.516367     2.602662     0.497160     3.757641     8.482553   \n",
       "\n",
       "            pAKT_N      pBRAF_N    pCAMKII_N      pCREB_N       pELK_N  ...  \\\n",
       "count  1080.000000  1080.000000  1080.000000  1080.000000  1080.000000  ...   \n",
       "mean      0.233168     0.181846     3.537109     0.212574     1.428682  ...   \n",
       "std       0.041577     0.027004     1.293368     0.032542     0.466254  ...   \n",
       "min       0.063236     0.064043     1.343998     0.112812     0.429032  ...   \n",
       "25%       0.205821     0.164619     2.479861     0.190828     1.206389  ...   \n",
       "50%       0.231246     0.182270     3.329624     0.210681     1.356368  ...   \n",
       "75%       0.257225     0.197226     4.480652     0.234558     1.560931  ...   \n",
       "max       0.539050     0.317066     7.464070     0.306247     6.113347  ...   \n",
       "\n",
       "             SHH_N        BAD_N       BCL2_N        pS6_N      pCFOS_N  \\\n",
       "count  1080.000000  1080.000000  1080.000000  1080.000000  1080.000000   \n",
       "mean      0.226676     0.157914     0.134762     0.121521     0.131053   \n",
       "std       0.028989     0.026461     0.023519     0.014276     0.023018   \n",
       "min       0.155869     0.088305     0.080657     0.067254     0.085419   \n",
       "25%       0.206395     0.141045     0.119986     0.110839     0.114373   \n",
       "50%       0.224000     0.157914     0.134762     0.121626     0.128466   \n",
       "75%       0.241655     0.167584     0.139331     0.131955     0.142427   \n",
       "max       0.358289     0.282016     0.261506     0.158748     0.256529   \n",
       "\n",
       "             SYP_N    H3AcK18_N       EGR1_N     H3MeK4_N       CaNA_N  \n",
       "count  1080.000000  1080.000000  1080.000000  1080.000000  1080.000000  \n",
       "mean      0.446073     0.169609     0.183135     0.205440     1.337784  \n",
       "std       0.066432     0.054222     0.036261     0.048069     0.317126  \n",
       "min       0.258626     0.079691     0.105537     0.101787     0.586479  \n",
       "25%       0.398082     0.133969     0.159168     0.174271     1.081423  \n",
       "50%       0.448459     0.169609     0.183135     0.205440     1.317441  \n",
       "75%       0.490773     0.187174     0.196133     0.219242     1.585824  \n",
       "max       0.759588     0.479763     0.360692     0.413903     2.129791  \n",
       "\n",
       "[8 rows x 77 columns]"
      ]
     },
     "execution_count": 26,
     "metadata": {},
     "output_type": "execute_result"
    }
   ],
   "source": [
    "#Check the statistical details like percentile, mean, std etc for all the proteins to see the changes\n",
    "df.describe()"
   ]
  },
  {
   "cell_type": "code",
   "execution_count": 27,
   "metadata": {
    "scrolled": true
   },
   "outputs": [
    {
     "data": {
      "text/html": [
       "<div>\n",
       "<style scoped>\n",
       "    .dataframe tbody tr th:only-of-type {\n",
       "        vertical-align: middle;\n",
       "    }\n",
       "\n",
       "    .dataframe tbody tr th {\n",
       "        vertical-align: top;\n",
       "    }\n",
       "\n",
       "    .dataframe thead th {\n",
       "        text-align: right;\n",
       "    }\n",
       "</style>\n",
       "<table border=\"1\" class=\"dataframe\">\n",
       "  <thead>\n",
       "    <tr style=\"text-align: right;\">\n",
       "      <th></th>\n",
       "      <th>MouseID</th>\n",
       "      <th>DYRK1A_N</th>\n",
       "      <th>ITSN1_N</th>\n",
       "      <th>BDNF_N</th>\n",
       "      <th>NR1_N</th>\n",
       "      <th>NR2A_N</th>\n",
       "      <th>pAKT_N</th>\n",
       "      <th>pBRAF_N</th>\n",
       "      <th>pCAMKII_N</th>\n",
       "      <th>pCREB_N</th>\n",
       "      <th>...</th>\n",
       "      <th>pCFOS_N</th>\n",
       "      <th>SYP_N</th>\n",
       "      <th>H3AcK18_N</th>\n",
       "      <th>EGR1_N</th>\n",
       "      <th>H3MeK4_N</th>\n",
       "      <th>CaNA_N</th>\n",
       "      <th>Genotype</th>\n",
       "      <th>Treatment</th>\n",
       "      <th>Behavior</th>\n",
       "      <th>class</th>\n",
       "    </tr>\n",
       "  </thead>\n",
       "  <tbody>\n",
       "    <tr>\n",
       "      <td>0</td>\n",
       "      <td>309_1</td>\n",
       "      <td>0.503644</td>\n",
       "      <td>0.747193</td>\n",
       "      <td>0.430175</td>\n",
       "      <td>2.816329</td>\n",
       "      <td>5.990152</td>\n",
       "      <td>0.218830</td>\n",
       "      <td>0.177565</td>\n",
       "      <td>2.373744</td>\n",
       "      <td>0.232224</td>\n",
       "      <td>...</td>\n",
       "      <td>0.108336</td>\n",
       "      <td>0.427099</td>\n",
       "      <td>0.114783</td>\n",
       "      <td>0.131790</td>\n",
       "      <td>0.128186</td>\n",
       "      <td>1.675652</td>\n",
       "      <td>Control</td>\n",
       "      <td>Memantine</td>\n",
       "      <td>C/S</td>\n",
       "      <td>c-CS-m</td>\n",
       "    </tr>\n",
       "    <tr>\n",
       "      <td>1</td>\n",
       "      <td>309_2</td>\n",
       "      <td>0.514617</td>\n",
       "      <td>0.689064</td>\n",
       "      <td>0.411770</td>\n",
       "      <td>2.789514</td>\n",
       "      <td>5.685038</td>\n",
       "      <td>0.211636</td>\n",
       "      <td>0.172817</td>\n",
       "      <td>2.292150</td>\n",
       "      <td>0.226972</td>\n",
       "      <td>...</td>\n",
       "      <td>0.104315</td>\n",
       "      <td>0.441581</td>\n",
       "      <td>0.111974</td>\n",
       "      <td>0.135103</td>\n",
       "      <td>0.131119</td>\n",
       "      <td>1.743610</td>\n",
       "      <td>Control</td>\n",
       "      <td>Memantine</td>\n",
       "      <td>C/S</td>\n",
       "      <td>c-CS-m</td>\n",
       "    </tr>\n",
       "    <tr>\n",
       "      <td>2</td>\n",
       "      <td>309_3</td>\n",
       "      <td>0.509183</td>\n",
       "      <td>0.730247</td>\n",
       "      <td>0.418309</td>\n",
       "      <td>2.687201</td>\n",
       "      <td>5.622059</td>\n",
       "      <td>0.209011</td>\n",
       "      <td>0.175722</td>\n",
       "      <td>2.283337</td>\n",
       "      <td>0.230247</td>\n",
       "      <td>...</td>\n",
       "      <td>0.106219</td>\n",
       "      <td>0.435777</td>\n",
       "      <td>0.111883</td>\n",
       "      <td>0.133362</td>\n",
       "      <td>0.127431</td>\n",
       "      <td>1.926427</td>\n",
       "      <td>Control</td>\n",
       "      <td>Memantine</td>\n",
       "      <td>C/S</td>\n",
       "      <td>c-CS-m</td>\n",
       "    </tr>\n",
       "    <tr>\n",
       "      <td>3</td>\n",
       "      <td>309_4</td>\n",
       "      <td>0.442107</td>\n",
       "      <td>0.617076</td>\n",
       "      <td>0.358626</td>\n",
       "      <td>2.466947</td>\n",
       "      <td>4.979503</td>\n",
       "      <td>0.222886</td>\n",
       "      <td>0.176463</td>\n",
       "      <td>2.152301</td>\n",
       "      <td>0.207004</td>\n",
       "      <td>...</td>\n",
       "      <td>0.111262</td>\n",
       "      <td>0.391691</td>\n",
       "      <td>0.130405</td>\n",
       "      <td>0.147444</td>\n",
       "      <td>0.146901</td>\n",
       "      <td>1.700563</td>\n",
       "      <td>Control</td>\n",
       "      <td>Memantine</td>\n",
       "      <td>C/S</td>\n",
       "      <td>c-CS-m</td>\n",
       "    </tr>\n",
       "    <tr>\n",
       "      <td>4</td>\n",
       "      <td>309_5</td>\n",
       "      <td>0.434940</td>\n",
       "      <td>0.617430</td>\n",
       "      <td>0.358802</td>\n",
       "      <td>2.365785</td>\n",
       "      <td>4.718679</td>\n",
       "      <td>0.213106</td>\n",
       "      <td>0.173627</td>\n",
       "      <td>2.134014</td>\n",
       "      <td>0.192158</td>\n",
       "      <td>...</td>\n",
       "      <td>0.110694</td>\n",
       "      <td>0.434154</td>\n",
       "      <td>0.118481</td>\n",
       "      <td>0.140314</td>\n",
       "      <td>0.148380</td>\n",
       "      <td>1.839730</td>\n",
       "      <td>Control</td>\n",
       "      <td>Memantine</td>\n",
       "      <td>C/S</td>\n",
       "      <td>c-CS-m</td>\n",
       "    </tr>\n",
       "  </tbody>\n",
       "</table>\n",
       "<p>5 rows × 82 columns</p>\n",
       "</div>"
      ],
      "text/plain": [
       "  MouseID  DYRK1A_N   ITSN1_N    BDNF_N     NR1_N    NR2A_N    pAKT_N  \\\n",
       "0   309_1  0.503644  0.747193  0.430175  2.816329  5.990152  0.218830   \n",
       "1   309_2  0.514617  0.689064  0.411770  2.789514  5.685038  0.211636   \n",
       "2   309_3  0.509183  0.730247  0.418309  2.687201  5.622059  0.209011   \n",
       "3   309_4  0.442107  0.617076  0.358626  2.466947  4.979503  0.222886   \n",
       "4   309_5  0.434940  0.617430  0.358802  2.365785  4.718679  0.213106   \n",
       "\n",
       "    pBRAF_N  pCAMKII_N   pCREB_N  ...   pCFOS_N     SYP_N  H3AcK18_N  \\\n",
       "0  0.177565   2.373744  0.232224  ...  0.108336  0.427099   0.114783   \n",
       "1  0.172817   2.292150  0.226972  ...  0.104315  0.441581   0.111974   \n",
       "2  0.175722   2.283337  0.230247  ...  0.106219  0.435777   0.111883   \n",
       "3  0.176463   2.152301  0.207004  ...  0.111262  0.391691   0.130405   \n",
       "4  0.173627   2.134014  0.192158  ...  0.110694  0.434154   0.118481   \n",
       "\n",
       "     EGR1_N  H3MeK4_N    CaNA_N  Genotype  Treatment  Behavior   class  \n",
       "0  0.131790  0.128186  1.675652   Control  Memantine       C/S  c-CS-m  \n",
       "1  0.135103  0.131119  1.743610   Control  Memantine       C/S  c-CS-m  \n",
       "2  0.133362  0.127431  1.926427   Control  Memantine       C/S  c-CS-m  \n",
       "3  0.147444  0.146901  1.700563   Control  Memantine       C/S  c-CS-m  \n",
       "4  0.140314  0.148380  1.839730   Control  Memantine       C/S  c-CS-m  \n",
       "\n",
       "[5 rows x 82 columns]"
      ]
     },
     "execution_count": 27,
     "metadata": {},
     "output_type": "execute_result"
    }
   ],
   "source": [
    "#Check the data frame to make sure everything is correct\n",
    "df.head()"
   ]
  },
  {
   "cell_type": "code",
   "execution_count": 28,
   "metadata": {
    "scrolled": true
   },
   "outputs": [
    {
     "data": {
      "text/plain": [
       "MouseID      0\n",
       "DYRK1A_N     0\n",
       "ITSN1_N      0\n",
       "BDNF_N       0\n",
       "NR1_N        0\n",
       "            ..\n",
       "CaNA_N       0\n",
       "Genotype     0\n",
       "Treatment    0\n",
       "Behavior     0\n",
       "class        0\n",
       "Length: 82, dtype: int64"
      ]
     },
     "execution_count": 28,
     "metadata": {},
     "output_type": "execute_result"
    }
   ],
   "source": [
    "#Check the null value in the data frame\n",
    "df.isnull().sum()"
   ]
  },
  {
   "cell_type": "code",
   "execution_count": 29,
   "metadata": {
    "scrolled": true
   },
   "outputs": [
    {
     "data": {
      "text/plain": [
       "False"
      ]
     },
     "execution_count": 29,
     "metadata": {},
     "output_type": "execute_result"
    }
   ],
   "source": [
    "#Check if there is still null value in the data frame\n",
    "df.isnull().any().any()"
   ]
  },
  {
   "cell_type": "code",
   "execution_count": 30,
   "metadata": {
    "scrolled": true
   },
   "outputs": [
    {
     "data": {
      "text/plain": [
       "GFAP_N       0.120889\n",
       "pS6_N        0.121521\n",
       "ARC_N        0.121521\n",
       "GluR4_N      0.126560\n",
       "pCFOS_N      0.131053\n",
       "               ...   \n",
       "PSD95_N      2.235236\n",
       "NR1_N        2.297269\n",
       "ERK_N        2.474492\n",
       "pCAMKII_N    3.537109\n",
       "NR2A_N       3.843934\n",
       "Length: 77, dtype: float64"
      ]
     },
     "execution_count": 30,
     "metadata": {},
     "output_type": "execute_result"
    }
   ],
   "source": [
    "#Sort the mean, to see which protein has the least and most mean\n",
    "df.mean().sort_values()"
   ]
  },
  {
   "cell_type": "markdown",
   "metadata": {},
   "source": [
    "## Explore each column"
   ]
  },
  {
   "cell_type": "code",
   "execution_count": 31,
   "metadata": {},
   "outputs": [
    {
     "data": {
      "image/png": "[encoded data removed]",
      "text/plain": [
       "<Figure size 432x288 with 1 Axes>"
      ]
     },
     "metadata": {
      "needs_background": "light"
     },
     "output_type": "display_data"
    }
   ],
   "source": [
    "#Box plot for the values of expression levels for DYRK1A_N\n",
    "df['DYRK1A_N'].dropna().plot(kind='box')\n",
    "plt.title('Values of expression levels for DYRK1A_N')\n",
    "plt.xlabel('Protein')\n",
    "plt.ylabel('Values of expression levels')\n",
    "plt.show()"
   ]
  },
  {
   "cell_type": "code",
   "execution_count": 32,
   "metadata": {
    "scrolled": true
   },
   "outputs": [
    {
     "data": {
      "image/png": "[encoded data removed]",
      "text/plain": [
       "<Figure size 432x288 with 1 Axes>"
      ]
     },
     "metadata": {
      "needs_background": "light"
     },
     "output_type": "display_data"
    }
   ],
   "source": [
    "#Box plot for the values of expression levels for ITSN1_N\n",
    "df['ITSN1_N'].dropna().plot(kind='box')\n",
    "plt.title('Values of expression levels for ITSN1_N')\n",
    "plt.xlabel('Protein')\n",
    "plt.ylabel('Values of expression levels')\n",
    "plt.show()"
   ]
  },
  {
   "cell_type": "code",
   "execution_count": 33,
   "metadata": {
    "scrolled": true
   },
   "outputs": [
    {
     "data": {
      "image/png": "[encoded data removed]",
      "text/plain": [
       "<Figure size 432x288 with 1 Axes>"
      ]
     },
     "metadata": {
      "needs_background": "light"
     },
     "output_type": "display_data"
    }
   ],
   "source": [
    "#Box plot for the values of expression levels for BDNF_N\n",
    "df['BDNF_N'].dropna().plot(kind='box')\n",
    "plt.title('Values of expression levels for BDNF_N')\n",
    "plt.xlabel('Protein')\n",
    "plt.ylabel('Values of expression levels')\n",
    "plt.show()"
   ]
  },
  {
   "cell_type": "code",
   "execution_count": 34,
   "metadata": {},
   "outputs": [
    {
     "data": {
      "image/png": "[encoded data removed]",
      "text/plain": [
       "<Figure size 432x288 with 1 Axes>"
      ]
     },
     "metadata": {
      "needs_background": "light"
     },
     "output_type": "display_data"
    }
   ],
   "source": [
    "#Box plot for the values of expression levels for NR1_N\n",
    "df['NR1_N'].dropna().plot(kind='box')\n",
    "plt.title('Values of expression levels for NR1_N')\n",
    "plt.xlabel('Protein')\n",
    "plt.ylabel('Values of expression levels')\n",
    "plt.show()"
   ]
  },
  {
   "cell_type": "code",
   "execution_count": 35,
   "metadata": {},
   "outputs": [
    {
     "data": {
      "image/png": "[encoded data removed]",
      "text/plain": [
       "<Figure size 432x288 with 1 Axes>"
      ]
     },
     "metadata": {
      "needs_background": "light"
     },
     "output_type": "display_data"
    }
   ],
   "source": [
    "#Box plot for the values of expression levels for NR2A_N\n",
    "df['NR2A_N'].dropna().plot(kind='box')\n",
    "plt.title('Values of expression levels for NR2A_N')\n",
    "plt.xlabel('Protein')\n",
    "plt.ylabel('Values of expression levels')\n",
    "plt.show()"
   ]
  },
  {
   "cell_type": "code",
   "execution_count": 36,
   "metadata": {},
   "outputs": [
    {
     "data": {
      "image/png": "[encoded data removed]",
      "text/plain": [
       "<Figure size 432x288 with 1 Axes>"
      ]
     },
     "metadata": {
      "needs_background": "light"
     },
     "output_type": "display_data"
    }
   ],
   "source": [
    "#Box plot for the values of expression levels for pAKT_N\n",
    "df['pAKT_N'].dropna().plot(kind='box')\n",
    "plt.title('Values of expression levels for pAKT_N')\n",
    "plt.xlabel('Protein')\n",
    "plt.ylabel('Values of expression levels')\n",
    "plt.show()"
   ]
  },
  {
   "cell_type": "code",
   "execution_count": 37,
   "metadata": {},
   "outputs": [
    {
     "data": {
      "image/png": "[encoded data removed]",
      "text/plain": [
       "<Figure size 432x288 with 1 Axes>"
      ]
     },
     "metadata": {
      "needs_background": "light"
     },
     "output_type": "display_data"
    }
   ],
   "source": [
    "#Box plot for the values of expression levels for pBRAF_N\n",
    "df['pBRAF_N'].dropna().plot(kind='box')\n",
    "plt.title('Values of expression levels for pBRAF_N')\n",
    "plt.xlabel('Protein')\n",
    "plt.ylabel('Values of expression levels')\n",
    "plt.show()"
   ]
  },
  {
   "cell_type": "code",
   "execution_count": 38,
   "metadata": {},
   "outputs": [
    {
     "data": {
      "image/png": "[encoded data removed]",
      "text/plain": [
       "<Figure size 432x288 with 1 Axes>"
      ]
     },
     "metadata": {
      "needs_background": "light"
     },
     "output_type": "display_data"
    }
   ],
   "source": [
    "#Box plot for the values of expression levels for pCAMKII_N\n",
    "df['pCAMKII_N'].dropna().plot(kind='box')\n",
    "plt.title('Values of expression levels for pCAMKII_N')\n",
    "plt.xlabel('Protein')\n",
    "plt.ylabel('Values of expression levels')\n",
    "plt.show()"
   ]
  },
  {
   "cell_type": "code",
   "execution_count": 39,
   "metadata": {},
   "outputs": [
    {
     "data": {
      "image/png": "[encoded data removed]",
      "text/plain": [
       "<Figure size 432x288 with 1 Axes>"
      ]
     },
     "metadata": {
      "needs_background": "light"
     },
     "output_type": "display_data"
    }
   ],
   "source": [
    "#Box plot for the values of expression levels for pCREB_N\n",
    "df['pCREB_N'].dropna().plot(kind='box')\n",
    "plt.title('Values of expression levels for pCREB_N')\n",
    "plt.xlabel('Protein')\n",
    "plt.ylabel('Values of expression levels')\n",
    "plt.show()"
   ]
  },
  {
   "cell_type": "code",
   "execution_count": 40,
   "metadata": {},
   "outputs": [
    {
     "data": {
      "image/png": "[encoded data removed]",
      "text/plain": [
       "<Figure size 432x288 with 1 Axes>"
      ]
     },
     "metadata": {
      "needs_background": "light"
     },
     "output_type": "display_data"
    }
   ],
   "source": [
    "#Box plot for the values of expression levels for pELK_N\n",
    "df['pELK_N'].dropna().plot(kind='box')\n",
    "plt.title('Values of expression levels for pELK_N')\n",
    "plt.xlabel('Protein')\n",
    "plt.ylabel('Values of expression levels')\n",
    "plt.show()"
   ]
  },
  {
   "cell_type": "markdown",
   "metadata": {},
   "source": [
    "## Explore the relationship between pairs of attributes"
   ]
  },
  {
   "cell_type": "code",
   "execution_count": 41,
   "metadata": {
    "scrolled": false
   },
   "outputs": [
    {
     "data": {
      "image/png": "[encoded data removed]",
      "text/plain": [
       "<Figure size 432x288 with 1 Axes>"
      ]
     },
     "metadata": {
      "needs_background": "light"
     },
     "output_type": "display_data"
    }
   ],
   "source": [
    "#Side-by-side box plot for the relationship between values of expression levels for DYRK1A_N by genotype\n",
    "df.boxplot(column='DYRK1A_N', by ='Genotype')\n",
    "plt.title('Values of Expression Levels for DYRK1A_N by Genotype')\n",
    "plt.ylabel('Values of Expression Levels for DYRK1A_N')\n",
    "plt.suptitle(\"\")\n",
    "plt.show()"
   ]
  },
  {
   "cell_type": "code",
   "execution_count": 42,
   "metadata": {
    "scrolled": true
   },
   "outputs": [
    {
     "data": {
      "image/png": "[encoded data removed]",
      "text/plain": [
       "<Figure size 432x288 with 1 Axes>"
      ]
     },
     "metadata": {
      "needs_background": "light"
     },
     "output_type": "display_data"
    }
   ],
   "source": [
    "#Side-by-side box plot for the relationship between values of expression levels for DYRK1A_N by treatment\n",
    "df.boxplot(column='DYRK1A_N', by ='Treatment')\n",
    "plt.title('Values of Expression Levels for DYRK1A_N by Treatment')\n",
    "plt.ylabel('Values of Expression Levels for DYRK1A_N')\n",
    "plt.suptitle(\"\")\n",
    "plt.show()"
   ]
  },
  {
   "cell_type": "code",
   "execution_count": 43,
   "metadata": {},
   "outputs": [
    {
     "data": {
      "image/png": "[encoded data removed]",
      "text/plain": [
       "<Figure size 432x288 with 1 Axes>"
      ]
     },
     "metadata": {
      "needs_background": "light"
     },
     "output_type": "display_data"
    }
   ],
   "source": [
    "#Side-by-side box plot for the relationship between values of expression levels for DYRK1A_N by behavior\n",
    "df.boxplot(column='DYRK1A_N', by ='Behavior')\n",
    "plt.title('Values of Expression Levels for DYRK1A_N by Behavior')\n",
    "plt.ylabel('Values of Expression Levels for DYRK1A_N')\n",
    "plt.suptitle(\"\")\n",
    "plt.show()"
   ]
  },
  {
   "cell_type": "code",
   "execution_count": 44,
   "metadata": {},
   "outputs": [
    {
     "data": {
      "image/png": "[encoded data removed]",
      "text/plain": [
       "<Figure size 432x288 with 1 Axes>"
      ]
     },
     "metadata": {
      "needs_background": "light"
     },
     "output_type": "display_data"
    }
   ],
   "source": [
    "#Side-by-side box plot for the relationship between values of expression levels for DYRK1A_N by class\n",
    "df.boxplot(column='DYRK1A_N', by ='class')\n",
    "plt.title('Values of Expression Levels for DYRK1A_N by Class')\n",
    "plt.ylabel('Values of Expression Levels for DYRK1A_N')\n",
    "plt.xlabel('Class')\n",
    "plt.suptitle(\"\")\n",
    "plt.show()"
   ]
  },
  {
   "cell_type": "code",
   "execution_count": 45,
   "metadata": {},
   "outputs": [
    {
     "data": {
      "image/png": "[encoded data removed]",
      "text/plain": [
       "<Figure size 432x288 with 1 Axes>"
      ]
     },
     "metadata": {
      "needs_background": "light"
     },
     "output_type": "display_data"
    }
   ],
   "source": [
    "#Side-by-side box plot for the relationship between values of expression levels for GFAP_N by genotype\n",
    "df.boxplot(column='GFAP_N', by ='Genotype')\n",
    "plt.title('Values of Expression Levels for GFAP_N by Genotype')\n",
    "plt.ylabel('Values of Expression Levels for GFAP_N')\n",
    "plt.suptitle(\"\")\n",
    "plt.show()"
   ]
  },
  {
   "cell_type": "code",
   "execution_count": 46,
   "metadata": {},
   "outputs": [
    {
     "data": {
      "image/png": "[encoded data removed]",
      "text/plain": [
       "<Figure size 432x288 with 1 Axes>"
      ]
     },
     "metadata": {
      "needs_background": "light"
     },
     "output_type": "display_data"
    }
   ],
   "source": [
    "#Side-by-side box plot for the relationship between values of expression levels for GFAP_N by treatment\n",
    "df.boxplot(column='GFAP_N', by ='Treatment')\n",
    "plt.title('Values of Expression Levels for GFAP_N by Treatment')\n",
    "plt.ylabel('Values of Expression Levels for GFAP_N')\n",
    "plt.suptitle(\"\")\n",
    "plt.show()"
   ]
  },
  {
   "cell_type": "code",
   "execution_count": 47,
   "metadata": {},
   "outputs": [
    {
     "data": {
      "image/png": "[encoded data removed]",
      "text/plain": [
       "<Figure size 432x288 with 1 Axes>"
      ]
     },
     "metadata": {
      "needs_background": "light"
     },
     "output_type": "display_data"
    }
   ],
   "source": [
    "#Side-by-side box plot for the relationship between values of expression levels for GFAP_N by behavior\n",
    "df.boxplot(column='GFAP_N', by ='Behavior')\n",
    "plt.title('Values of Expression Levels for GFAP_N by Behavior')\n",
    "plt.ylabel('Values of Expression Levels for GFAP_N')\n",
    "plt.suptitle(\"\")\n",
    "plt.show()"
   ]
  },
  {
   "cell_type": "code",
   "execution_count": 48,
   "metadata": {},
   "outputs": [
    {
     "data": {
      "image/png": "[encoded data removed]",
      "text/plain": [
       "<Figure size 432x288 with 1 Axes>"
      ]
     },
     "metadata": {
      "needs_background": "light"
     },
     "output_type": "display_data"
    }
   ],
   "source": [
    "#Side-by-side box plot for the relationship between values of expression levels for GFAP_N by class\n",
    "df.boxplot(column='GFAP_N', by ='class')\n",
    "plt.title('Values of Expression Levels for GFAP_N by Class')\n",
    "plt.ylabel('Values of Expression Levels for GFAP_N')\n",
    "plt.xlabel('Class')\n",
    "plt.suptitle(\"\")\n",
    "plt.show()"
   ]
  },
  {
   "cell_type": "code",
   "execution_count": 49,
   "metadata": {},
   "outputs": [
    {
     "data": {
      "image/png": "[encoded data removed]",
      "text/plain": [
       "<Figure size 432x288 with 1 Axes>"
      ]
     },
     "metadata": {
      "needs_background": "light"
     },
     "output_type": "display_data"
    }
   ],
   "source": [
    "#Side-by-side box plot for the relationship between values of expression levels for NR2A_N by genotype\n",
    "df.boxplot(column='NR2A_N', by ='Genotype')\n",
    "plt.title('Values of Expression Levels for NR2A_N by Genotype')\n",
    "plt.ylabel('Values of Expression Levels for NR2A_N')\n",
    "plt.suptitle(\"\")\n",
    "plt.show()"
   ]
  },
  {
   "cell_type": "code",
   "execution_count": 50,
   "metadata": {},
   "outputs": [
    {
     "data": {
      "image/png": "[encoded data removed]",
      "text/plain": [
       "<Figure size 432x288 with 1 Axes>"
      ]
     },
     "metadata": {
      "needs_background": "light"
     },
     "output_type": "display_data"
    }
   ],
   "source": [
    "#Side-by-side box plot for the relationship between values of expression levels for NR2A_N by treatment\n",
    "df.boxplot(column='NR2A_N', by ='Treatment')\n",
    "plt.title('Values of Expression Levels for NR2A_N by Treatment')\n",
    "plt.ylabel('Values of Expression Levels for NR2A_N')\n",
    "plt.suptitle(\"\")\n",
    "plt.show()"
   ]
  },
  {
   "cell_type": "code",
   "execution_count": 51,
   "metadata": {},
   "outputs": [
    {
     "data": {
      "image/png": "[encoded data removed]",
      "text/plain": [
       "<Figure size 432x288 with 1 Axes>"
      ]
     },
     "metadata": {
      "needs_background": "light"
     },
     "output_type": "display_data"
    }
   ],
   "source": [
    "#Side-by-side box plot for the relationship between values of expression levels for NR2A_N by behavior\n",
    "df.boxplot(column='NR2A_N', by ='Behavior')\n",
    "plt.title('Values of Expression Levels for NR2A_N by Behavior')\n",
    "plt.ylabel('Values of Expression Levels for NR2A_N')\n",
    "plt.suptitle(\"\")\n",
    "plt.show()"
   ]
  },
  {
   "cell_type": "code",
   "execution_count": 52,
   "metadata": {},
   "outputs": [
    {
     "data": {
      "image/png": "[encoded data removed]",
      "text/plain": [
       "<Figure size 432x288 with 1 Axes>"
      ]
     },
     "metadata": {
      "needs_background": "light"
     },
     "output_type": "display_data"
    }
   ],
   "source": [
    "#Side-by-side box plot for the relationship between values of expression levels for NR2A_N by class\n",
    "df.boxplot(column='NR2A_N', by ='class')\n",
    "plt.title('Values of Expression Levels for NR2A_N by Class')\n",
    "plt.ylabel('Values of Expression Levels for NR2A_N')\n",
    "plt.xlabel('Class')\n",
    "plt.suptitle(\"\")\n",
    "plt.show()"
   ]
  },
  {
   "cell_type": "markdown",
   "metadata": {},
   "source": [
    "## Data Modeling"
   ]
  },
  {
   "cell_type": "markdown",
   "metadata": {},
   "source": [
    "### Generating Train/Test Set"
   ]
  },
  {
   "cell_type": "markdown",
   "metadata": {},
   "source": [
    "We will be generating the train and test set so that we can make them easily accessible while training in different model, under different parameters and conditions. The X target of all the protein columns and y target of the class column are set in this process. We will also be checking the train and test sets carefully to ensure that they are correct and ready to be trained in various conditions. Furthermore, the dimension /shape of the train and test sets are checked as well to make sure that they are correctly split."
   ]
  },
  {
   "cell_type": "code",
   "execution_count": 53,
   "metadata": {},
   "outputs": [],
   "source": [
    "#Load packages of train_test_split from sklearn\n",
    "from sklearn.model_selection import train_test_split"
   ]
  },
  {
   "cell_type": "code",
   "execution_count": 54,
   "metadata": {},
   "outputs": [],
   "source": [
    "#Prepare and select data for X and y target\n",
    "X = df.iloc[:,1:78]\n",
    "y = df['class']"
   ]
  },
  {
   "cell_type": "code",
   "execution_count": 55,
   "metadata": {},
   "outputs": [],
   "source": [
    "#Split the data into 40% test and 60% training set\n",
    "X_train, X_test, y_train, y_test =train_test_split(X,y,test_size=0.4,random_state=0)"
   ]
  },
  {
   "cell_type": "code",
   "execution_count": 56,
   "metadata": {},
   "outputs": [
    {
     "data": {
      "text/html": [
       "<div>\n",
       "<style scoped>\n",
       "    .dataframe tbody tr th:only-of-type {\n",
       "        vertical-align: middle;\n",
       "    }\n",
       "\n",
       "    .dataframe tbody tr th {\n",
       "        vertical-align: top;\n",
       "    }\n",
       "\n",
       "    .dataframe thead th {\n",
       "        text-align: right;\n",
       "    }\n",
       "</style>\n",
       "<table border=\"1\" class=\"dataframe\">\n",
       "  <thead>\n",
       "    <tr style=\"text-align: right;\">\n",
       "      <th></th>\n",
       "      <th>DYRK1A_N</th>\n",
       "      <th>ITSN1_N</th>\n",
       "      <th>BDNF_N</th>\n",
       "      <th>NR1_N</th>\n",
       "      <th>NR2A_N</th>\n",
       "      <th>pAKT_N</th>\n",
       "      <th>pBRAF_N</th>\n",
       "      <th>pCAMKII_N</th>\n",
       "      <th>pCREB_N</th>\n",
       "      <th>pELK_N</th>\n",
       "      <th>...</th>\n",
       "      <th>SHH_N</th>\n",
       "      <th>BAD_N</th>\n",
       "      <th>BCL2_N</th>\n",
       "      <th>pS6_N</th>\n",
       "      <th>pCFOS_N</th>\n",
       "      <th>SYP_N</th>\n",
       "      <th>H3AcK18_N</th>\n",
       "      <th>EGR1_N</th>\n",
       "      <th>H3MeK4_N</th>\n",
       "      <th>CaNA_N</th>\n",
       "    </tr>\n",
       "  </thead>\n",
       "  <tbody>\n",
       "    <tr>\n",
       "      <td>402</td>\n",
       "      <td>0.280024</td>\n",
       "      <td>0.469071</td>\n",
       "      <td>0.278817</td>\n",
       "      <td>2.064122</td>\n",
       "      <td>3.104858</td>\n",
       "      <td>0.192667</td>\n",
       "      <td>0.169734</td>\n",
       "      <td>1.997586</td>\n",
       "      <td>0.173657</td>\n",
       "      <td>1.002565</td>\n",
       "      <td>...</td>\n",
       "      <td>0.218892</td>\n",
       "      <td>0.166249</td>\n",
       "      <td>0.151778</td>\n",
       "      <td>0.110187</td>\n",
       "      <td>0.135255</td>\n",
       "      <td>0.461372</td>\n",
       "      <td>0.135483</td>\n",
       "      <td>0.192912</td>\n",
       "      <td>0.207612</td>\n",
       "      <td>1.901664</td>\n",
       "    </tr>\n",
       "    <tr>\n",
       "      <td>161</td>\n",
       "      <td>0.359699</td>\n",
       "      <td>0.490405</td>\n",
       "      <td>0.325207</td>\n",
       "      <td>2.405342</td>\n",
       "      <td>3.626815</td>\n",
       "      <td>0.269191</td>\n",
       "      <td>0.224326</td>\n",
       "      <td>5.003371</td>\n",
       "      <td>0.223288</td>\n",
       "      <td>1.373444</td>\n",
       "      <td>...</td>\n",
       "      <td>0.289551</td>\n",
       "      <td>0.157914</td>\n",
       "      <td>0.134762</td>\n",
       "      <td>0.134928</td>\n",
       "      <td>0.139811</td>\n",
       "      <td>0.479655</td>\n",
       "      <td>0.169609</td>\n",
       "      <td>0.267578</td>\n",
       "      <td>0.252441</td>\n",
       "      <td>1.127767</td>\n",
       "    </tr>\n",
       "    <tr>\n",
       "      <td>568</td>\n",
       "      <td>0.237821</td>\n",
       "      <td>0.371795</td>\n",
       "      <td>0.342094</td>\n",
       "      <td>2.206197</td>\n",
       "      <td>3.952778</td>\n",
       "      <td>0.253205</td>\n",
       "      <td>0.200427</td>\n",
       "      <td>4.849359</td>\n",
       "      <td>0.197222</td>\n",
       "      <td>1.088675</td>\n",
       "      <td>...</td>\n",
       "      <td>0.236631</td>\n",
       "      <td>0.172904</td>\n",
       "      <td>0.155490</td>\n",
       "      <td>0.123379</td>\n",
       "      <td>0.140546</td>\n",
       "      <td>0.478572</td>\n",
       "      <td>0.218229</td>\n",
       "      <td>0.222922</td>\n",
       "      <td>0.223540</td>\n",
       "      <td>1.076819</td>\n",
       "    </tr>\n",
       "    <tr>\n",
       "      <td>177</td>\n",
       "      <td>0.269688</td>\n",
       "      <td>0.408125</td>\n",
       "      <td>0.317188</td>\n",
       "      <td>2.138750</td>\n",
       "      <td>3.045000</td>\n",
       "      <td>0.314375</td>\n",
       "      <td>0.225000</td>\n",
       "      <td>5.321562</td>\n",
       "      <td>0.225938</td>\n",
       "      <td>1.347500</td>\n",
       "      <td>...</td>\n",
       "      <td>0.247589</td>\n",
       "      <td>0.229199</td>\n",
       "      <td>0.213949</td>\n",
       "      <td>0.121776</td>\n",
       "      <td>0.205876</td>\n",
       "      <td>0.484189</td>\n",
       "      <td>0.242880</td>\n",
       "      <td>0.340884</td>\n",
       "      <td>0.355461</td>\n",
       "      <td>1.049338</td>\n",
       "    </tr>\n",
       "    <tr>\n",
       "      <td>948</td>\n",
       "      <td>0.286238</td>\n",
       "      <td>0.519021</td>\n",
       "      <td>0.300679</td>\n",
       "      <td>1.817545</td>\n",
       "      <td>2.763013</td>\n",
       "      <td>0.207565</td>\n",
       "      <td>0.152818</td>\n",
       "      <td>2.903977</td>\n",
       "      <td>0.204440</td>\n",
       "      <td>0.866904</td>\n",
       "      <td>...</td>\n",
       "      <td>0.285672</td>\n",
       "      <td>0.171656</td>\n",
       "      <td>0.131917</td>\n",
       "      <td>0.129243</td>\n",
       "      <td>0.135854</td>\n",
       "      <td>0.403179</td>\n",
       "      <td>0.218822</td>\n",
       "      <td>0.201812</td>\n",
       "      <td>0.219788</td>\n",
       "      <td>1.264948</td>\n",
       "    </tr>\n",
       "    <tr>\n",
       "      <td>...</td>\n",
       "      <td>...</td>\n",
       "      <td>...</td>\n",
       "      <td>...</td>\n",
       "      <td>...</td>\n",
       "      <td>...</td>\n",
       "      <td>...</td>\n",
       "      <td>...</td>\n",
       "      <td>...</td>\n",
       "      <td>...</td>\n",
       "      <td>...</td>\n",
       "      <td>...</td>\n",
       "      <td>...</td>\n",
       "      <td>...</td>\n",
       "      <td>...</td>\n",
       "      <td>...</td>\n",
       "      <td>...</td>\n",
       "      <td>...</td>\n",
       "      <td>...</td>\n",
       "      <td>...</td>\n",
       "      <td>...</td>\n",
       "      <td>...</td>\n",
       "    </tr>\n",
       "    <tr>\n",
       "      <td>1033</td>\n",
       "      <td>0.287620</td>\n",
       "      <td>0.402882</td>\n",
       "      <td>0.361793</td>\n",
       "      <td>2.049893</td>\n",
       "      <td>2.749733</td>\n",
       "      <td>0.274013</td>\n",
       "      <td>0.196638</td>\n",
       "      <td>3.827375</td>\n",
       "      <td>0.186766</td>\n",
       "      <td>1.285486</td>\n",
       "      <td>...</td>\n",
       "      <td>0.205251</td>\n",
       "      <td>0.191298</td>\n",
       "      <td>0.167442</td>\n",
       "      <td>0.098275</td>\n",
       "      <td>0.173443</td>\n",
       "      <td>0.328882</td>\n",
       "      <td>0.237809</td>\n",
       "      <td>0.183135</td>\n",
       "      <td>0.255964</td>\n",
       "      <td>0.754839</td>\n",
       "    </tr>\n",
       "    <tr>\n",
       "      <td>763</td>\n",
       "      <td>0.351955</td>\n",
       "      <td>0.604150</td>\n",
       "      <td>0.378558</td>\n",
       "      <td>2.457302</td>\n",
       "      <td>3.810056</td>\n",
       "      <td>0.316308</td>\n",
       "      <td>0.229316</td>\n",
       "      <td>4.424049</td>\n",
       "      <td>0.248470</td>\n",
       "      <td>1.442671</td>\n",
       "      <td>...</td>\n",
       "      <td>0.300950</td>\n",
       "      <td>0.220828</td>\n",
       "      <td>0.174046</td>\n",
       "      <td>0.151461</td>\n",
       "      <td>0.168130</td>\n",
       "      <td>0.482882</td>\n",
       "      <td>0.266535</td>\n",
       "      <td>0.267073</td>\n",
       "      <td>0.313856</td>\n",
       "      <td>1.173149</td>\n",
       "    </tr>\n",
       "    <tr>\n",
       "      <td>835</td>\n",
       "      <td>0.390427</td>\n",
       "      <td>0.584183</td>\n",
       "      <td>0.284912</td>\n",
       "      <td>1.953174</td>\n",
       "      <td>3.424142</td>\n",
       "      <td>0.219771</td>\n",
       "      <td>0.168158</td>\n",
       "      <td>4.220187</td>\n",
       "      <td>0.191467</td>\n",
       "      <td>1.336316</td>\n",
       "      <td>...</td>\n",
       "      <td>0.254838</td>\n",
       "      <td>0.148576</td>\n",
       "      <td>0.134992</td>\n",
       "      <td>0.136314</td>\n",
       "      <td>0.139800</td>\n",
       "      <td>0.368915</td>\n",
       "      <td>0.150980</td>\n",
       "      <td>0.201467</td>\n",
       "      <td>0.174059</td>\n",
       "      <td>0.963337</td>\n",
       "    </tr>\n",
       "    <tr>\n",
       "      <td>559</td>\n",
       "      <td>0.242445</td>\n",
       "      <td>0.378722</td>\n",
       "      <td>0.349615</td>\n",
       "      <td>2.405375</td>\n",
       "      <td>4.754544</td>\n",
       "      <td>0.236422</td>\n",
       "      <td>0.162262</td>\n",
       "      <td>5.482993</td>\n",
       "      <td>0.194268</td>\n",
       "      <td>0.899186</td>\n",
       "      <td>...</td>\n",
       "      <td>0.245034</td>\n",
       "      <td>0.145640</td>\n",
       "      <td>0.119706</td>\n",
       "      <td>0.128777</td>\n",
       "      <td>0.122006</td>\n",
       "      <td>0.563143</td>\n",
       "      <td>0.202874</td>\n",
       "      <td>0.174449</td>\n",
       "      <td>0.183009</td>\n",
       "      <td>1.277292</td>\n",
       "    </tr>\n",
       "    <tr>\n",
       "      <td>684</td>\n",
       "      <td>0.412221</td>\n",
       "      <td>0.575482</td>\n",
       "      <td>0.335982</td>\n",
       "      <td>2.225880</td>\n",
       "      <td>3.667991</td>\n",
       "      <td>0.231177</td>\n",
       "      <td>0.185585</td>\n",
       "      <td>3.464434</td>\n",
       "      <td>0.207340</td>\n",
       "      <td>1.187666</td>\n",
       "      <td>...</td>\n",
       "      <td>0.230180</td>\n",
       "      <td>0.173413</td>\n",
       "      <td>0.129701</td>\n",
       "      <td>0.100599</td>\n",
       "      <td>0.137126</td>\n",
       "      <td>0.437485</td>\n",
       "      <td>0.149820</td>\n",
       "      <td>0.186228</td>\n",
       "      <td>0.214611</td>\n",
       "      <td>1.878443</td>\n",
       "    </tr>\n",
       "  </tbody>\n",
       "</table>\n",
       "<p>648 rows × 77 columns</p>\n",
       "</div>"
      ],
      "text/plain": [
       "      DYRK1A_N   ITSN1_N    BDNF_N     NR1_N    NR2A_N    pAKT_N   pBRAF_N  \\\n",
       "402   0.280024  0.469071  0.278817  2.064122  3.104858  0.192667  0.169734   \n",
       "161   0.359699  0.490405  0.325207  2.405342  3.626815  0.269191  0.224326   \n",
       "568   0.237821  0.371795  0.342094  2.206197  3.952778  0.253205  0.200427   \n",
       "177   0.269688  0.408125  0.317188  2.138750  3.045000  0.314375  0.225000   \n",
       "948   0.286238  0.519021  0.300679  1.817545  2.763013  0.207565  0.152818   \n",
       "...        ...       ...       ...       ...       ...       ...       ...   \n",
       "1033  0.287620  0.402882  0.361793  2.049893  2.749733  0.274013  0.196638   \n",
       "763   0.351955  0.604150  0.378558  2.457302  3.810056  0.316308  0.229316   \n",
       "835   0.390427  0.584183  0.284912  1.953174  3.424142  0.219771  0.168158   \n",
       "559   0.242445  0.378722  0.349615  2.405375  4.754544  0.236422  0.162262   \n",
       "684   0.412221  0.575482  0.335982  2.225880  3.667991  0.231177  0.185585   \n",
       "\n",
       "      pCAMKII_N   pCREB_N    pELK_N  ...     SHH_N     BAD_N    BCL2_N  \\\n",
       "402    1.997586  0.173657  1.002565  ...  0.218892  0.166249  0.151778   \n",
       "161    5.003371  0.223288  1.373444  ...  0.289551  0.157914  0.134762   \n",
       "568    4.849359  0.197222  1.088675  ...  0.236631  0.172904  0.155490   \n",
       "177    5.321562  0.225938  1.347500  ...  0.247589  0.229199  0.213949   \n",
       "948    2.903977  0.204440  0.866904  ...  0.285672  0.171656  0.131917   \n",
       "...         ...       ...       ...  ...       ...       ...       ...   \n",
       "1033   3.827375  0.186766  1.285486  ...  0.205251  0.191298  0.167442   \n",
       "763    4.424049  0.248470  1.442671  ...  0.300950  0.220828  0.174046   \n",
       "835    4.220187  0.191467  1.336316  ...  0.254838  0.148576  0.134992   \n",
       "559    5.482993  0.194268  0.899186  ...  0.245034  0.145640  0.119706   \n",
       "684    3.464434  0.207340  1.187666  ...  0.230180  0.173413  0.129701   \n",
       "\n",
       "         pS6_N   pCFOS_N     SYP_N  H3AcK18_N    EGR1_N  H3MeK4_N    CaNA_N  \n",
       "402   0.110187  0.135255  0.461372   0.135483  0.192912  0.207612  1.901664  \n",
       "161   0.134928  0.139811  0.479655   0.169609  0.267578  0.252441  1.127767  \n",
       "568   0.123379  0.140546  0.478572   0.218229  0.222922  0.223540  1.076819  \n",
       "177   0.121776  0.205876  0.484189   0.242880  0.340884  0.355461  1.049338  \n",
       "948   0.129243  0.135854  0.403179   0.218822  0.201812  0.219788  1.264948  \n",
       "...        ...       ...       ...        ...       ...       ...       ...  \n",
       "1033  0.098275  0.173443  0.328882   0.237809  0.183135  0.255964  0.754839  \n",
       "763   0.151461  0.168130  0.482882   0.266535  0.267073  0.313856  1.173149  \n",
       "835   0.136314  0.139800  0.368915   0.150980  0.201467  0.174059  0.963337  \n",
       "559   0.128777  0.122006  0.563143   0.202874  0.174449  0.183009  1.277292  \n",
       "684   0.100599  0.137126  0.437485   0.149820  0.186228  0.214611  1.878443  \n",
       "\n",
       "[648 rows x 77 columns]"
      ]
     },
     "execution_count": 56,
     "metadata": {},
     "output_type": "execute_result"
    }
   ],
   "source": [
    "#Check the training set of X\n",
    "X_train"
   ]
  },
  {
   "cell_type": "code",
   "execution_count": 57,
   "metadata": {
    "scrolled": false
   },
   "outputs": [
    {
     "data": {
      "text/plain": [
       "402     c-CS-s\n",
       "161     c-SC-m\n",
       "568     c-SC-s\n",
       "177     c-SC-m\n",
       "948     t-SC-s\n",
       "         ...  \n",
       "1033    t-SC-s\n",
       "763     t-SC-m\n",
       "835     t-SC-m\n",
       "559     c-SC-s\n",
       "684     t-CS-m\n",
       "Name: class, Length: 648, dtype: object"
      ]
     },
     "execution_count": 57,
     "metadata": {},
     "output_type": "execute_result"
    }
   ],
   "source": [
    "#Check the training set of Y\n",
    "y_train"
   ]
  },
  {
   "cell_type": "code",
   "execution_count": 58,
   "metadata": {
    "scrolled": false
   },
   "outputs": [
    {
     "data": {
      "text/html": [
       "<div>\n",
       "<style scoped>\n",
       "    .dataframe tbody tr th:only-of-type {\n",
       "        vertical-align: middle;\n",
       "    }\n",
       "\n",
       "    .dataframe tbody tr th {\n",
       "        vertical-align: top;\n",
       "    }\n",
       "\n",
       "    .dataframe thead th {\n",
       "        text-align: right;\n",
       "    }\n",
       "</style>\n",
       "<table border=\"1\" class=\"dataframe\">\n",
       "  <thead>\n",
       "    <tr style=\"text-align: right;\">\n",
       "      <th></th>\n",
       "      <th>DYRK1A_N</th>\n",
       "      <th>ITSN1_N</th>\n",
       "      <th>BDNF_N</th>\n",
       "      <th>NR1_N</th>\n",
       "      <th>NR2A_N</th>\n",
       "      <th>pAKT_N</th>\n",
       "      <th>pBRAF_N</th>\n",
       "      <th>pCAMKII_N</th>\n",
       "      <th>pCREB_N</th>\n",
       "      <th>pELK_N</th>\n",
       "      <th>...</th>\n",
       "      <th>SHH_N</th>\n",
       "      <th>BAD_N</th>\n",
       "      <th>BCL2_N</th>\n",
       "      <th>pS6_N</th>\n",
       "      <th>pCFOS_N</th>\n",
       "      <th>SYP_N</th>\n",
       "      <th>H3AcK18_N</th>\n",
       "      <th>EGR1_N</th>\n",
       "      <th>H3MeK4_N</th>\n",
       "      <th>CaNA_N</th>\n",
       "    </tr>\n",
       "  </thead>\n",
       "  <tbody>\n",
       "    <tr>\n",
       "      <td>904</td>\n",
       "      <td>0.581233</td>\n",
       "      <td>0.805369</td>\n",
       "      <td>0.295302</td>\n",
       "      <td>2.322274</td>\n",
       "      <td>4.149930</td>\n",
       "      <td>0.173610</td>\n",
       "      <td>0.141319</td>\n",
       "      <td>2.052805</td>\n",
       "      <td>0.189692</td>\n",
       "      <td>1.577308</td>\n",
       "      <td>...</td>\n",
       "      <td>0.198386</td>\n",
       "      <td>0.129034</td>\n",
       "      <td>0.108696</td>\n",
       "      <td>0.116498</td>\n",
       "      <td>0.124233</td>\n",
       "      <td>0.401507</td>\n",
       "      <td>0.096426</td>\n",
       "      <td>0.146306</td>\n",
       "      <td>0.130101</td>\n",
       "      <td>1.476127</td>\n",
       "    </tr>\n",
       "    <tr>\n",
       "      <td>934</td>\n",
       "      <td>0.627634</td>\n",
       "      <td>0.780771</td>\n",
       "      <td>0.331712</td>\n",
       "      <td>2.299913</td>\n",
       "      <td>3.990897</td>\n",
       "      <td>0.211498</td>\n",
       "      <td>0.161741</td>\n",
       "      <td>2.580995</td>\n",
       "      <td>0.208380</td>\n",
       "      <td>1.391445</td>\n",
       "      <td>...</td>\n",
       "      <td>0.233503</td>\n",
       "      <td>0.156110</td>\n",
       "      <td>0.119915</td>\n",
       "      <td>0.116898</td>\n",
       "      <td>0.116972</td>\n",
       "      <td>0.554550</td>\n",
       "      <td>0.187597</td>\n",
       "      <td>0.171265</td>\n",
       "      <td>0.204958</td>\n",
       "      <td>1.800044</td>\n",
       "    </tr>\n",
       "    <tr>\n",
       "      <td>692</td>\n",
       "      <td>0.774384</td>\n",
       "      <td>1.046803</td>\n",
       "      <td>0.353698</td>\n",
       "      <td>2.586188</td>\n",
       "      <td>4.151429</td>\n",
       "      <td>0.222780</td>\n",
       "      <td>0.169212</td>\n",
       "      <td>5.681431</td>\n",
       "      <td>0.235108</td>\n",
       "      <td>1.637246</td>\n",
       "      <td>...</td>\n",
       "      <td>0.224179</td>\n",
       "      <td>0.146115</td>\n",
       "      <td>0.110637</td>\n",
       "      <td>0.109957</td>\n",
       "      <td>0.121083</td>\n",
       "      <td>0.448483</td>\n",
       "      <td>0.180172</td>\n",
       "      <td>0.142407</td>\n",
       "      <td>0.172508</td>\n",
       "      <td>1.655108</td>\n",
       "    </tr>\n",
       "    <tr>\n",
       "      <td>535</td>\n",
       "      <td>0.225014</td>\n",
       "      <td>0.385841</td>\n",
       "      <td>0.250574</td>\n",
       "      <td>1.996554</td>\n",
       "      <td>3.016944</td>\n",
       "      <td>0.218983</td>\n",
       "      <td>0.155370</td>\n",
       "      <td>2.514503</td>\n",
       "      <td>0.170735</td>\n",
       "      <td>1.048535</td>\n",
       "      <td>...</td>\n",
       "      <td>0.249223</td>\n",
       "      <td>0.163147</td>\n",
       "      <td>0.143638</td>\n",
       "      <td>0.134634</td>\n",
       "      <td>0.168185</td>\n",
       "      <td>0.454711</td>\n",
       "      <td>0.160146</td>\n",
       "      <td>0.189409</td>\n",
       "      <td>0.261014</td>\n",
       "      <td>1.460178</td>\n",
       "    </tr>\n",
       "    <tr>\n",
       "      <td>678</td>\n",
       "      <td>0.464630</td>\n",
       "      <td>0.666582</td>\n",
       "      <td>0.377916</td>\n",
       "      <td>2.701699</td>\n",
       "      <td>4.782074</td>\n",
       "      <td>0.234533</td>\n",
       "      <td>0.182302</td>\n",
       "      <td>4.119675</td>\n",
       "      <td>0.218940</td>\n",
       "      <td>1.329234</td>\n",
       "      <td>...</td>\n",
       "      <td>0.210038</td>\n",
       "      <td>0.140409</td>\n",
       "      <td>0.105798</td>\n",
       "      <td>0.112978</td>\n",
       "      <td>0.113316</td>\n",
       "      <td>0.512327</td>\n",
       "      <td>0.113926</td>\n",
       "      <td>0.149485</td>\n",
       "      <td>0.149282</td>\n",
       "      <td>1.946491</td>\n",
       "    </tr>\n",
       "    <tr>\n",
       "      <td>...</td>\n",
       "      <td>...</td>\n",
       "      <td>...</td>\n",
       "      <td>...</td>\n",
       "      <td>...</td>\n",
       "      <td>...</td>\n",
       "      <td>...</td>\n",
       "      <td>...</td>\n",
       "      <td>...</td>\n",
       "      <td>...</td>\n",
       "      <td>...</td>\n",
       "      <td>...</td>\n",
       "      <td>...</td>\n",
       "      <td>...</td>\n",
       "      <td>...</td>\n",
       "      <td>...</td>\n",
       "      <td>...</td>\n",
       "      <td>...</td>\n",
       "      <td>...</td>\n",
       "      <td>...</td>\n",
       "      <td>...</td>\n",
       "      <td>...</td>\n",
       "    </tr>\n",
       "    <tr>\n",
       "      <td>46</td>\n",
       "      <td>0.516108</td>\n",
       "      <td>0.749622</td>\n",
       "      <td>0.401297</td>\n",
       "      <td>2.919243</td>\n",
       "      <td>6.306811</td>\n",
       "      <td>0.192541</td>\n",
       "      <td>0.162270</td>\n",
       "      <td>1.854378</td>\n",
       "      <td>0.205081</td>\n",
       "      <td>1.746595</td>\n",
       "      <td>...</td>\n",
       "      <td>0.229049</td>\n",
       "      <td>0.157914</td>\n",
       "      <td>0.142559</td>\n",
       "      <td>0.143155</td>\n",
       "      <td>0.131053</td>\n",
       "      <td>0.600239</td>\n",
       "      <td>0.125857</td>\n",
       "      <td>0.187772</td>\n",
       "      <td>0.205440</td>\n",
       "      <td>1.720907</td>\n",
       "    </tr>\n",
       "    <tr>\n",
       "      <td>235</td>\n",
       "      <td>0.272919</td>\n",
       "      <td>0.426544</td>\n",
       "      <td>0.263713</td>\n",
       "      <td>1.958189</td>\n",
       "      <td>3.094745</td>\n",
       "      <td>0.212697</td>\n",
       "      <td>0.178174</td>\n",
       "      <td>4.782509</td>\n",
       "      <td>0.179325</td>\n",
       "      <td>1.202915</td>\n",
       "      <td>...</td>\n",
       "      <td>0.201825</td>\n",
       "      <td>0.221333</td>\n",
       "      <td>0.205333</td>\n",
       "      <td>0.123228</td>\n",
       "      <td>0.167018</td>\n",
       "      <td>0.503018</td>\n",
       "      <td>0.196070</td>\n",
       "      <td>0.280140</td>\n",
       "      <td>0.253333</td>\n",
       "      <td>1.070175</td>\n",
       "    </tr>\n",
       "    <tr>\n",
       "      <td>899</td>\n",
       "      <td>0.713426</td>\n",
       "      <td>0.805308</td>\n",
       "      <td>0.265834</td>\n",
       "      <td>1.860393</td>\n",
       "      <td>2.822034</td>\n",
       "      <td>0.205843</td>\n",
       "      <td>0.160348</td>\n",
       "      <td>1.875558</td>\n",
       "      <td>0.194469</td>\n",
       "      <td>1.760928</td>\n",
       "      <td>...</td>\n",
       "      <td>0.227592</td>\n",
       "      <td>0.141569</td>\n",
       "      <td>0.134762</td>\n",
       "      <td>0.104418</td>\n",
       "      <td>0.107304</td>\n",
       "      <td>0.390261</td>\n",
       "      <td>0.141208</td>\n",
       "      <td>0.174031</td>\n",
       "      <td>0.236429</td>\n",
       "      <td>1.524797</td>\n",
       "    </tr>\n",
       "    <tr>\n",
       "      <td>241</td>\n",
       "      <td>0.306760</td>\n",
       "      <td>0.463237</td>\n",
       "      <td>0.309184</td>\n",
       "      <td>2.522354</td>\n",
       "      <td>5.093994</td>\n",
       "      <td>0.226501</td>\n",
       "      <td>0.172502</td>\n",
       "      <td>5.725290</td>\n",
       "      <td>0.194991</td>\n",
       "      <td>1.502559</td>\n",
       "      <td>...</td>\n",
       "      <td>0.202857</td>\n",
       "      <td>0.154681</td>\n",
       "      <td>0.144038</td>\n",
       "      <td>0.120300</td>\n",
       "      <td>0.149569</td>\n",
       "      <td>0.452769</td>\n",
       "      <td>0.175688</td>\n",
       "      <td>0.183135</td>\n",
       "      <td>0.215111</td>\n",
       "      <td>0.701772</td>\n",
       "    </tr>\n",
       "    <tr>\n",
       "      <td>652</td>\n",
       "      <td>0.784336</td>\n",
       "      <td>0.900114</td>\n",
       "      <td>0.361237</td>\n",
       "      <td>2.420687</td>\n",
       "      <td>4.383087</td>\n",
       "      <td>0.239784</td>\n",
       "      <td>0.186862</td>\n",
       "      <td>2.542991</td>\n",
       "      <td>0.212826</td>\n",
       "      <td>1.666430</td>\n",
       "      <td>...</td>\n",
       "      <td>0.184359</td>\n",
       "      <td>0.136043</td>\n",
       "      <td>0.106595</td>\n",
       "      <td>0.103421</td>\n",
       "      <td>0.106154</td>\n",
       "      <td>0.410774</td>\n",
       "      <td>0.103421</td>\n",
       "      <td>0.146270</td>\n",
       "      <td>0.160906</td>\n",
       "      <td>2.001675</td>\n",
       "    </tr>\n",
       "  </tbody>\n",
       "</table>\n",
       "<p>432 rows × 77 columns</p>\n",
       "</div>"
      ],
      "text/plain": [
       "     DYRK1A_N   ITSN1_N    BDNF_N     NR1_N    NR2A_N    pAKT_N   pBRAF_N  \\\n",
       "904  0.581233  0.805369  0.295302  2.322274  4.149930  0.173610  0.141319   \n",
       "934  0.627634  0.780771  0.331712  2.299913  3.990897  0.211498  0.161741   \n",
       "692  0.774384  1.046803  0.353698  2.586188  4.151429  0.222780  0.169212   \n",
       "535  0.225014  0.385841  0.250574  1.996554  3.016944  0.218983  0.155370   \n",
       "678  0.464630  0.666582  0.377916  2.701699  4.782074  0.234533  0.182302   \n",
       "..        ...       ...       ...       ...       ...       ...       ...   \n",
       "46   0.516108  0.749622  0.401297  2.919243  6.306811  0.192541  0.162270   \n",
       "235  0.272919  0.426544  0.263713  1.958189  3.094745  0.212697  0.178174   \n",
       "899  0.713426  0.805308  0.265834  1.860393  2.822034  0.205843  0.160348   \n",
       "241  0.306760  0.463237  0.309184  2.522354  5.093994  0.226501  0.172502   \n",
       "652  0.784336  0.900114  0.361237  2.420687  4.383087  0.239784  0.186862   \n",
       "\n",
       "     pCAMKII_N   pCREB_N    pELK_N  ...     SHH_N     BAD_N    BCL2_N  \\\n",
       "904   2.052805  0.189692  1.577308  ...  0.198386  0.129034  0.108696   \n",
       "934   2.580995  0.208380  1.391445  ...  0.233503  0.156110  0.119915   \n",
       "692   5.681431  0.235108  1.637246  ...  0.224179  0.146115  0.110637   \n",
       "535   2.514503  0.170735  1.048535  ...  0.249223  0.163147  0.143638   \n",
       "678   4.119675  0.218940  1.329234  ...  0.210038  0.140409  0.105798   \n",
       "..         ...       ...       ...  ...       ...       ...       ...   \n",
       "46    1.854378  0.205081  1.746595  ...  0.229049  0.157914  0.142559   \n",
       "235   4.782509  0.179325  1.202915  ...  0.201825  0.221333  0.205333   \n",
       "899   1.875558  0.194469  1.760928  ...  0.227592  0.141569  0.134762   \n",
       "241   5.725290  0.194991  1.502559  ...  0.202857  0.154681  0.144038   \n",
       "652   2.542991  0.212826  1.666430  ...  0.184359  0.136043  0.106595   \n",
       "\n",
       "        pS6_N   pCFOS_N     SYP_N  H3AcK18_N    EGR1_N  H3MeK4_N    CaNA_N  \n",
       "904  0.116498  0.124233  0.401507   0.096426  0.146306  0.130101  1.476127  \n",
       "934  0.116898  0.116972  0.554550   0.187597  0.171265  0.204958  1.800044  \n",
       "692  0.109957  0.121083  0.448483   0.180172  0.142407  0.172508  1.655108  \n",
       "535  0.134634  0.168185  0.454711   0.160146  0.189409  0.261014  1.460178  \n",
       "678  0.112978  0.113316  0.512327   0.113926  0.149485  0.149282  1.946491  \n",
       "..        ...       ...       ...        ...       ...       ...       ...  \n",
       "46   0.143155  0.131053  0.600239   0.125857  0.187772  0.205440  1.720907  \n",
       "235  0.123228  0.167018  0.503018   0.196070  0.280140  0.253333  1.070175  \n",
       "899  0.104418  0.107304  0.390261   0.141208  0.174031  0.236429  1.524797  \n",
       "241  0.120300  0.149569  0.452769   0.175688  0.183135  0.215111  0.701772  \n",
       "652  0.103421  0.106154  0.410774   0.103421  0.146270  0.160906  2.001675  \n",
       "\n",
       "[432 rows x 77 columns]"
      ]
     },
     "execution_count": 58,
     "metadata": {},
     "output_type": "execute_result"
    }
   ],
   "source": [
    "#Check the testing set of X\n",
    "X_test"
   ]
  },
  {
   "cell_type": "code",
   "execution_count": 59,
   "metadata": {
    "scrolled": false
   },
   "outputs": [
    {
     "data": {
      "text/plain": [
       "904    t-CS-s\n",
       "934    t-CS-s\n",
       "692    t-CS-m\n",
       "535    c-SC-s\n",
       "678    t-CS-m\n",
       "        ...  \n",
       "46     c-CS-m\n",
       "235    c-SC-m\n",
       "899    t-CS-s\n",
       "241    c-SC-m\n",
       "652    t-CS-m\n",
       "Name: class, Length: 432, dtype: object"
      ]
     },
     "execution_count": 59,
     "metadata": {},
     "output_type": "execute_result"
    }
   ],
   "source": [
    "#Check the testing set of y\n",
    "y_test"
   ]
  },
  {
   "cell_type": "markdown",
   "metadata": {},
   "source": [
    "### Feature Selection"
   ]
  },
  {
   "cell_type": "markdown",
   "metadata": {},
   "source": [
    "Feature selection is performed to select the \"best\" proteins based on the importance retrieved using the Hill Climbing Technique. Feature engineering and selection is necessary to reduce overfitting, enhancing the efficiency of the Machine Learning algorithm, improving accuracy for most of the model as it reduces the complexity and redundancy of  data for the model to interpret. Hill climbing technique is used because it is a powerful yet simple algorithm to feature select the best attributes for our model as it examines the neighboring features one by one and selects the first neighboring feature which optimizes the current cost as next feature."
   ]
  },
  {
   "cell_type": "code",
   "execution_count": 60,
   "metadata": {
    "scrolled": false
   },
   "outputs": [
    {
     "name": "stdout",
     "output_type": "stream",
     "text": [
      "Score with 1 selectedfeatures: 0.16435185185185186\n",
      "Score with 2 selectedfeatures: 0.21064814814814814\n",
      "Score with 3 selectedfeatures: 0.27314814814814814\n",
      "Score with 4 selectedfeatures: 0.3402777777777778\n",
      "Score with 5 selectedfeatures: 0.41435185185185186\n",
      "Score with 6 selectedfeatures: 0.46064814814814814\n",
      "Score with 7 selectedfeatures: 0.4976851851851852\n",
      "Score with 8 selectedfeatures: 0.5115740740740741\n",
      "Score with 9 selectedfeatures: 0.5115740740740741\n",
      "Score with 10 selectedfeatures: 0.7013888888888888\n",
      "Score with 11 selectedfeatures: 0.7199074074074074\n",
      "Score with 12 selectedfeatures: 0.7523148148148148\n",
      "Score with 13 selectedfeatures: 0.8773148148148148\n",
      "Score with 14 selectedfeatures: 0.8958333333333334\n",
      "Score with 15 selectedfeatures: 0.9004629629629629\n",
      "Score with 16 selectedfeatures: 0.9166666666666666\n",
      "Score with 17 selectedfeatures: 0.9212962962962963\n",
      "Score with 18 selectedfeatures: 0.9236111111111112\n",
      "Score with 19 selectedfeatures: 0.9305555555555556\n",
      "Score with 20 selectedfeatures: 0.9537037037037037\n",
      "Score with 21 selectedfeatures: 0.9537037037037037\n",
      "Score with 22 selectedfeatures: 0.9537037037037037\n",
      "Score with 23 selectedfeatures: 0.9560185185185185\n",
      "Score with 24 selectedfeatures: 0.9560185185185185\n",
      "Score with 25 selectedfeatures: 0.9560185185185185\n",
      "Score with 26 selectedfeatures: 0.9583333333333334\n",
      "Score with 27 selectedfeatures: 0.9606481481481481\n",
      "Score with 28 selectedfeatures: 0.9606481481481481\n",
      "Score with 29 selectedfeatures: 0.9652777777777778\n",
      "Score with 30 selectedfeatures: 0.9652777777777778\n",
      "Score with 31 selectedfeatures: 0.9768518518518519\n",
      "Score with 32 selectedfeatures: 0.9768518518518519\n",
      "Score with 33 selectedfeatures: 0.9814814814814815\n",
      "Score with 34 selectedfeatures: 0.9814814814814815\n",
      "Score with 35 selectedfeatures: 0.9814814814814815\n",
      "Score with 36 selectedfeatures: 0.9837962962962963\n",
      "Score with 37 selectedfeatures: 0.9837962962962963\n",
      "There are 37 features selected:\n",
      "[31, 43, 26, 74, 58, 59, 61, 36, 57, 10, 53, 34, 46, 15, 19, 76, 70, 63, 75, 62, 55, 33, 68, 0, 69, 48, 73, 52, 32, 30, 49, 66, 42, 50, 6, 1, 12]\n"
     ]
    }
   ],
   "source": [
    "#Load packages of shuffle and KNeighborsClassifier from sklearn\n",
    "from sklearn.utils import shuffle\n",
    "from sklearn.neighbors import KNeighborsClassifier\n",
    "\n",
    "#Hill climbing Technique algorithm\n",
    "new_Ind = []\n",
    "cur_MaxScore = 0.0\n",
    "col_num = 77\n",
    "col_Ind_Random = shuffle(range(0,col_num), random_state=1)\n",
    "for cur_f in range(0, col_num):\n",
    "    new_Ind.append(col_Ind_Random[cur_f])\n",
    "    dfarray = np.asarray(X)\n",
    "    newData = dfarray[:, new_Ind]\n",
    "    X_feature_train, X_feature_test, y_train, y_test = train_test_split(newData,y, test_size=0.4, random_state=0)\n",
    "    clf = KNeighborsClassifier(5, weights='distance', p=1)\n",
    "    fit = clf.fit(X_feature_train, y_train)\n",
    "    cur_Score = clf.score(X_feature_test, y_test)\n",
    "    if cur_Score < cur_MaxScore:\n",
    "        new_Ind.remove(col_Ind_Random[cur_f])\n",
    "    else:\n",
    "        cur_MaxScore = cur_Score\n",
    "        print(\"Score with \" + str(len(new_Ind)) + \" selectedfeatures: \" + str(cur_Score))\n",
    "        \n",
    "print(\"There are \" + str(len(new_Ind)) + \" features selected:\")\n",
    "print(new_Ind)"
   ]
  },
  {
   "cell_type": "code",
   "execution_count": 61,
   "metadata": {
    "scrolled": true
   },
   "outputs": [],
   "source": [
    "#Make a variable of the important proteins from the index we obtained from Hill Climbing\n",
    "important_proteins = X.iloc[:,[31, 43, 26, 74, 58, 59, 61, 36, 57, 10, 53, 34, 46, 15, 19, 76, 70, 63, 75, 62, 55, 33, 68, 0, 69, 48, 73, 52, 32, 30, 49, 66, 42, 50, 6, 1, 12]]"
   ]
  },
  {
   "cell_type": "code",
   "execution_count": 62,
   "metadata": {},
   "outputs": [],
   "source": [
    "#Split the data into 40% test and 60% training set\n",
    "X_imptrain, X_imptest, y_train, y_test = train_test_split(important_proteins,y,test_size=0.4,random_state=0)"
   ]
  },
  {
   "cell_type": "code",
   "execution_count": 63,
   "metadata": {
    "scrolled": false
   },
   "outputs": [
    {
     "data": {
      "text/html": [
       "<div>\n",
       "<style scoped>\n",
       "    .dataframe tbody tr th:only-of-type {\n",
       "        vertical-align: middle;\n",
       "    }\n",
       "\n",
       "    .dataframe tbody tr th {\n",
       "        vertical-align: top;\n",
       "    }\n",
       "\n",
       "    .dataframe thead th {\n",
       "        text-align: right;\n",
       "    }\n",
       "</style>\n",
       "<table border=\"1\" class=\"dataframe\">\n",
       "  <thead>\n",
       "    <tr style=\"text-align: right;\">\n",
       "      <th></th>\n",
       "      <th>Bcatenin_N</th>\n",
       "      <th>NUMB_N</th>\n",
       "      <th>JNK_N</th>\n",
       "      <th>EGR1_N</th>\n",
       "      <th>GluR3_N</th>\n",
       "      <th>GluR4_N</th>\n",
       "      <th>P3525_N</th>\n",
       "      <th>DSCR1_N</th>\n",
       "      <th>GFAP_N</th>\n",
       "      <th>pERK_N</th>\n",
       "      <th>...</th>\n",
       "      <th>BAX_N</th>\n",
       "      <th>SOD1_N</th>\n",
       "      <th>APP_N</th>\n",
       "      <th>ADARB1_N</th>\n",
       "      <th>pGSK3B_Tyr216_N</th>\n",
       "      <th>pP70S6_N</th>\n",
       "      <th>AcetylH3K9_N</th>\n",
       "      <th>pBRAF_N</th>\n",
       "      <th>ITSN1_N</th>\n",
       "      <th>PKCA_N</th>\n",
       "    </tr>\n",
       "  </thead>\n",
       "  <tbody>\n",
       "    <tr>\n",
       "      <td>402</td>\n",
       "      <td>1.665057</td>\n",
       "      <td>0.195761</td>\n",
       "      <td>0.218467</td>\n",
       "      <td>0.192912</td>\n",
       "      <td>0.277347</td>\n",
       "      <td>0.167730</td>\n",
       "      <td>0.265839</td>\n",
       "      <td>0.467411</td>\n",
       "      <td>0.119531</td>\n",
       "      <td>0.532136</td>\n",
       "      <td>...</td>\n",
       "      <td>0.195533</td>\n",
       "      <td>0.259807</td>\n",
       "      <td>0.308540</td>\n",
       "      <td>0.862580</td>\n",
       "      <td>0.904626</td>\n",
       "      <td>0.200211</td>\n",
       "      <td>0.075205</td>\n",
       "      <td>0.169734</td>\n",
       "      <td>0.469071</td>\n",
       "      <td>0.338262</td>\n",
       "    </tr>\n",
       "    <tr>\n",
       "      <td>161</td>\n",
       "      <td>2.093620</td>\n",
       "      <td>0.152669</td>\n",
       "      <td>0.268672</td>\n",
       "      <td>0.267578</td>\n",
       "      <td>0.258789</td>\n",
       "      <td>0.146322</td>\n",
       "      <td>0.293294</td>\n",
       "      <td>0.638485</td>\n",
       "      <td>0.110352</td>\n",
       "      <td>0.418828</td>\n",
       "      <td>...</td>\n",
       "      <td>0.161458</td>\n",
       "      <td>0.586618</td>\n",
       "      <td>0.403786</td>\n",
       "      <td>0.956868</td>\n",
       "      <td>0.871582</td>\n",
       "      <td>0.484180</td>\n",
       "      <td>0.062663</td>\n",
       "      <td>0.224326</td>\n",
       "      <td>0.490405</td>\n",
       "      <td>0.314575</td>\n",
       "    </tr>\n",
       "    <tr>\n",
       "      <td>568</td>\n",
       "      <td>2.146550</td>\n",
       "      <td>0.154872</td>\n",
       "      <td>0.252350</td>\n",
       "      <td>0.222922</td>\n",
       "      <td>0.244535</td>\n",
       "      <td>0.161665</td>\n",
       "      <td>0.310979</td>\n",
       "      <td>0.615598</td>\n",
       "      <td>0.126467</td>\n",
       "      <td>0.299359</td>\n",
       "      <td>...</td>\n",
       "      <td>0.177597</td>\n",
       "      <td>0.451709</td>\n",
       "      <td>0.452991</td>\n",
       "      <td>1.028282</td>\n",
       "      <td>0.820304</td>\n",
       "      <td>0.612607</td>\n",
       "      <td>0.320366</td>\n",
       "      <td>0.200427</td>\n",
       "      <td>0.371795</td>\n",
       "      <td>0.356410</td>\n",
       "    </tr>\n",
       "    <tr>\n",
       "      <td>177</td>\n",
       "      <td>1.825000</td>\n",
       "      <td>0.145773</td>\n",
       "      <td>0.255937</td>\n",
       "      <td>0.340884</td>\n",
       "      <td>0.331016</td>\n",
       "      <td>0.177394</td>\n",
       "      <td>0.326979</td>\n",
       "      <td>0.713125</td>\n",
       "      <td>0.139045</td>\n",
       "      <td>0.457188</td>\n",
       "      <td>...</td>\n",
       "      <td>0.153398</td>\n",
       "      <td>0.741875</td>\n",
       "      <td>0.386250</td>\n",
       "      <td>0.752411</td>\n",
       "      <td>0.860283</td>\n",
       "      <td>0.523750</td>\n",
       "      <td>0.145548</td>\n",
       "      <td>0.225000</td>\n",
       "      <td>0.408125</td>\n",
       "      <td>0.306875</td>\n",
       "    </tr>\n",
       "    <tr>\n",
       "      <td>948</td>\n",
       "      <td>2.012717</td>\n",
       "      <td>0.209686</td>\n",
       "      <td>0.207565</td>\n",
       "      <td>0.201812</td>\n",
       "      <td>0.223724</td>\n",
       "      <td>0.157469</td>\n",
       "      <td>0.337369</td>\n",
       "      <td>0.469986</td>\n",
       "      <td>0.126718</td>\n",
       "      <td>0.271042</td>\n",
       "      <td>...</td>\n",
       "      <td>0.195202</td>\n",
       "      <td>1.239681</td>\n",
       "      <td>0.392607</td>\n",
       "      <td>0.976008</td>\n",
       "      <td>0.924608</td>\n",
       "      <td>0.467831</td>\n",
       "      <td>0.376513</td>\n",
       "      <td>0.152818</td>\n",
       "      <td>0.519021</td>\n",
       "      <td>0.255631</td>\n",
       "    </tr>\n",
       "    <tr>\n",
       "      <td>...</td>\n",
       "      <td>...</td>\n",
       "      <td>...</td>\n",
       "      <td>...</td>\n",
       "      <td>...</td>\n",
       "      <td>...</td>\n",
       "      <td>...</td>\n",
       "      <td>...</td>\n",
       "      <td>...</td>\n",
       "      <td>...</td>\n",
       "      <td>...</td>\n",
       "      <td>...</td>\n",
       "      <td>...</td>\n",
       "      <td>...</td>\n",
       "      <td>...</td>\n",
       "      <td>...</td>\n",
       "      <td>...</td>\n",
       "      <td>...</td>\n",
       "      <td>...</td>\n",
       "      <td>...</td>\n",
       "      <td>...</td>\n",
       "      <td>...</td>\n",
       "    </tr>\n",
       "    <tr>\n",
       "      <td>1033</td>\n",
       "      <td>1.695838</td>\n",
       "      <td>0.144486</td>\n",
       "      <td>0.221718</td>\n",
       "      <td>0.183135</td>\n",
       "      <td>0.173893</td>\n",
       "      <td>0.121080</td>\n",
       "      <td>0.279370</td>\n",
       "      <td>0.733725</td>\n",
       "      <td>0.139835</td>\n",
       "      <td>0.346318</td>\n",
       "      <td>...</td>\n",
       "      <td>0.156189</td>\n",
       "      <td>0.470117</td>\n",
       "      <td>0.433298</td>\n",
       "      <td>0.999700</td>\n",
       "      <td>0.705176</td>\n",
       "      <td>0.775080</td>\n",
       "      <td>0.328582</td>\n",
       "      <td>0.196638</td>\n",
       "      <td>0.402882</td>\n",
       "      <td>0.321505</td>\n",
       "    </tr>\n",
       "    <tr>\n",
       "      <td>763</td>\n",
       "      <td>2.140729</td>\n",
       "      <td>0.180498</td>\n",
       "      <td>0.290237</td>\n",
       "      <td>0.267073</td>\n",
       "      <td>0.187130</td>\n",
       "      <td>0.118659</td>\n",
       "      <td>0.343251</td>\n",
       "      <td>0.718276</td>\n",
       "      <td>0.126187</td>\n",
       "      <td>0.342910</td>\n",
       "      <td>...</td>\n",
       "      <td>0.186055</td>\n",
       "      <td>0.864858</td>\n",
       "      <td>0.437882</td>\n",
       "      <td>1.147159</td>\n",
       "      <td>0.961642</td>\n",
       "      <td>0.367119</td>\n",
       "      <td>0.340921</td>\n",
       "      <td>0.229316</td>\n",
       "      <td>0.604150</td>\n",
       "      <td>0.336792</td>\n",
       "    </tr>\n",
       "    <tr>\n",
       "      <td>835</td>\n",
       "      <td>1.719875</td>\n",
       "      <td>0.153023</td>\n",
       "      <td>0.207492</td>\n",
       "      <td>0.201467</td>\n",
       "      <td>0.192451</td>\n",
       "      <td>0.101935</td>\n",
       "      <td>0.284169</td>\n",
       "      <td>0.608117</td>\n",
       "      <td>0.101455</td>\n",
       "      <td>0.450156</td>\n",
       "      <td>...</td>\n",
       "      <td>0.166967</td>\n",
       "      <td>0.576691</td>\n",
       "      <td>0.401249</td>\n",
       "      <td>1.105542</td>\n",
       "      <td>0.850823</td>\n",
       "      <td>0.406660</td>\n",
       "      <td>0.112393</td>\n",
       "      <td>0.168158</td>\n",
       "      <td>0.584183</td>\n",
       "      <td>0.281790</td>\n",
       "    </tr>\n",
       "    <tr>\n",
       "      <td>559</td>\n",
       "      <td>2.146550</td>\n",
       "      <td>0.202555</td>\n",
       "      <td>0.232631</td>\n",
       "      <td>0.174449</td>\n",
       "      <td>0.240562</td>\n",
       "      <td>0.165378</td>\n",
       "      <td>0.328138</td>\n",
       "      <td>0.524256</td>\n",
       "      <td>0.125391</td>\n",
       "      <td>0.286941</td>\n",
       "      <td>...</td>\n",
       "      <td>0.196806</td>\n",
       "      <td>0.462139</td>\n",
       "      <td>0.370916</td>\n",
       "      <td>1.577387</td>\n",
       "      <td>0.934590</td>\n",
       "      <td>0.494145</td>\n",
       "      <td>0.391377</td>\n",
       "      <td>0.162262</td>\n",
       "      <td>0.378722</td>\n",
       "      <td>0.343036</td>\n",
       "    </tr>\n",
       "    <tr>\n",
       "      <td>684</td>\n",
       "      <td>1.977299</td>\n",
       "      <td>0.180838</td>\n",
       "      <td>0.278661</td>\n",
       "      <td>0.186228</td>\n",
       "      <td>0.210419</td>\n",
       "      <td>0.107665</td>\n",
       "      <td>0.273653</td>\n",
       "      <td>0.543322</td>\n",
       "      <td>0.111976</td>\n",
       "      <td>0.562807</td>\n",
       "      <td>...</td>\n",
       "      <td>0.200479</td>\n",
       "      <td>0.306659</td>\n",
       "      <td>0.398978</td>\n",
       "      <td>1.338563</td>\n",
       "      <td>0.926347</td>\n",
       "      <td>0.524404</td>\n",
       "      <td>0.120000</td>\n",
       "      <td>0.185585</td>\n",
       "      <td>0.575482</td>\n",
       "      <td>0.356224</td>\n",
       "    </tr>\n",
       "  </tbody>\n",
       "</table>\n",
       "<p>648 rows × 37 columns</p>\n",
       "</div>"
      ],
      "text/plain": [
       "      Bcatenin_N    NUMB_N     JNK_N    EGR1_N   GluR3_N   GluR4_N   P3525_N  \\\n",
       "402     1.665057  0.195761  0.218467  0.192912  0.277347  0.167730  0.265839   \n",
       "161     2.093620  0.152669  0.268672  0.267578  0.258789  0.146322  0.293294   \n",
       "568     2.146550  0.154872  0.252350  0.222922  0.244535  0.161665  0.310979   \n",
       "177     1.825000  0.145773  0.255937  0.340884  0.331016  0.177394  0.326979   \n",
       "948     2.012717  0.209686  0.207565  0.201812  0.223724  0.157469  0.337369   \n",
       "...          ...       ...       ...       ...       ...       ...       ...   \n",
       "1033    1.695838  0.144486  0.221718  0.183135  0.173893  0.121080  0.279370   \n",
       "763     2.140729  0.180498  0.290237  0.267073  0.187130  0.118659  0.343251   \n",
       "835     1.719875  0.153023  0.207492  0.201467  0.192451  0.101935  0.284169   \n",
       "559     2.146550  0.202555  0.232631  0.174449  0.240562  0.165378  0.328138   \n",
       "684     1.977299  0.180838  0.278661  0.186228  0.210419  0.107665  0.273653   \n",
       "\n",
       "       DSCR1_N    GFAP_N    pERK_N  ...     BAX_N    SOD1_N     APP_N  \\\n",
       "402   0.467411  0.119531  0.532136  ...  0.195533  0.259807  0.308540   \n",
       "161   0.638485  0.110352  0.418828  ...  0.161458  0.586618  0.403786   \n",
       "568   0.615598  0.126467  0.299359  ...  0.177597  0.451709  0.452991   \n",
       "177   0.713125  0.139045  0.457188  ...  0.153398  0.741875  0.386250   \n",
       "948   0.469986  0.126718  0.271042  ...  0.195202  1.239681  0.392607   \n",
       "...        ...       ...       ...  ...       ...       ...       ...   \n",
       "1033  0.733725  0.139835  0.346318  ...  0.156189  0.470117  0.433298   \n",
       "763   0.718276  0.126187  0.342910  ...  0.186055  0.864858  0.437882   \n",
       "835   0.608117  0.101455  0.450156  ...  0.166967  0.576691  0.401249   \n",
       "559   0.524256  0.125391  0.286941  ...  0.196806  0.462139  0.370916   \n",
       "684   0.543322  0.111976  0.562807  ...  0.200479  0.306659  0.398978   \n",
       "\n",
       "      ADARB1_N  pGSK3B_Tyr216_N  pP70S6_N  AcetylH3K9_N   pBRAF_N   ITSN1_N  \\\n",
       "402   0.862580         0.904626  0.200211      0.075205  0.169734  0.469071   \n",
       "161   0.956868         0.871582  0.484180      0.062663  0.224326  0.490405   \n",
       "568   1.028282         0.820304  0.612607      0.320366  0.200427  0.371795   \n",
       "177   0.752411         0.860283  0.523750      0.145548  0.225000  0.408125   \n",
       "948   0.976008         0.924608  0.467831      0.376513  0.152818  0.519021   \n",
       "...        ...              ...       ...           ...       ...       ...   \n",
       "1033  0.999700         0.705176  0.775080      0.328582  0.196638  0.402882   \n",
       "763   1.147159         0.961642  0.367119      0.340921  0.229316  0.604150   \n",
       "835   1.105542         0.850823  0.406660      0.112393  0.168158  0.584183   \n",
       "559   1.577387         0.934590  0.494145      0.391377  0.162262  0.378722   \n",
       "684   1.338563         0.926347  0.524404      0.120000  0.185585  0.575482   \n",
       "\n",
       "        PKCA_N  \n",
       "402   0.338262  \n",
       "161   0.314575  \n",
       "568   0.356410  \n",
       "177   0.306875  \n",
       "948   0.255631  \n",
       "...        ...  \n",
       "1033  0.321505  \n",
       "763   0.336792  \n",
       "835   0.281790  \n",
       "559   0.343036  \n",
       "684   0.356224  \n",
       "\n",
       "[648 rows x 37 columns]"
      ]
     },
     "execution_count": 63,
     "metadata": {},
     "output_type": "execute_result"
    }
   ],
   "source": [
    "#Check the important training set of X\n",
    "X_imptrain"
   ]
  },
  {
   "cell_type": "code",
   "execution_count": 64,
   "metadata": {},
   "outputs": [
    {
     "data": {
      "text/html": [
       "<div>\n",
       "<style scoped>\n",
       "    .dataframe tbody tr th:only-of-type {\n",
       "        vertical-align: middle;\n",
       "    }\n",
       "\n",
       "    .dataframe tbody tr th {\n",
       "        vertical-align: top;\n",
       "    }\n",
       "\n",
       "    .dataframe thead th {\n",
       "        text-align: right;\n",
       "    }\n",
       "</style>\n",
       "<table border=\"1\" class=\"dataframe\">\n",
       "  <thead>\n",
       "    <tr style=\"text-align: right;\">\n",
       "      <th></th>\n",
       "      <th>Bcatenin_N</th>\n",
       "      <th>NUMB_N</th>\n",
       "      <th>JNK_N</th>\n",
       "      <th>EGR1_N</th>\n",
       "      <th>GluR3_N</th>\n",
       "      <th>GluR4_N</th>\n",
       "      <th>P3525_N</th>\n",
       "      <th>DSCR1_N</th>\n",
       "      <th>GFAP_N</th>\n",
       "      <th>pERK_N</th>\n",
       "      <th>...</th>\n",
       "      <th>BAX_N</th>\n",
       "      <th>SOD1_N</th>\n",
       "      <th>APP_N</th>\n",
       "      <th>ADARB1_N</th>\n",
       "      <th>pGSK3B_Tyr216_N</th>\n",
       "      <th>pP70S6_N</th>\n",
       "      <th>AcetylH3K9_N</th>\n",
       "      <th>pBRAF_N</th>\n",
       "      <th>ITSN1_N</th>\n",
       "      <th>PKCA_N</th>\n",
       "    </tr>\n",
       "  </thead>\n",
       "  <tbody>\n",
       "    <tr>\n",
       "      <td>904</td>\n",
       "      <td>2.081930</td>\n",
       "      <td>0.227194</td>\n",
       "      <td>0.206028</td>\n",
       "      <td>0.146306</td>\n",
       "      <td>0.245666</td>\n",
       "      <td>0.136636</td>\n",
       "      <td>0.279408</td>\n",
       "      <td>0.578448</td>\n",
       "      <td>0.123366</td>\n",
       "      <td>0.804483</td>\n",
       "      <td>...</td>\n",
       "      <td>0.181382</td>\n",
       "      <td>0.286818</td>\n",
       "      <td>0.446879</td>\n",
       "      <td>1.929381</td>\n",
       "      <td>0.851160</td>\n",
       "      <td>0.145118</td>\n",
       "      <td>0.081755</td>\n",
       "      <td>0.141319</td>\n",
       "      <td>0.805369</td>\n",
       "      <td>0.267697</td>\n",
       "    </tr>\n",
       "    <tr>\n",
       "      <td>934</td>\n",
       "      <td>2.208006</td>\n",
       "      <td>0.236151</td>\n",
       "      <td>0.241053</td>\n",
       "      <td>0.171265</td>\n",
       "      <td>0.212315</td>\n",
       "      <td>0.133083</td>\n",
       "      <td>0.335173</td>\n",
       "      <td>0.543085</td>\n",
       "      <td>0.130655</td>\n",
       "      <td>0.624392</td>\n",
       "      <td>...</td>\n",
       "      <td>0.208858</td>\n",
       "      <td>0.323606</td>\n",
       "      <td>0.496072</td>\n",
       "      <td>1.584713</td>\n",
       "      <td>0.936144</td>\n",
       "      <td>0.320239</td>\n",
       "      <td>0.319208</td>\n",
       "      <td>0.161741</td>\n",
       "      <td>0.780771</td>\n",
       "      <td>0.325228</td>\n",
       "    </tr>\n",
       "    <tr>\n",
       "      <td>692</td>\n",
       "      <td>2.354353</td>\n",
       "      <td>0.221954</td>\n",
       "      <td>0.244381</td>\n",
       "      <td>0.142407</td>\n",
       "      <td>0.239323</td>\n",
       "      <td>0.172075</td>\n",
       "      <td>0.299895</td>\n",
       "      <td>0.555531</td>\n",
       "      <td>0.119167</td>\n",
       "      <td>1.013746</td>\n",
       "      <td>...</td>\n",
       "      <td>0.196304</td>\n",
       "      <td>0.314968</td>\n",
       "      <td>0.515165</td>\n",
       "      <td>1.822548</td>\n",
       "      <td>1.003338</td>\n",
       "      <td>0.462688</td>\n",
       "      <td>0.364052</td>\n",
       "      <td>0.169212</td>\n",
       "      <td>1.046803</td>\n",
       "      <td>0.410975</td>\n",
       "    </tr>\n",
       "    <tr>\n",
       "      <td>535</td>\n",
       "      <td>1.802700</td>\n",
       "      <td>0.183085</td>\n",
       "      <td>0.207639</td>\n",
       "      <td>0.189409</td>\n",
       "      <td>0.206239</td>\n",
       "      <td>0.112767</td>\n",
       "      <td>0.276986</td>\n",
       "      <td>0.437823</td>\n",
       "      <td>0.120913</td>\n",
       "      <td>0.274555</td>\n",
       "      <td>...</td>\n",
       "      <td>0.199164</td>\n",
       "      <td>0.588886</td>\n",
       "      <td>0.279581</td>\n",
       "      <td>0.890664</td>\n",
       "      <td>0.880159</td>\n",
       "      <td>0.214532</td>\n",
       "      <td>0.112016</td>\n",
       "      <td>0.155370</td>\n",
       "      <td>0.385841</td>\n",
       "      <td>0.228173</td>\n",
       "    </tr>\n",
       "    <tr>\n",
       "      <td>678</td>\n",
       "      <td>2.499873</td>\n",
       "      <td>0.200420</td>\n",
       "      <td>0.272946</td>\n",
       "      <td>0.149485</td>\n",
       "      <td>0.238824</td>\n",
       "      <td>0.123611</td>\n",
       "      <td>0.314278</td>\n",
       "      <td>0.549442</td>\n",
       "      <td>0.115687</td>\n",
       "      <td>0.685598</td>\n",
       "      <td>...</td>\n",
       "      <td>0.184571</td>\n",
       "      <td>0.322642</td>\n",
       "      <td>0.423428</td>\n",
       "      <td>1.677255</td>\n",
       "      <td>0.916554</td>\n",
       "      <td>0.361942</td>\n",
       "      <td>0.143999</td>\n",
       "      <td>0.182302</td>\n",
       "      <td>0.666582</td>\n",
       "      <td>0.394650</td>\n",
       "    </tr>\n",
       "    <tr>\n",
       "      <td>...</td>\n",
       "      <td>...</td>\n",
       "      <td>...</td>\n",
       "      <td>...</td>\n",
       "      <td>...</td>\n",
       "      <td>...</td>\n",
       "      <td>...</td>\n",
       "      <td>...</td>\n",
       "      <td>...</td>\n",
       "      <td>...</td>\n",
       "      <td>...</td>\n",
       "      <td>...</td>\n",
       "      <td>...</td>\n",
       "      <td>...</td>\n",
       "      <td>...</td>\n",
       "      <td>...</td>\n",
       "      <td>...</td>\n",
       "      <td>...</td>\n",
       "      <td>...</td>\n",
       "      <td>...</td>\n",
       "      <td>...</td>\n",
       "      <td>...</td>\n",
       "    </tr>\n",
       "    <tr>\n",
       "      <td>46</td>\n",
       "      <td>2.665514</td>\n",
       "      <td>0.255174</td>\n",
       "      <td>0.253730</td>\n",
       "      <td>0.187772</td>\n",
       "      <td>0.238950</td>\n",
       "      <td>0.139815</td>\n",
       "      <td>0.334685</td>\n",
       "      <td>0.662378</td>\n",
       "      <td>0.133075</td>\n",
       "      <td>0.843351</td>\n",
       "      <td>...</td>\n",
       "      <td>0.215091</td>\n",
       "      <td>0.337622</td>\n",
       "      <td>0.413730</td>\n",
       "      <td>2.286490</td>\n",
       "      <td>0.933373</td>\n",
       "      <td>0.187459</td>\n",
       "      <td>0.105219</td>\n",
       "      <td>0.162270</td>\n",
       "      <td>0.749622</td>\n",
       "      <td>0.324865</td>\n",
       "    </tr>\n",
       "    <tr>\n",
       "      <td>235</td>\n",
       "      <td>1.676064</td>\n",
       "      <td>0.153123</td>\n",
       "      <td>0.204450</td>\n",
       "      <td>0.280140</td>\n",
       "      <td>0.269193</td>\n",
       "      <td>0.149754</td>\n",
       "      <td>0.284070</td>\n",
       "      <td>0.606252</td>\n",
       "      <td>0.125474</td>\n",
       "      <td>0.370924</td>\n",
       "      <td>...</td>\n",
       "      <td>0.183018</td>\n",
       "      <td>0.522056</td>\n",
       "      <td>0.379363</td>\n",
       "      <td>1.266386</td>\n",
       "      <td>0.821333</td>\n",
       "      <td>0.358074</td>\n",
       "      <td>0.169123</td>\n",
       "      <td>0.178174</td>\n",
       "      <td>0.426544</td>\n",
       "      <td>0.261220</td>\n",
       "    </tr>\n",
       "    <tr>\n",
       "      <td>899</td>\n",
       "      <td>1.562444</td>\n",
       "      <td>0.181966</td>\n",
       "      <td>0.221677</td>\n",
       "      <td>0.174031</td>\n",
       "      <td>0.192967</td>\n",
       "      <td>0.115600</td>\n",
       "      <td>0.262038</td>\n",
       "      <td>0.548840</td>\n",
       "      <td>0.117583</td>\n",
       "      <td>1.006021</td>\n",
       "      <td>...</td>\n",
       "      <td>0.157800</td>\n",
       "      <td>0.285905</td>\n",
       "      <td>0.368198</td>\n",
       "      <td>0.908566</td>\n",
       "      <td>0.825428</td>\n",
       "      <td>0.146744</td>\n",
       "      <td>0.081335</td>\n",
       "      <td>0.160348</td>\n",
       "      <td>0.805308</td>\n",
       "      <td>0.258475</td>\n",
       "    </tr>\n",
       "    <tr>\n",
       "      <td>241</td>\n",
       "      <td>2.495825</td>\n",
       "      <td>0.186331</td>\n",
       "      <td>0.225828</td>\n",
       "      <td>0.183135</td>\n",
       "      <td>0.261676</td>\n",
       "      <td>0.150410</td>\n",
       "      <td>0.267768</td>\n",
       "      <td>0.663345</td>\n",
       "      <td>0.122470</td>\n",
       "      <td>0.381228</td>\n",
       "      <td>...</td>\n",
       "      <td>0.213991</td>\n",
       "      <td>0.493267</td>\n",
       "      <td>0.363453</td>\n",
       "      <td>1.365871</td>\n",
       "      <td>0.733282</td>\n",
       "      <td>0.519795</td>\n",
       "      <td>0.197535</td>\n",
       "      <td>0.172502</td>\n",
       "      <td>0.463237</td>\n",
       "      <td>0.322111</td>\n",
       "    </tr>\n",
       "    <tr>\n",
       "      <td>652</td>\n",
       "      <td>2.384364</td>\n",
       "      <td>0.182155</td>\n",
       "      <td>0.264330</td>\n",
       "      <td>0.146270</td>\n",
       "      <td>0.209399</td>\n",
       "      <td>0.117792</td>\n",
       "      <td>0.253571</td>\n",
       "      <td>0.589245</td>\n",
       "      <td>0.110210</td>\n",
       "      <td>0.957860</td>\n",
       "      <td>...</td>\n",
       "      <td>0.191060</td>\n",
       "      <td>0.323922</td>\n",
       "      <td>0.450482</td>\n",
       "      <td>1.068066</td>\n",
       "      <td>0.936519</td>\n",
       "      <td>0.271708</td>\n",
       "      <td>0.092929</td>\n",
       "      <td>0.186862</td>\n",
       "      <td>0.900114</td>\n",
       "      <td>0.341657</td>\n",
       "    </tr>\n",
       "  </tbody>\n",
       "</table>\n",
       "<p>432 rows × 37 columns</p>\n",
       "</div>"
      ],
      "text/plain": [
       "     Bcatenin_N    NUMB_N     JNK_N    EGR1_N   GluR3_N   GluR4_N   P3525_N  \\\n",
       "904    2.081930  0.227194  0.206028  0.146306  0.245666  0.136636  0.279408   \n",
       "934    2.208006  0.236151  0.241053  0.171265  0.212315  0.133083  0.335173   \n",
       "692    2.354353  0.221954  0.244381  0.142407  0.239323  0.172075  0.299895   \n",
       "535    1.802700  0.183085  0.207639  0.189409  0.206239  0.112767  0.276986   \n",
       "678    2.499873  0.200420  0.272946  0.149485  0.238824  0.123611  0.314278   \n",
       "..          ...       ...       ...       ...       ...       ...       ...   \n",
       "46     2.665514  0.255174  0.253730  0.187772  0.238950  0.139815  0.334685   \n",
       "235    1.676064  0.153123  0.204450  0.280140  0.269193  0.149754  0.284070   \n",
       "899    1.562444  0.181966  0.221677  0.174031  0.192967  0.115600  0.262038   \n",
       "241    2.495825  0.186331  0.225828  0.183135  0.261676  0.150410  0.267768   \n",
       "652    2.384364  0.182155  0.264330  0.146270  0.209399  0.117792  0.253571   \n",
       "\n",
       "      DSCR1_N    GFAP_N    pERK_N  ...     BAX_N    SOD1_N     APP_N  \\\n",
       "904  0.578448  0.123366  0.804483  ...  0.181382  0.286818  0.446879   \n",
       "934  0.543085  0.130655  0.624392  ...  0.208858  0.323606  0.496072   \n",
       "692  0.555531  0.119167  1.013746  ...  0.196304  0.314968  0.515165   \n",
       "535  0.437823  0.120913  0.274555  ...  0.199164  0.588886  0.279581   \n",
       "678  0.549442  0.115687  0.685598  ...  0.184571  0.322642  0.423428   \n",
       "..        ...       ...       ...  ...       ...       ...       ...   \n",
       "46   0.662378  0.133075  0.843351  ...  0.215091  0.337622  0.413730   \n",
       "235  0.606252  0.125474  0.370924  ...  0.183018  0.522056  0.379363   \n",
       "899  0.548840  0.117583  1.006021  ...  0.157800  0.285905  0.368198   \n",
       "241  0.663345  0.122470  0.381228  ...  0.213991  0.493267  0.363453   \n",
       "652  0.589245  0.110210  0.957860  ...  0.191060  0.323922  0.450482   \n",
       "\n",
       "     ADARB1_N  pGSK3B_Tyr216_N  pP70S6_N  AcetylH3K9_N   pBRAF_N   ITSN1_N  \\\n",
       "904  1.929381         0.851160  0.145118      0.081755  0.141319  0.805369   \n",
       "934  1.584713         0.936144  0.320239      0.319208  0.161741  0.780771   \n",
       "692  1.822548         1.003338  0.462688      0.364052  0.169212  1.046803   \n",
       "535  0.890664         0.880159  0.214532      0.112016  0.155370  0.385841   \n",
       "678  1.677255         0.916554  0.361942      0.143999  0.182302  0.666582   \n",
       "..        ...              ...       ...           ...       ...       ...   \n",
       "46   2.286490         0.933373  0.187459      0.105219  0.162270  0.749622   \n",
       "235  1.266386         0.821333  0.358074      0.169123  0.178174  0.426544   \n",
       "899  0.908566         0.825428  0.146744      0.081335  0.160348  0.805308   \n",
       "241  1.365871         0.733282  0.519795      0.197535  0.172502  0.463237   \n",
       "652  1.068066         0.936519  0.271708      0.092929  0.186862  0.900114   \n",
       "\n",
       "       PKCA_N  \n",
       "904  0.267697  \n",
       "934  0.325228  \n",
       "692  0.410975  \n",
       "535  0.228173  \n",
       "678  0.394650  \n",
       "..        ...  \n",
       "46   0.324865  \n",
       "235  0.261220  \n",
       "899  0.258475  \n",
       "241  0.322111  \n",
       "652  0.341657  \n",
       "\n",
       "[432 rows x 37 columns]"
      ]
     },
     "execution_count": 64,
     "metadata": {},
     "output_type": "execute_result"
    }
   ],
   "source": [
    "#Check the important test set of X\n",
    "X_imptest"
   ]
  },
  {
   "cell_type": "markdown",
   "metadata": {},
   "source": [
    "From the results shown on the feature selection using Hill Climbing Technique, we found that there are 37 features to be selected as our important proteins with their indexes provided by the algorithm, which show the best score. After that, training and test set are generated using the important proteins, so that they can be used for training a model easily. Moreover, the generated train and test set were carefully checked to ensure that they are correct in sizes after splitting, following the correct feature selected proteins."
   ]
  },
  {
   "cell_type": "markdown",
   "metadata": {},
   "source": [
    "## Model execution"
   ]
  },
  {
   "cell_type": "markdown",
   "metadata": {},
   "source": [
    "### K-Nearest Neighbors Classification"
   ]
  },
  {
   "cell_type": "markdown",
   "metadata": {},
   "source": [
    "In this section, the kNN classifier with default value of 5 n_neighbors using all proteins and kNN classifier with default value of 5 n_neighbors using only the important proteins will be executed and trained, in order to have a clear comparison of the results between training the model using all proteins and using only important proteins on default values. We will start by using the default value because it helps us to indicate the base results."
   ]
  },
  {
   "cell_type": "code",
   "execution_count": 65,
   "metadata": {},
   "outputs": [],
   "source": [
    "#Select a k-Nearest Neighbor classifier using default value of 5 n_neighbors \n",
    "clf = KNeighborsClassifier(5)"
   ]
  },
  {
   "cell_type": "code",
   "execution_count": 66,
   "metadata": {},
   "outputs": [],
   "source": [
    "#Fitting the model with X_train and y_train data\n",
    "fit = clf.fit(X_train, y_train)"
   ]
  },
  {
   "cell_type": "code",
   "execution_count": 67,
   "metadata": {},
   "outputs": [],
   "source": [
    "#Predict on unseen data of X_test\n",
    "y_pre = fit.predict(X_test)"
   ]
  },
  {
   "cell_type": "code",
   "execution_count": 68,
   "metadata": {
    "scrolled": false
   },
   "outputs": [
    {
     "data": {
      "text/plain": [
       "array(['t-CS-s', 't-CS-s', 't-CS-m', 'c-SC-s', 'c-CS-m', 't-SC-s',\n",
       "       't-SC-s', 'c-SC-m', 'c-SC-s', 'c-SC-s', 't-CS-s', 't-CS-m',\n",
       "       'c-SC-s', 'c-SC-s', 't-CS-m', 'c-SC-s', 'c-CS-s', 'c-SC-s',\n",
       "       'c-SC-s', 'c-SC-s', 't-CS-s', 'c-SC-m', 'c-SC-m', 't-SC-m',\n",
       "       'c-CS-m', 'c-CS-m', 't-SC-m', 'c-CS-s', 't-SC-m', 't-CS-s',\n",
       "       'c-SC-m', 't-SC-s', 'c-SC-m', 't-CS-m', 't-CS-s', 't-CS-m',\n",
       "       'c-CS-m', 'c-CS-m', 'c-SC-m', 'c-SC-s', 'c-CS-m', 't-CS-s',\n",
       "       'c-CS-m', 'c-SC-m', 'c-SC-m', 't-CS-s', 't-CS-m', 't-SC-m',\n",
       "       't-CS-m', 't-SC-m', 't-CS-m', 'c-CS-m', 'c-SC-s', 'c-SC-s',\n",
       "       'c-CS-m', 'c-CS-m', 'c-CS-m', 'c-CS-m', 'c-SC-s', 'c-SC-s',\n",
       "       'c-SC-m', 'c-SC-m', 'c-CS-s', 't-SC-m', 't-SC-m', 't-CS-s',\n",
       "       'c-SC-m', 'c-CS-s', 'c-CS-m', 'c-SC-m', 't-SC-s', 't-SC-s',\n",
       "       'c-CS-m', 't-CS-s', 'c-CS-m', 'c-CS-s', 'c-SC-m', 'c-CS-s',\n",
       "       't-SC-m', 'c-SC-s', 't-SC-s', 't-SC-m', 't-SC-s', 'c-CS-m',\n",
       "       't-CS-m', 't-SC-s', 't-SC-s', 't-CS-s', 'c-CS-s', 'c-SC-s',\n",
       "       't-CS-m', 'c-SC-m', 't-SC-s', 't-SC-m', 't-CS-m', 't-CS-m',\n",
       "       't-SC-m', 'c-CS-s', 'c-CS-m', 'c-SC-s', 'c-CS-m', 't-CS-m',\n",
       "       't-CS-m', 'c-CS-s', 't-SC-m', 'c-CS-m', 'c-CS-m', 't-CS-s',\n",
       "       'c-SC-m', 'c-SC-s', 't-SC-s', 'c-CS-m', 'c-CS-m', 'c-SC-s',\n",
       "       't-SC-m', 'c-SC-s', 't-SC-s', 't-CS-s', 't-CS-m', 'c-SC-s',\n",
       "       'c-CS-s', 'c-SC-m', 't-SC-m', 'c-SC-s', 'c-SC-m', 'c-CS-m',\n",
       "       't-SC-m', 'c-CS-s', 'c-CS-m', 't-CS-m', 'c-SC-m', 't-CS-s',\n",
       "       't-SC-m', 'c-SC-s', 't-CS-m', 'c-CS-s', 't-SC-m', 't-SC-m',\n",
       "       't-SC-s', 'c-SC-m', 'c-SC-m', 'c-SC-s', 'c-SC-m', 'c-CS-s',\n",
       "       'c-CS-m', 'c-CS-s', 't-CS-m', 'c-CS-m', 'c-CS-m', 'c-CS-m',\n",
       "       'c-SC-s', 't-SC-s', 't-CS-s', 't-SC-m', 't-CS-m', 'c-SC-m',\n",
       "       'c-CS-s', 't-CS-m', 'c-CS-m', 'c-SC-m', 't-SC-s', 't-CS-s',\n",
       "       'c-SC-s', 't-SC-m', 'c-CS-s', 'c-CS-s', 't-CS-s', 't-CS-s',\n",
       "       't-CS-m', 't-CS-m', 't-SC-m', 't-CS-s', 't-CS-m', 't-CS-s',\n",
       "       'c-SC-s', 'c-SC-m', 'c-CS-m', 'c-SC-m', 'c-CS-s', 't-CS-m',\n",
       "       't-SC-s', 't-CS-m', 'c-CS-m', 'c-CS-m', 't-CS-m', 'c-SC-s',\n",
       "       'c-SC-m', 't-SC-s', 'c-SC-m', 't-CS-s', 't-CS-s', 'c-SC-m',\n",
       "       'c-CS-m', 't-SC-s', 't-CS-s', 't-SC-s', 'c-CS-m', 't-SC-s',\n",
       "       'c-CS-s', 't-SC-s', 't-SC-s', 't-SC-m', 'c-SC-s', 'c-CS-s',\n",
       "       'c-SC-m', 'c-CS-s', 't-SC-m', 'c-SC-s', 't-CS-m', 't-CS-m',\n",
       "       't-CS-s', 't-CS-s', 'c-CS-m', 't-CS-s', 'c-SC-s', 't-SC-m',\n",
       "       'c-SC-s', 't-CS-m', 'c-SC-m', 'c-CS-s', 'c-SC-s', 'c-CS-m',\n",
       "       'c-SC-s', 'c-CS-m', 'c-CS-m', 't-CS-m', 'c-CS-m', 'c-SC-s',\n",
       "       't-SC-s', 't-CS-s', 'c-SC-s', 't-SC-m', 't-CS-m', 'c-SC-m',\n",
       "       't-CS-s', 't-SC-s', 't-SC-s', 't-SC-s', 't-CS-s', 't-SC-m',\n",
       "       't-SC-s', 'c-SC-m', 'c-SC-s', 't-CS-m', 't-SC-m', 'c-SC-s',\n",
       "       'c-CS-m', 't-CS-m', 'c-SC-m', 'c-CS-m', 'c-SC-m', 't-SC-s',\n",
       "       't-SC-s', 't-SC-s', 't-CS-s', 'c-CS-m', 'c-CS-s', 'c-SC-m',\n",
       "       'c-SC-s', 'c-CS-s', 'c-SC-s', 'c-CS-m', 't-SC-m', 't-SC-s',\n",
       "       'c-SC-m', 't-CS-m', 'c-SC-m', 't-CS-m', 't-SC-m', 't-SC-m',\n",
       "       't-SC-m', 't-CS-m', 't-SC-s', 'c-SC-m', 'c-SC-m', 't-CS-s',\n",
       "       't-SC-m', 'c-SC-m', 'c-SC-s', 'c-CS-s', 't-CS-m', 't-SC-s',\n",
       "       'c-CS-m', 'c-CS-m', 'c-CS-m', 't-SC-s', 'c-SC-m', 'c-CS-m',\n",
       "       'c-CS-s', 't-SC-s', 'c-CS-s', 'c-CS-s', 't-CS-s', 'c-SC-m',\n",
       "       't-SC-m', 'c-SC-s', 't-CS-m', 'c-CS-s', 't-CS-m', 't-CS-m',\n",
       "       'c-CS-s', 't-SC-s', 'c-CS-m', 'c-CS-m', 'c-SC-m', 'c-SC-m',\n",
       "       't-CS-m', 'c-SC-m', 'c-CS-s', 'c-CS-s', 'c-CS-m', 't-CS-m',\n",
       "       'c-SC-s', 't-SC-m', 'c-SC-s', 't-SC-s', 'c-SC-m', 'c-CS-m',\n",
       "       'c-SC-m', 't-SC-s', 'c-CS-m', 't-SC-s', 't-SC-m', 'c-CS-s',\n",
       "       'c-SC-m', 'c-CS-m', 't-CS-m', 'c-SC-m', 'c-CS-s', 't-CS-s',\n",
       "       't-SC-m', 't-SC-m', 'c-CS-m', 't-SC-m', 'c-CS-m', 'c-SC-m',\n",
       "       'c-SC-s', 't-CS-m', 'c-CS-m', 't-CS-m', 'c-CS-s', 't-CS-s',\n",
       "       'c-SC-s', 'c-SC-m', 't-SC-m', 't-SC-s', 't-CS-s', 'c-SC-s',\n",
       "       't-SC-s', 't-CS-s', 'c-CS-m', 't-CS-m', 't-CS-s', 'c-SC-m',\n",
       "       'c-SC-m', 't-SC-m', 'c-SC-m', 't-SC-s', 'c-CS-s', 't-SC-m',\n",
       "       't-SC-s', 't-SC-m', 'c-SC-m', 't-CS-m', 'c-SC-s', 'c-CS-s',\n",
       "       'c-CS-m', 'c-CS-m', 'c-CS-m', 'c-CS-m', 'c-SC-s', 'c-SC-s',\n",
       "       'c-SC-m', 'c-CS-s', 'c-CS-s', 'c-SC-m', 't-SC-s', 'c-SC-s',\n",
       "       'c-CS-m', 't-CS-s', 'c-SC-m', 't-SC-s', 'c-CS-m', 'c-SC-m',\n",
       "       'c-CS-m', 'c-SC-s', 't-SC-s', 'c-SC-m', 'c-SC-s', 't-SC-m',\n",
       "       'c-SC-m', 't-CS-m', 'c-CS-m', 'c-CS-m', 'c-SC-m', 'c-SC-s',\n",
       "       'c-SC-s', 'c-CS-m', 'c-SC-m', 'c-CS-m', 'c-CS-m', 't-SC-m',\n",
       "       'c-SC-m', 't-CS-s', 'c-SC-m', 't-SC-m', 't-SC-s', 'c-CS-s',\n",
       "       'c-CS-m', 't-CS-s', 'c-CS-m', 'c-CS-s', 'c-SC-s', 'c-CS-s',\n",
       "       'c-CS-m', 't-SC-m', 'c-SC-s', 't-CS-s', 'c-SC-m', 't-SC-m',\n",
       "       'c-CS-s', 'c-CS-m', 'c-CS-m', 'c-SC-m', 'c-CS-s', 't-CS-m',\n",
       "       'c-CS-m', 'c-CS-m', 'c-SC-m', 't-CS-m', 'c-SC-m', 't-CS-m'],\n",
       "      dtype=object)"
      ]
     },
     "execution_count": 68,
     "metadata": {},
     "output_type": "execute_result"
    }
   ],
   "source": [
    "#Check the predicted data as y_pre\n",
    "y_pre"
   ]
  },
  {
   "cell_type": "code",
   "execution_count": 69,
   "metadata": {},
   "outputs": [
    {
     "data": {
      "text/plain": [
       "(432,)"
      ]
     },
     "execution_count": 69,
     "metadata": {},
     "output_type": "execute_result"
    }
   ],
   "source": [
    "#Check the dimension of the predicted data\n",
    "y_pre.shape"
   ]
  },
  {
   "cell_type": "code",
   "execution_count": 70,
   "metadata": {},
   "outputs": [],
   "source": [
    "#Load packages of confusion_matrix from sklearn\n",
    "from sklearn.metrics import confusion_matrix"
   ]
  },
  {
   "cell_type": "code",
   "execution_count": 71,
   "metadata": {},
   "outputs": [],
   "source": [
    "#Create a confusion matrix\n",
    "cm = confusion_matrix(y_test, y_pre)"
   ]
  },
  {
   "cell_type": "code",
   "execution_count": 72,
   "metadata": {
    "scrolled": false
   },
   "outputs": [
    {
     "name": "stdout",
     "output_type": "stream",
     "text": [
      "[[57  0  0  0  1  0  0  0]\n",
      " [ 7 42  0  0  0  4  0  0]\n",
      " [ 0  0 59  2  0  0  1  0]\n",
      " [ 0  0  0 54  0  0  4  0]\n",
      " [ 8  1  0  0 48  1  0  1]\n",
      " [ 4  1  0  0  2 36  0  0]\n",
      " [ 0  0  5  0  0  0 41  0]\n",
      " [ 0  0  5  1  0  0  1 46]]\n"
     ]
    }
   ],
   "source": [
    "#Show the confusion matrix\n",
    "print(cm)"
   ]
  },
  {
   "cell_type": "code",
   "execution_count": 73,
   "metadata": {},
   "outputs": [],
   "source": [
    "#Load packages of classification_report from sklearn\n",
    "from sklearn.metrics import classification_report"
   ]
  },
  {
   "cell_type": "code",
   "execution_count": 74,
   "metadata": {
    "scrolled": true
   },
   "outputs": [
    {
     "name": "stdout",
     "output_type": "stream",
     "text": [
      "              precision    recall  f1-score   support\n",
      "\n",
      "      c-CS-m       0.75      0.98      0.85        58\n",
      "      c-CS-s       0.95      0.79      0.87        53\n",
      "      c-SC-m       0.86      0.95      0.90        62\n",
      "      c-SC-s       0.95      0.93      0.94        58\n",
      "      t-CS-m       0.94      0.81      0.87        59\n",
      "      t-CS-s       0.88      0.84      0.86        43\n",
      "      t-SC-m       0.87      0.89      0.88        46\n",
      "      t-SC-s       0.98      0.87      0.92        53\n",
      "\n",
      "    accuracy                           0.89       432\n",
      "   macro avg       0.90      0.88      0.89       432\n",
      "weighted avg       0.90      0.89      0.89       432\n",
      "\n"
     ]
    }
   ],
   "source": [
    "#Show the classification report for this kNN classifier with default value\n",
    "print(classification_report(y_test,y_pre))"
   ]
  },
  {
   "cell_type": "code",
   "execution_count": 75,
   "metadata": {},
   "outputs": [],
   "source": [
    "#Load packages of accuracy_score from sklearn\n",
    "from sklearn.metrics import accuracy_score"
   ]
  },
  {
   "cell_type": "code",
   "execution_count": 76,
   "metadata": {
    "scrolled": false
   },
   "outputs": [
    {
     "name": "stdout",
     "output_type": "stream",
     "text": [
      "Accuracy: 0.8865740740740741\n"
     ]
    }
   ],
   "source": [
    "#Show the accuracy for this kNN classifier with default value using all proteins\n",
    "print('Accuracy:', accuracy_score(y_test,y_pre))"
   ]
  },
  {
   "cell_type": "code",
   "execution_count": 77,
   "metadata": {
    "scrolled": false
   },
   "outputs": [
    {
     "name": "stdout",
     "output_type": "stream",
     "text": [
      "[[57  1  0  0  0  0  0  0]\n",
      " [ 2 49  0  0  0  2  0  0]\n",
      " [ 0  0 60  2  0  0  0  0]\n",
      " [ 0  0  0 58  0  0  0  0]\n",
      " [ 0  0  0  0 51  8  0  0]\n",
      " [ 4  2  0  0  1 36  0  0]\n",
      " [ 0  0  4  1  0  0 41  0]\n",
      " [ 1  0  0  2  0  0  0 50]]\n",
      "              precision    recall  f1-score   support\n",
      "\n",
      "      c-CS-m       0.89      0.98      0.93        58\n",
      "      c-CS-s       0.94      0.92      0.93        53\n",
      "      c-SC-m       0.94      0.97      0.95        62\n",
      "      c-SC-s       0.92      1.00      0.96        58\n",
      "      t-CS-m       0.98      0.86      0.92        59\n",
      "      t-CS-s       0.78      0.84      0.81        43\n",
      "      t-SC-m       1.00      0.89      0.94        46\n",
      "      t-SC-s       1.00      0.94      0.97        53\n",
      "\n",
      "    accuracy                           0.93       432\n",
      "   macro avg       0.93      0.93      0.93       432\n",
      "weighted avg       0.93      0.93      0.93       432\n",
      "\n",
      "Accuracy: 0.9305555555555556\n"
     ]
    }
   ],
   "source": [
    "#kNN classifier with default value of 5 n_neighbors using only the important proteins \n",
    "\n",
    "#Select a k-Nearest Neighbor classifier with default value of 5 n_neighbors \n",
    "clf_important_default = KNeighborsClassifier(5)\n",
    "#Fitting the model with X_imptrain(the trainning set from important protein) and y_train data\n",
    "fit = clf_important_default.fit(X_imptrain, y_train)\n",
    "#Predict on unseen data of X_imptest(the test set from important protein)\n",
    "y_important_pre = fit.predict(X_imptest)\n",
    "#Create a confusion matrix\n",
    "cm = confusion_matrix(y_test, y_important_pre)\n",
    "#Display the confusion martrix\n",
    "print(cm)\n",
    "#Show the classification report for this kNN classifier with default value\n",
    "print(classification_report(y_test,y_important_pre))\n",
    "#Show the accuracy for this kNN classifier with default value using all proteins\n",
    "print('Accuracy:', accuracy_score(y_test,y_important_pre))"
   ]
  },
  {
   "cell_type": "markdown",
   "metadata": {},
   "source": [
    "**Analysis:** <br>\n",
    "The kNN classification with default value of 5 n_neighbors along training using only the important proteins shows an overall better result compared to the kNN classification with default value of 5 n_neighbors along training using all proteins. The confusion matrix for the feature selected proteins shows us higher value in the diagonal line compared to the confusion matrix for the non-feature selected proteins. This shows that the classification error rate is lower on the feature selected model. The kNN classification trained using only the important proteins shows better precision of 0.93, recall of 0.93 and f1-score of 0.93 compared to the kNN classification trained using all proteins with a precision of 0.90, recall of 0.89 and f1-score of 0.89. The kNN classification trained using only the important proteins has a higher accuracy at 0.93 compared to 0.89 for the kNN classification trained using all proteins.<br>\n",
    "**Justifications:** <br>\n",
    "Comparison between training using all protein and feature selected important protein on the kNN classifier using default value gives us a better picture on how the model will perform under feature or non-feature selected protein as well as providing us crucial information and results. Also, the comparison gives us valuable insight of the classification error rate from the confusion matrix, precision which is the fraction of correctly predicted instances, recall which is the fraction of relevant instances that are successfully predicted and F1-score which is the harmonic mean of precision and recall, from the classification report."
   ]
  },
  {
   "cell_type": "markdown",
   "metadata": {},
   "source": [
    "### Parameter Tuning"
   ]
  },
  {
   "cell_type": "markdown",
   "metadata": {},
   "source": [
    "We will be commencing parameter tuning to improve the results and accuracy."
   ]
  },
  {
   "cell_type": "markdown",
   "metadata": {},
   "source": [
    "Firstly, we will be tuning the weights parameter to 'distance', which is the weight points by the inverse of their distance, where closer neighbors of a query point will have a greater influence than neighbors which are further away, instead of the neighbors being weighted in uniform or equally. This parameter is chosen because it is expected to see an increase for the accuracy and improved results by tuning the weights parameter to 'distance'."
   ]
  },
  {
   "cell_type": "code",
   "execution_count": 78,
   "metadata": {
    "scrolled": false
   },
   "outputs": [
    {
     "name": "stdout",
     "output_type": "stream",
     "text": [
      "Confusion Matrix: \n",
      "\n",
      "[[58  0  0  0  0  0  0  0]\n",
      " [ 6 44  0  0  0  3  0  0]\n",
      " [ 0  0 59  2  0  0  1  0]\n",
      " [ 0  0  0 56  0  0  2  0]\n",
      " [ 6  0  0  0 52  0  0  1]\n",
      " [ 1  0  0  0  0 42  0  0]\n",
      " [ 0  0  3  0  0  0 43  0]\n",
      " [ 0  0  1  0  0  0  0 52]]\n",
      "\n",
      "Classification Report: \n",
      "\n",
      "              precision    recall  f1-score   support\n",
      "\n",
      "      c-CS-m       0.82      1.00      0.90        58\n",
      "      c-CS-s       1.00      0.83      0.91        53\n",
      "      c-SC-m       0.94      0.95      0.94        62\n",
      "      c-SC-s       0.97      0.97      0.97        58\n",
      "      t-CS-m       1.00      0.88      0.94        59\n",
      "      t-CS-s       0.93      0.98      0.95        43\n",
      "      t-SC-m       0.93      0.93      0.93        46\n",
      "      t-SC-s       0.98      0.98      0.98        53\n",
      "\n",
      "    accuracy                           0.94       432\n",
      "   macro avg       0.95      0.94      0.94       432\n",
      "weighted avg       0.95      0.94      0.94       432\n",
      "\n",
      "Accuracy: 0.9398148148148148\n"
     ]
    }
   ],
   "source": [
    "#Changing the parameter for 'weights' as distance on all proteins\n",
    "clf = KNeighborsClassifier(5, weights='distance')\n",
    "fit = clf.fit(X_train, y_train)\n",
    "y_pre = fit.predict(X_test)\n",
    "cm = confusion_matrix(y_test, y_pre)\n",
    "print('Confusion Matrix: \\n')\n",
    "print(cm)\n",
    "print('')\n",
    "print('Classification Report: \\n')\n",
    "print(classification_report(y_test,y_pre))\n",
    "print('Accuracy:', accuracy_score(y_test,y_pre))"
   ]
  },
  {
   "cell_type": "code",
   "execution_count": 79,
   "metadata": {
    "scrolled": false
   },
   "outputs": [
    {
     "name": "stdout",
     "output_type": "stream",
     "text": [
      "Confusion Matrix: \n",
      "\n",
      "[[56  0  0  0  0  2  0  0]\n",
      " [ 2 48  0  0  0  3  0  0]\n",
      " [ 0  0 62  0  0  0  0  0]\n",
      " [ 0  0  0 58  0  0  0  0]\n",
      " [ 0  0  0  0 52  7  0  0]\n",
      " [ 1  0  0  0  0 42  0  0]\n",
      " [ 0  0  0  0  0  0 46  0]\n",
      " [ 0  0  0  1  0  0  0 52]]\n",
      "\n",
      "Classification Report: \n",
      "\n",
      "              precision    recall  f1-score   support\n",
      "\n",
      "      c-CS-m       0.95      0.97      0.96        58\n",
      "      c-CS-s       1.00      0.91      0.95        53\n",
      "      c-SC-m       1.00      1.00      1.00        62\n",
      "      c-SC-s       0.98      1.00      0.99        58\n",
      "      t-CS-m       1.00      0.88      0.94        59\n",
      "      t-CS-s       0.78      0.98      0.87        43\n",
      "      t-SC-m       1.00      1.00      1.00        46\n",
      "      t-SC-s       1.00      0.98      0.99        53\n",
      "\n",
      "    accuracy                           0.96       432\n",
      "   macro avg       0.96      0.96      0.96       432\n",
      "weighted avg       0.97      0.96      0.96       432\n",
      "\n",
      "Accuracy: 0.9629629629629629\n"
     ]
    }
   ],
   "source": [
    "#Changing the parameter for 'weights' as distance on important proteins\n",
    "clf = KNeighborsClassifier(5, weights='distance')\n",
    "fit = clf.fit(X_imptrain, y_train)\n",
    "y_imp_pre = fit.predict(X_imptest)\n",
    "cm = confusion_matrix(y_test, y_imp_pre)\n",
    "print('Confusion Matrix: \\n')\n",
    "print(cm)\n",
    "print('')\n",
    "print('Classification Report: \\n')\n",
    "print(classification_report(y_test,y_imp_pre))\n",
    "print('Accuracy:', accuracy_score(y_test,y_imp_pre))"
   ]
  },
  {
   "cell_type": "markdown",
   "metadata": {},
   "source": [
    "**Results / comparison:** <br> \n",
    "As expected, the results had improved for both models from training using all proteins and only the important proteins, by tuning the parameter for weights as 'distance'. Each of the confusion matrix from both models shows higher value on the diagonal line, thus lower classification error rate after tuning the parameter. Both of the models also show improved results of precision, recall and f1-score as well as the accuracy shown from the classification report. In this comparison, the kNN model trained using only the important proteins with the weights set as 'distance' has better result and accuracy compared to the model using all proteins."
   ]
  },
  {
   "cell_type": "markdown",
   "metadata": {},
   "source": [
    "Secondly, we will be tuning the p value to 1, which is the power parameter for the Minkowski metric, where it will be equivalent to using manhattan_distance (l1) in Taxicab geometry. This parameter is chosen because it is expected to see an increase for the accuracy and improved results by tuning the p value to 1 and preserving the previous tuned parameter."
   ]
  },
  {
   "cell_type": "code",
   "execution_count": 80,
   "metadata": {},
   "outputs": [
    {
     "name": "stdout",
     "output_type": "stream",
     "text": [
      "Confusion Matrix: \n",
      "\n",
      "[[58  0  0  0  0  0  0  0]\n",
      " [ 2 49  0  0  0  2  0  0]\n",
      " [ 0  0 60  1  0  0  1  0]\n",
      " [ 0  0  0 58  0  0  0  0]\n",
      " [ 6  0  0  0 52  0  0  1]\n",
      " [ 1  0  0  0  0 42  0  0]\n",
      " [ 0  0  1  0  0  0 45  0]\n",
      " [ 0  0  1  1  0  0  0 51]]\n",
      "\n",
      "Classification Report: \n",
      "\n",
      "              precision    recall  f1-score   support\n",
      "\n",
      "      c-CS-m       0.87      1.00      0.93        58\n",
      "      c-CS-s       1.00      0.92      0.96        53\n",
      "      c-SC-m       0.97      0.97      0.97        62\n",
      "      c-SC-s       0.97      1.00      0.98        58\n",
      "      t-CS-m       1.00      0.88      0.94        59\n",
      "      t-CS-s       0.95      0.98      0.97        43\n",
      "      t-SC-m       0.98      0.98      0.98        46\n",
      "      t-SC-s       0.98      0.96      0.97        53\n",
      "\n",
      "    accuracy                           0.96       432\n",
      "   macro avg       0.96      0.96      0.96       432\n",
      "weighted avg       0.96      0.96      0.96       432\n",
      "\n",
      "Accuracy: 0.9606481481481481\n"
     ]
    }
   ],
   "source": [
    "#Changing the parameter for 'weights' as distance and ‘p’ value to 1 on all proteins\n",
    "clf = KNeighborsClassifier(5, weights='distance',p=1)\n",
    "fit = clf.fit(X_train, y_train)\n",
    "y_pre = fit.predict(X_test)\n",
    "cm = confusion_matrix(y_test, y_pre)\n",
    "print('Confusion Matrix: \\n')\n",
    "print(cm)\n",
    "print('')\n",
    "print('Classification Report: \\n')\n",
    "print(classification_report(y_test,y_pre))\n",
    "print('Accuracy:', accuracy_score(y_test,y_pre))"
   ]
  },
  {
   "cell_type": "code",
   "execution_count": 81,
   "metadata": {
    "scrolled": false
   },
   "outputs": [
    {
     "name": "stdout",
     "output_type": "stream",
     "text": [
      "Confusion Matrix: \n",
      "\n",
      "[[58  0  0  0  0  0  0  0]\n",
      " [ 0 53  0  0  0  0  0  0]\n",
      " [ 0  0 62  0  0  0  0  0]\n",
      " [ 0  0  0 58  0  0  0  0]\n",
      " [ 4  2  0  0 53  0  0  0]\n",
      " [ 0  0  0  0  0 43  0  0]\n",
      " [ 0  0  0  0  0  0 46  0]\n",
      " [ 0  0  0  1  0  0  0 52]]\n",
      "\n",
      "Classification Report: \n",
      "\n",
      "              precision    recall  f1-score   support\n",
      "\n",
      "      c-CS-m       0.94      1.00      0.97        58\n",
      "      c-CS-s       0.96      1.00      0.98        53\n",
      "      c-SC-m       1.00      1.00      1.00        62\n",
      "      c-SC-s       0.98      1.00      0.99        58\n",
      "      t-CS-m       1.00      0.90      0.95        59\n",
      "      t-CS-s       1.00      1.00      1.00        43\n",
      "      t-SC-m       1.00      1.00      1.00        46\n",
      "      t-SC-s       1.00      0.98      0.99        53\n",
      "\n",
      "    accuracy                           0.98       432\n",
      "   macro avg       0.99      0.98      0.98       432\n",
      "weighted avg       0.98      0.98      0.98       432\n",
      "\n",
      "Accuracy: 0.9837962962962963\n"
     ]
    }
   ],
   "source": [
    "#Changing the parameter for 'weights' as distance and ‘p’ value to 1 on important proteins\n",
    "clf = KNeighborsClassifier(5, weights='distance',p=1)\n",
    "fit = clf.fit(X_imptrain, y_train)\n",
    "y_imp_pre = fit.predict(X_imptest)\n",
    "cm = confusion_matrix(y_test, y_imp_pre)\n",
    "print('Confusion Matrix: \\n')\n",
    "print(cm)\n",
    "print('')\n",
    "print('Classification Report: \\n')\n",
    "print(classification_report(y_test,y_imp_pre))\n",
    "print('Accuracy:', accuracy_score(y_test,y_imp_pre))"
   ]
  },
  {
   "cell_type": "markdown",
   "metadata": {},
   "source": [
    "**Results / comparison:** <br> \n",
    "As expected, the results had improved for both models from training using all proteins and only the important proteins, by tuning the parameter for weights as 'distance' and p value to 1. Each of the confusion matrix from both models shows higher value on the diagonal line, thus lower classification error rate after tuning the parameters. Both of the models also show improved results of precision, recall and f1-score as well as the accuracy shown from the classification report. In this comparison, the kNN model trained using only the important proteins with the weights set as 'distance' and p value to 1 has better result and accuracy compared to the model using all proteins."
   ]
  },
  {
   "cell_type": "markdown",
   "metadata": {},
   "source": [
    "After that, we will be tuning the n_neighbors to 3, which is number of neighbors, where lower value makes the classification boundaries more distinct. Thus, it will make the boundaries to be more concise and able to improve the result in correct condition. This parameter is chosen because it is expected to see an increase for the accuracy and improved results by tuning the n_neighbors to 3 and preserving the previous tuned parameters."
   ]
  },
  {
   "cell_type": "code",
   "execution_count": 82,
   "metadata": {
    "scrolled": false
   },
   "outputs": [
    {
     "name": "stdout",
     "output_type": "stream",
     "text": [
      "Confusion Matrix: \n",
      "\n",
      "[[58  0  0  0  0  0  0  0]\n",
      " [ 1 48  0  0  1  3  0  0]\n",
      " [ 0  0 61  0  0  0  1  0]\n",
      " [ 0  0  0 58  0  0  0  0]\n",
      " [ 6  0  0  0 51  1  0  1]\n",
      " [ 1  0  0  0  0 42  0  0]\n",
      " [ 0  0  0  0  0  0 46  0]\n",
      " [ 0  0  1  0  0  0  0 52]]\n",
      "\n",
      "Classification Report: \n",
      "\n",
      "              precision    recall  f1-score   support\n",
      "\n",
      "      c-CS-m       0.88      1.00      0.94        58\n",
      "      c-CS-s       1.00      0.91      0.95        53\n",
      "      c-SC-m       0.98      0.98      0.98        62\n",
      "      c-SC-s       1.00      1.00      1.00        58\n",
      "      t-CS-m       0.98      0.86      0.92        59\n",
      "      t-CS-s       0.91      0.98      0.94        43\n",
      "      t-SC-m       0.98      1.00      0.99        46\n",
      "      t-SC-s       0.98      0.98      0.98        53\n",
      "\n",
      "    accuracy                           0.96       432\n",
      "   macro avg       0.96      0.96      0.96       432\n",
      "weighted avg       0.97      0.96      0.96       432\n",
      "\n",
      "Accuracy: 0.9629629629629629\n"
     ]
    }
   ],
   "source": [
    "#Changing the parameter for 'weights' as distance,‘p’ value to 1 and n_neighbors to 3 on all proteins\n",
    "clf = KNeighborsClassifier(3, weights='distance',p=1)\n",
    "fit = clf.fit(X_train, y_train)\n",
    "y_pre = fit.predict(X_test)\n",
    "cm = confusion_matrix(y_test, y_pre)\n",
    "print('Confusion Matrix: \\n')\n",
    "print(cm)\n",
    "print('')\n",
    "print('Classification Report: \\n')\n",
    "print(classification_report(y_test,y_pre))\n",
    "print('Accuracy:', accuracy_score(y_test,y_pre))"
   ]
  },
  {
   "cell_type": "code",
   "execution_count": 83,
   "metadata": {
    "scrolled": false
   },
   "outputs": [
    {
     "name": "stdout",
     "output_type": "stream",
     "text": [
      "Confusion Matrix: \n",
      "\n",
      "[[58  0  0  0  0  0  0  0]\n",
      " [ 0 52  0  0  0  1  0  0]\n",
      " [ 0  0 62  0  0  0  0  0]\n",
      " [ 0  0  0 58  0  0  0  0]\n",
      " [ 3  2  0  0 54  0  0  0]\n",
      " [ 0  0  0  0  0 43  0  0]\n",
      " [ 0  0  0  0  0  0 46  0]\n",
      " [ 0  0  0  0  0  0  0 53]]\n",
      "\n",
      "Classification Report: \n",
      "\n",
      "              precision    recall  f1-score   support\n",
      "\n",
      "      c-CS-m       0.95      1.00      0.97        58\n",
      "      c-CS-s       0.96      0.98      0.97        53\n",
      "      c-SC-m       1.00      1.00      1.00        62\n",
      "      c-SC-s       1.00      1.00      1.00        58\n",
      "      t-CS-m       1.00      0.92      0.96        59\n",
      "      t-CS-s       0.98      1.00      0.99        43\n",
      "      t-SC-m       1.00      1.00      1.00        46\n",
      "      t-SC-s       1.00      1.00      1.00        53\n",
      "\n",
      "    accuracy                           0.99       432\n",
      "   macro avg       0.99      0.99      0.99       432\n",
      "weighted avg       0.99      0.99      0.99       432\n",
      "\n",
      "Accuracy: 0.9861111111111112\n"
     ]
    }
   ],
   "source": [
    "#Changing the parameter for 'weights' as distance,‘p’ value to 1 and n_neighbors to 3 on important proteins\n",
    "clf_important = KNeighborsClassifier(3, weights='distance',p=1)\n",
    "fit = clf_important.fit(X_imptrain, y_train)\n",
    "y_imp_pre = fit.predict(X_imptest)\n",
    "cm = confusion_matrix(y_test, y_imp_pre)\n",
    "print('Confusion Matrix: \\n')\n",
    "print(cm)\n",
    "print('')\n",
    "print('Classification Report: \\n')\n",
    "print(classification_report(y_test,y_imp_pre))\n",
    "print('Accuracy:', accuracy_score(y_test,y_imp_pre))"
   ]
  },
  {
   "cell_type": "markdown",
   "metadata": {},
   "source": [
    "**Results / comparison:** <br> \n",
    "As expected, the results had improved for both models from training using all proteins and only the important proteins, by tuning the parameters for n_neighbors to 3, weights as 'distance' and p value to 1. Each of the confusion matrix from both models shows higher value on the diagonal line, thus lower classification error rate after tuning the parameters. The model trained using only the important proteins also show improved results of precision, recall and f1-score as well as the accuracy shown from the classification report, while the model trained using all proteins show improved results of precision and accuracy. In this comparison, the kNN model trained using only the important proteins with the n_neighbors set to 3, weights as 'distance' and p value to 1 has better result and accuracy compared to the model using all proteins."
   ]
  },
  {
   "cell_type": "markdown",
   "metadata": {},
   "source": [
    "**Summary / Recommendation**:<br>\n",
    "It is proven from the results that training a model using only the feature selected important proteins always provide better results and accuracy. From the parameter tuning, we found that training a kNN classification using important proteins with the parameters of n_neighbors set as 3, weights as 'distance', ‘p’ value as 1, produces the best results and accuracy. Therefore, it is recommended to use the parameters of n_neighbors set as 3, weights as 'distance', ‘p’ value as 1 using feature selected proteins for kNN classification."
   ]
  },
  {
   "cell_type": "markdown",
   "metadata": {},
   "source": [
    "### Decision Tree Classification"
   ]
  },
  {
   "cell_type": "markdown",
   "metadata": {},
   "source": [
    "In this section, the Decision Tree classifier with default values using all proteins and Decision Tree classifier with default values using only the important proteins will be executed and trained, in order to have a clear comparison of the results between training the model using all proteins and using only important proteins on default values. We will start by using the default values because it helps us to indicate the base results."
   ]
  },
  {
   "cell_type": "markdown",
   "metadata": {},
   "source": [
    "Default value:\n",
    "DecisionTreeClassifier(*, criterion='gini', splitter='best', max_depth=None, min_samples_split=2, min_samples_leaf=1, min_weight_fraction_leaf=0.0, max_features=None, random_state=None, max_leaf_nodes=None, min_impurity_decrease=0.0, min_impurity_split=None, class_weight=None, presort='deprecated', ccp_alpha=0.0) <br>(source from https://scikit-learn.org/stable/modules/generated/sklearn.tree.DecisionTreeClassifier.html)"
   ]
  },
  {
   "cell_type": "code",
   "execution_count": 84,
   "metadata": {},
   "outputs": [],
   "source": [
    "#Load packages of DecisionTreeClassifier from sklearn\n",
    "from sklearn.tree import DecisionTreeClassifier"
   ]
  },
  {
   "cell_type": "code",
   "execution_count": 85,
   "metadata": {},
   "outputs": [],
   "source": [
    "X_train, X_test, y_train, y_test =train_test_split(X,y,test_size=0.4,random_state=0)"
   ]
  },
  {
   "cell_type": "code",
   "execution_count": 86,
   "metadata": {},
   "outputs": [],
   "source": [
    "#Select a Decision Tree classifier using default values with all proteins\n",
    "#and a random_state of 0 to obtain a deterministic behaviour during fitting for comparison\n",
    "#without the result being changed each time\n",
    "\n",
    "clf = DecisionTreeClassifier(random_state = 0)"
   ]
  },
  {
   "cell_type": "code",
   "execution_count": 87,
   "metadata": {},
   "outputs": [],
   "source": [
    "#Fitting the model with X_train and y_train data\n",
    "fit = clf.fit(X_train, y_train)"
   ]
  },
  {
   "cell_type": "code",
   "execution_count": 88,
   "metadata": {},
   "outputs": [],
   "source": [
    "#Predict on unseen data of X_test\n",
    "y_pre = fit.predict(X_test)"
   ]
  },
  {
   "cell_type": "code",
   "execution_count": 89,
   "metadata": {
    "scrolled": false
   },
   "outputs": [
    {
     "data": {
      "text/plain": [
       "array(['t-CS-s', 't-CS-s', 't-CS-m', 'c-SC-s', 'c-CS-s', 't-SC-s',\n",
       "       't-SC-s', 'c-SC-m', 'c-SC-s', 't-SC-m', 't-CS-s', 't-CS-m',\n",
       "       'c-SC-s', 't-SC-s', 't-CS-m', 'c-SC-s', 'c-CS-s', 'c-SC-s',\n",
       "       'c-SC-s', 'c-SC-s', 't-CS-s', 'c-SC-m', 'c-SC-m', 't-SC-m',\n",
       "       'c-CS-m', 'c-CS-m', 'c-SC-s', 't-CS-s', 't-SC-m', 't-CS-s',\n",
       "       'c-SC-m', 't-SC-s', 'c-SC-m', 't-CS-m', 't-CS-s', 't-CS-m',\n",
       "       'c-CS-m', 'c-CS-m', 't-SC-m', 'c-SC-s', 'c-CS-s', 'c-CS-s',\n",
       "       't-CS-m', 'c-SC-m', 'c-SC-m', 't-CS-s', 'c-CS-s', 't-SC-m',\n",
       "       't-CS-m', 't-SC-m', 't-CS-s', 't-CS-s', 'c-SC-s', 'c-SC-m',\n",
       "       't-CS-s', 'c-CS-s', 'c-CS-m', 'c-CS-m', 'c-SC-s', 'c-SC-s',\n",
       "       't-SC-s', 'c-SC-s', 'c-CS-s', 'c-SC-s', 't-SC-m', 't-CS-m',\n",
       "       'c-CS-m', 't-CS-m', 'c-CS-s', 't-SC-s', 't-SC-s', 't-SC-s',\n",
       "       'c-CS-m', 't-CS-s', 'c-CS-m', 'c-CS-s', 'c-SC-m', 'c-CS-s',\n",
       "       't-SC-m', 'c-SC-s', 't-SC-s', 'c-SC-m', 't-SC-s', 't-CS-m',\n",
       "       't-CS-s', 't-SC-s', 't-SC-m', 't-CS-m', 'c-CS-s', 'c-SC-s',\n",
       "       'c-CS-s', 'c-SC-m', 't-SC-s', 't-SC-m', 't-CS-m', 't-CS-m',\n",
       "       't-SC-m', 'c-CS-s', 'c-CS-m', 'c-SC-s', 't-CS-s', 't-CS-s',\n",
       "       't-CS-m', 'c-CS-s', 'c-SC-m', 'c-CS-m', 't-CS-m', 't-CS-s',\n",
       "       'c-SC-m', 'c-SC-s', 't-SC-s', 'c-CS-m', 'c-CS-m', 'c-SC-s',\n",
       "       't-SC-m', 'c-SC-s', 't-SC-s', 'c-CS-s', 't-CS-m', 'c-SC-s',\n",
       "       'c-CS-s', 'c-SC-m', 't-SC-m', 'c-SC-s', 'c-SC-m', 'c-CS-m',\n",
       "       't-SC-m', 't-CS-s', 'c-CS-m', 't-CS-m', 'c-SC-m', 't-CS-m',\n",
       "       't-SC-m', 'c-SC-m', 't-CS-m', 'c-CS-s', 'c-SC-s', 'c-SC-m',\n",
       "       't-SC-s', 'c-SC-m', 'c-CS-m', 'c-SC-s', 'c-SC-m', 'c-CS-m',\n",
       "       'c-CS-m', 'c-CS-s', 't-CS-m', 'c-CS-m', 't-CS-m', 'c-CS-s',\n",
       "       'c-SC-s', 't-SC-s', 't-CS-s', 't-SC-m', 'c-CS-s', 'c-SC-m',\n",
       "       'c-CS-s', 't-CS-m', 'c-CS-s', 'c-CS-m', 't-SC-s', 't-CS-s',\n",
       "       'c-SC-s', 't-SC-m', 'c-CS-s', 'c-CS-m', 't-CS-s', 't-CS-s',\n",
       "       't-CS-m', 't-CS-m', 't-SC-m', 't-CS-s', 't-CS-m', 't-CS-s',\n",
       "       'c-SC-s', 'c-SC-m', 'c-CS-m', 't-SC-s', 'c-CS-s', 't-CS-m',\n",
       "       't-SC-s', 't-CS-m', 't-CS-s', 'c-CS-s', 't-CS-m', 'c-SC-s',\n",
       "       't-SC-m', 't-SC-s', 'c-SC-m', 't-CS-s', 't-CS-s', 'c-SC-m',\n",
       "       't-CS-m', 't-SC-s', 't-CS-s', 't-SC-s', 't-CS-s', 't-SC-s',\n",
       "       'c-CS-s', 't-SC-s', 't-SC-s', 't-SC-m', 'c-SC-s', 'c-CS-s',\n",
       "       'c-SC-m', 'c-CS-s', 'c-SC-m', 'c-SC-s', 't-CS-m', 'c-CS-m',\n",
       "       'c-CS-s', 't-CS-s', 'c-CS-m', 't-CS-s', 't-SC-s', 't-SC-m',\n",
       "       'c-SC-s', 't-CS-s', 'c-SC-m', 't-CS-m', 'c-SC-s', 'c-CS-s',\n",
       "       'c-SC-s', 'c-CS-m', 'c-CS-m', 't-CS-m', 'c-CS-m', 'c-SC-s',\n",
       "       'c-SC-m', 't-CS-s', 'c-SC-s', 't-SC-m', 't-CS-m', 't-SC-m',\n",
       "       't-CS-s', 't-SC-s', 't-SC-s', 't-CS-m', 'c-CS-s', 't-SC-m',\n",
       "       't-SC-s', 'c-SC-m', 'c-SC-s', 't-CS-m', 't-SC-m', 'c-SC-s',\n",
       "       't-CS-s', 'c-CS-s', 'c-SC-m', 'c-CS-s', 't-SC-m', 't-SC-s',\n",
       "       't-SC-s', 't-SC-s', 't-CS-s', 't-CS-m', 'c-CS-m', 'c-SC-m',\n",
       "       'c-SC-m', 'c-CS-s', 'c-SC-s', 'c-CS-m', 'c-SC-s', 't-SC-s',\n",
       "       't-CS-m', 't-CS-m', 'c-SC-m', 't-CS-m', 't-SC-m', 't-SC-m',\n",
       "       't-SC-m', 't-CS-m', 't-SC-s', 'c-SC-m', 'c-SC-s', 't-CS-s',\n",
       "       'c-SC-s', 'c-SC-m', 'c-SC-s', 'c-CS-s', 't-CS-m', 't-SC-s',\n",
       "       'c-CS-s', 'c-CS-s', 'c-CS-m', 't-SC-m', 'c-SC-m', 'c-CS-m',\n",
       "       't-CS-s', 't-SC-s', 'c-CS-m', 't-CS-m', 't-CS-s', 'c-SC-m',\n",
       "       't-SC-m', 'c-SC-s', 'c-CS-m', 'c-CS-s', 't-CS-m', 't-CS-m',\n",
       "       'c-CS-s', 't-SC-s', 'c-CS-m', 'c-CS-s', 'c-SC-s', 't-SC-m',\n",
       "       't-CS-m', 'c-SC-m', 'c-CS-s', 'c-CS-s', 'c-CS-m', 't-CS-m',\n",
       "       'c-SC-s', 't-SC-m', 'c-SC-s', 't-SC-s', 'c-SC-s', 'c-CS-m',\n",
       "       'c-SC-s', 't-SC-s', 'c-CS-m', 't-SC-s', 'c-SC-m', 't-CS-m',\n",
       "       'c-SC-m', 'c-CS-m', 't-CS-m', 'c-SC-m', 't-CS-s', 't-CS-m',\n",
       "       'c-SC-m', 't-SC-m', 'c-CS-m', 't-SC-m', 'c-CS-m', 'c-CS-m',\n",
       "       'c-SC-s', 't-CS-m', 'c-CS-s', 't-CS-m', 'c-CS-s', 't-CS-s',\n",
       "       't-SC-s', 'c-SC-m', 'c-CS-s', 't-SC-s', 't-CS-s', 'c-SC-s',\n",
       "       't-SC-s', 't-CS-s', 'c-CS-m', 't-CS-m', 't-CS-s', 't-SC-m',\n",
       "       'c-SC-m', 't-SC-m', 'c-SC-m', 't-SC-s', 'c-CS-s', 't-SC-m',\n",
       "       't-SC-s', 't-SC-m', 'c-SC-m', 't-CS-m', 'c-SC-s', 'c-CS-s',\n",
       "       'c-CS-m', 'c-CS-s', 'c-CS-m', 'c-CS-m', 'c-SC-m', 't-SC-s',\n",
       "       'c-SC-m', 'c-CS-s', 't-CS-m', 'c-SC-m', 't-SC-s', 'c-SC-s',\n",
       "       'c-CS-s', 't-CS-s', 'c-SC-s', 't-SC-s', 'c-CS-m', 'c-SC-m',\n",
       "       'c-CS-m', 'c-SC-s', 't-SC-s', 't-SC-s', 'c-SC-s', 't-SC-m',\n",
       "       'c-SC-m', 't-CS-m', 'c-CS-m', 'c-CS-m', 'c-SC-m', 'c-SC-s',\n",
       "       'c-SC-s', 'c-CS-m', 'c-SC-m', 'c-CS-s', 'c-CS-m', 't-SC-m',\n",
       "       'c-SC-m', 't-CS-s', 't-SC-s', 't-SC-m', 't-SC-s', 't-CS-s',\n",
       "       'c-CS-s', 't-CS-s', 'c-CS-m', 'c-CS-s', 'c-SC-s', 'c-CS-s',\n",
       "       'c-CS-m', 't-SC-m', 'c-SC-s', 't-CS-s', 'c-SC-m', 't-SC-m',\n",
       "       'c-CS-s', 'c-CS-m', 'c-CS-s', 'c-SC-m', 'c-CS-s', 't-CS-m',\n",
       "       'c-CS-m', 'c-CS-m', 'c-SC-m', 't-CS-s', 'c-SC-m', 't-CS-m'],\n",
       "      dtype=object)"
      ]
     },
     "execution_count": 89,
     "metadata": {},
     "output_type": "execute_result"
    }
   ],
   "source": [
    "#Check the predicted data as y_pre\n",
    "y_pre"
   ]
  },
  {
   "cell_type": "code",
   "execution_count": 90,
   "metadata": {
    "scrolled": true
   },
   "outputs": [
    {
     "data": {
      "text/plain": [
       "(432,)"
      ]
     },
     "execution_count": 90,
     "metadata": {},
     "output_type": "execute_result"
    }
   ],
   "source": [
    "#Check the dimension of the predicted data\n",
    "y_pre.shape"
   ]
  },
  {
   "cell_type": "code",
   "execution_count": 91,
   "metadata": {},
   "outputs": [],
   "source": [
    "#Create a confusion matrix\n",
    "cm = confusion_matrix(y_test, y_pre)"
   ]
  },
  {
   "cell_type": "code",
   "execution_count": 92,
   "metadata": {},
   "outputs": [
    {
     "name": "stdout",
     "output_type": "stream",
     "text": [
      "[[46  7  0  0  5  0  0  0]\n",
      " [ 5 37  0  0  4  7  0  0]\n",
      " [ 4  0 46  5  1  0  5  1]\n",
      " [ 0  0  3 50  0  0  2  3]\n",
      " [ 1 11  0  0 44  3  0  0]\n",
      " [ 0  1  0  0  3 39  0  0]\n",
      " [ 0  1  7  4  0  0 34  0]\n",
      " [ 0  0  2  0  0  0  3 48]]\n"
     ]
    }
   ],
   "source": [
    "#Show the confusion matrix\n",
    "print(cm)"
   ]
  },
  {
   "cell_type": "code",
   "execution_count": 93,
   "metadata": {},
   "outputs": [
    {
     "name": "stdout",
     "output_type": "stream",
     "text": [
      "              precision    recall  f1-score   support\n",
      "\n",
      "      c-CS-m       0.82      0.79      0.81        58\n",
      "      c-CS-s       0.65      0.70      0.67        53\n",
      "      c-SC-m       0.79      0.74      0.77        62\n",
      "      c-SC-s       0.85      0.86      0.85        58\n",
      "      t-CS-m       0.77      0.75      0.76        59\n",
      "      t-CS-s       0.80      0.91      0.85        43\n",
      "      t-SC-m       0.77      0.74      0.76        46\n",
      "      t-SC-s       0.92      0.91      0.91        53\n",
      "\n",
      "    accuracy                           0.80       432\n",
      "   macro avg       0.80      0.80      0.80       432\n",
      "weighted avg       0.80      0.80      0.80       432\n",
      "\n"
     ]
    }
   ],
   "source": [
    "#Show the classification report for this Decision Tree classifier with default values using all proteins\n",
    "print(classification_report(y_test,y_pre))"
   ]
  },
  {
   "cell_type": "code",
   "execution_count": 94,
   "metadata": {
    "scrolled": true
   },
   "outputs": [
    {
     "name": "stdout",
     "output_type": "stream",
     "text": [
      "Accuracy: 0.7962962962962963\n"
     ]
    }
   ],
   "source": [
    "#Show the accuracy for this Decision Tree classifier with default values using all proteins\n",
    "print('Accuracy:', accuracy_score(y_test,y_pre))"
   ]
  },
  {
   "cell_type": "code",
   "execution_count": 95,
   "metadata": {
    "scrolled": false
   },
   "outputs": [
    {
     "name": "stdout",
     "output_type": "stream",
     "text": [
      "Confusion Matrix: \n",
      "\n",
      "[[45  8  0  0  5  0  0  0]\n",
      " [ 6 38  0  0  6  3  0  0]\n",
      " [ 3  0 49  3  1  0  5  1]\n",
      " [ 0  0  3 53  0  0  2  0]\n",
      " [ 6  7  0  0 41  3  0  2]\n",
      " [ 2  1  0  0  1 39  0  0]\n",
      " [ 1  0  5  4  0  0 35  1]\n",
      " [ 1  0  0  0  0  0  1 51]]\n",
      "\n",
      "Classification Report: \n",
      "\n",
      "              precision    recall  f1-score   support\n",
      "\n",
      "      c-CS-m       0.70      0.78      0.74        58\n",
      "      c-CS-s       0.70      0.72      0.71        53\n",
      "      c-SC-m       0.86      0.79      0.82        62\n",
      "      c-SC-s       0.88      0.91      0.90        58\n",
      "      t-CS-m       0.76      0.69      0.73        59\n",
      "      t-CS-s       0.87      0.91      0.89        43\n",
      "      t-SC-m       0.81      0.76      0.79        46\n",
      "      t-SC-s       0.93      0.96      0.94        53\n",
      "\n",
      "    accuracy                           0.81       432\n",
      "   macro avg       0.81      0.82      0.81       432\n",
      "weighted avg       0.81      0.81      0.81       432\n",
      "\n",
      "Accuracy: 0.8125\n"
     ]
    }
   ],
   "source": [
    "#Decision Tree Classifier using default values with only important proteins\n",
    "\n",
    "#Select a Decision Tree classifier using default value with only important proteins\n",
    "#and a random_state of 0 to obtain a deterministic behaviour during fitting for comparison\n",
    "#without the result being changed each time\n",
    "clf_important_default = DecisionTreeClassifier(random_state = 0)\n",
    "#Fitting the model with X_imptrain(the trainning set from important protein) and y_train data\n",
    "fit = clf_important_default.fit(X_imptrain, y_train)\n",
    "#Predict on unseen data of X_imptest(the test set from important protein)\n",
    "y_important_pre = fit.predict(X_imptest)\n",
    "#Create a confusion matrix\n",
    "cm = confusion_matrix(y_test, y_important_pre)\n",
    "#Display the confusion martrix\n",
    "print('Confusion Matrix: \\n')\n",
    "print(cm)\n",
    "print('')\n",
    "print('Classification Report: \\n')\n",
    "#Show the classification report for this Decision Tree classifier with default values using important proteins\n",
    "print(classification_report(y_test,y_important_pre))\n",
    "#Show the accuracy for this Decision Tree classifier with default values using important proteins\n",
    "print('Accuracy:', accuracy_score(y_test,y_important_pre))"
   ]
  },
  {
   "cell_type": "markdown",
   "metadata": {},
   "source": [
    "**Analysis:** <br>\n",
    "The decision tree classification with default values along training using only the important proteins shows an overall better result compared to the decision tree classification with default values along training using all proteins. The confusion matrix for the feature selected proteins shows us higher value in the diagonal line compared to the confusion matrix for the non-feature selected proteins. This shows that the classification error rate is lower on the feature selected model. The decision tree classification trained using only the important proteins shows better precision of 0.81, recall of 0.81 and f1-score of 0.81 compared to the decision tree classification trained using all proteins with a precision of 0.80, recall of 0.80 and f1-score of 0.80. The decision tree classification trained using only the important proteins has a higher accuracy at 0.8125 compared to 0.7963 for the decision tree classification trained using all proteins.<br>\n",
    "**Justifications:** <br>\n",
    "Comparison between training using all protein and feature selected important protein on the decision tree classifier using default values gives us a better picture on how the model will perform under feature or non-feature selected protein as well as providing us crucial information and results. Also, the comparison gives us valuable insight of the classification error rate from the confusion matrix, precision which is the fraction of correctly predicted instances, recall which is the fraction of relevant instances that are successfully predicted, F1-score which is the harmonic mean of precision and recall from the classification report."
   ]
  },
  {
   "cell_type": "markdown",
   "metadata": {},
   "source": [
    "### Parameter Tuning"
   ]
  },
  {
   "cell_type": "markdown",
   "metadata": {},
   "source": [
    "We will be commencing parameter tuning to improve the results and accuracy."
   ]
  },
  {
   "cell_type": "markdown",
   "metadata": {},
   "source": [
    "Firstly, we will be tuning the class_weight parameter from None to 'balanced', which automatically adjust weights inversely proportional to class frequencies in the input data, where all classes are weighted equally. This parameter is chosen because it is expected to see an increase for the accuracy and improved results by tuning the class_weight to 'balanced'. Additionally, other parameters tested provide worse results for our decision tree classifications."
   ]
  },
  {
   "cell_type": "code",
   "execution_count": 96,
   "metadata": {},
   "outputs": [
    {
     "name": "stdout",
     "output_type": "stream",
     "text": [
      "Confusion Matrix: \n",
      "\n",
      "[[51  3  0  0  3  1  0  0]\n",
      " [12 34  0  0  5  2  0  0]\n",
      " [ 3  0 46  6  2  0  4  1]\n",
      " [ 0  0  1 52  0  0  1  4]\n",
      " [ 0 12  0  0 45  2  0  0]\n",
      " [ 3  2  0  0  2 36  0  0]\n",
      " [ 0  0  9  3  0  0 34  0]\n",
      " [ 0  0  2  0  0  0  3 48]]\n",
      "\n",
      "Classification Report: \n",
      "\n",
      "              precision    recall  f1-score   support\n",
      "\n",
      "      c-CS-m       0.74      0.88      0.80        58\n",
      "      c-CS-s       0.67      0.64      0.65        53\n",
      "      c-SC-m       0.79      0.74      0.77        62\n",
      "      c-SC-s       0.85      0.90      0.87        58\n",
      "      t-CS-m       0.79      0.76      0.78        59\n",
      "      t-CS-s       0.88      0.84      0.86        43\n",
      "      t-SC-m       0.81      0.74      0.77        46\n",
      "      t-SC-s       0.91      0.91      0.91        53\n",
      "\n",
      "    accuracy                           0.80       432\n",
      "   macro avg       0.80      0.80      0.80       432\n",
      "weighted avg       0.80      0.80      0.80       432\n",
      "\n",
      "Accuracy: 0.8009259259259259\n"
     ]
    }
   ],
   "source": [
    "#Decision Tree Classifier using class_weight set as 'balanced' with all proteins\n",
    "\n",
    "#Select a Decision Tree classifier using class_weight set as 'balanced' with all proteins\n",
    "#and a random_state of 0 to obtain a deterministic behaviour during fitting for comparison\n",
    "#without the result being changed each time\n",
    "clf = DecisionTreeClassifier(random_state = 0,class_weight = 'balanced')\n",
    "#Fitting the model with X_train and y_train data\n",
    "fit = clf.fit(X_train, y_train)\n",
    "#Predict on unseen data of X_test\n",
    "y_pre = fit.predict(X_test)\n",
    "#Create a confusion matrix\n",
    "cm = confusion_matrix(y_test, y_pre)\n",
    "#Display the confusion martrix\n",
    "print('Confusion Matrix: \\n')\n",
    "print(cm)\n",
    "print('')\n",
    "#Show the classification report for this Decision Tree classifier with class_weight set as 'balanced' using all proteins\n",
    "print('Classification Report: \\n')\n",
    "print(classification_report(y_test,y_pre))\n",
    "#Show the accuracy for this Decision Tree classifier with class_weight set as 'balanced' using all proteins\n",
    "print('Accuracy:', accuracy_score(y_test,y_pre))"
   ]
  },
  {
   "cell_type": "code",
   "execution_count": 97,
   "metadata": {},
   "outputs": [
    {
     "name": "stdout",
     "output_type": "stream",
     "text": [
      "Confusion Matrix: \n",
      "\n",
      "[[45  6  0  0  6  1  0  0]\n",
      " [ 6 36  0  0  4  7  0  0]\n",
      " [ 0  0 50  4  1  0  3  4]\n",
      " [ 0  0  0 56  0  0  2  0]\n",
      " [ 5  6  0  0 41  7  0  0]\n",
      " [ 0  4  0  0  4 34  0  1]\n",
      " [ 0  1  2  4  0  0 39  0]\n",
      " [ 0  0  0  1  0  0  1 51]]\n",
      "\n",
      "Classification Report: \n",
      "\n",
      "              precision    recall  f1-score   support\n",
      "\n",
      "      c-CS-m       0.80      0.78      0.79        58\n",
      "      c-CS-s       0.68      0.68      0.68        53\n",
      "      c-SC-m       0.96      0.81      0.88        62\n",
      "      c-SC-s       0.86      0.97      0.91        58\n",
      "      t-CS-m       0.73      0.69      0.71        59\n",
      "      t-CS-s       0.69      0.79      0.74        43\n",
      "      t-SC-m       0.87      0.85      0.86        46\n",
      "      t-SC-s       0.91      0.96      0.94        53\n",
      "\n",
      "    accuracy                           0.81       432\n",
      "   macro avg       0.81      0.82      0.81       432\n",
      "weighted avg       0.82      0.81      0.81       432\n",
      "\n",
      "Accuracy: 0.8148148148148148\n"
     ]
    }
   ],
   "source": [
    "#Decision Tree Classifier using class_weight set as 'balanced' with only important proteins\n",
    "\n",
    "#Select a Decision Tree classifier using class_weight set as 'balanced' with important proteins\n",
    "#and a random_state of 0 to obtain a deterministic behaviour during fitting for comparison\n",
    "#without the result being changed each time\n",
    "clf_important_default = DecisionTreeClassifier(random_state = 0, class_weight = 'balanced')\n",
    "#Fitting the model with X_imptrain(the trainning set from important protein) and y_train data\n",
    "fit = clf_important_default.fit(X_imptrain, y_train)\n",
    "#Predict on unseen data of X_imptest(the test set from important protein)\n",
    "y_important_pre = fit.predict(X_imptest)\n",
    "#Create a confusion matrix\n",
    "cm = confusion_matrix(y_test, y_important_pre)\n",
    "#Display the confusion martrix\n",
    "print('Confusion Matrix: \\n')\n",
    "print(cm)\n",
    "print('')\n",
    "#Show the classification report for this Decision Tree classifier with class_weight set as 'balanced' using important proteins\n",
    "print('Classification Report: \\n')\n",
    "print(classification_report(y_test,y_important_pre))\n",
    "#Show the accuracy for this Decision Tree classifier with class_weight set as 'balanced' using important proteins\n",
    "print('Accuracy:', accuracy_score(y_test,y_important_pre))"
   ]
  },
  {
   "cell_type": "markdown",
   "metadata": {},
   "source": [
    "**Results / comparison:** <br> \n",
    "The results had improved slightly for both models from training using all proteins and only the important proteins, by tuning the parameter for class_weight from None to 'balanced'. Each of the confusion matrix from both models shows higher value on the diagonal line, thus lower classification error rate after tuning the parameters. The decision tree model trained using all proteins shows the same precision, recall and f1-score but with accuracy improved from 0.7963 to 0.8009, whiile the model trained using important proteins shows higher precision as well as acuracy from 0.8125 to 0.8148. In this comparison, the decision tree model trained using only the important proteins with the class_weight set to 'balanced' has better result and accuracy compared to the model using all proteins."
   ]
  },
  {
   "cell_type": "markdown",
   "metadata": {},
   "source": [
    "After that, we will be tuning the criterion from 'gini' to 'entropy', which the function to measure the quality of a split, where 'entropy' is used for the information gain. This parameter is chosen because it is expected to see an increase for the accuracy and improved results by tuning the criterion from 'gini' to 'entropy'. Additionally, other parameters tested provide worse results for our decision tree classifications."
   ]
  },
  {
   "cell_type": "code",
   "execution_count": 98,
   "metadata": {},
   "outputs": [
    {
     "name": "stdout",
     "output_type": "stream",
     "text": [
      "Confusion Matrix: \n",
      "\n",
      "[[49  4  0  0  4  1  0  0]\n",
      " [ 9 37  0  0  1  6  0  0]\n",
      " [ 1  2 49  5  2  0  2  1]\n",
      " [ 0  0  0 58  0  0  0  0]\n",
      " [10  5  0  0 44  0  0  0]\n",
      " [ 4  1  0  0  1 37  0  0]\n",
      " [ 0  1  6  1  0  0 38  0]\n",
      " [ 0  0  1  1  0  0  0 51]]\n",
      "\n",
      "Classification Report: \n",
      "\n",
      "              precision    recall  f1-score   support\n",
      "\n",
      "      c-CS-m       0.67      0.84      0.75        58\n",
      "      c-CS-s       0.74      0.70      0.72        53\n",
      "      c-SC-m       0.88      0.79      0.83        62\n",
      "      c-SC-s       0.89      1.00      0.94        58\n",
      "      t-CS-m       0.85      0.75      0.79        59\n",
      "      t-CS-s       0.84      0.86      0.85        43\n",
      "      t-SC-m       0.95      0.83      0.88        46\n",
      "      t-SC-s       0.98      0.96      0.97        53\n",
      "\n",
      "    accuracy                           0.84       432\n",
      "   macro avg       0.85      0.84      0.84       432\n",
      "weighted avg       0.85      0.84      0.84       432\n",
      "\n",
      "Accuracy: 0.8402777777777778\n"
     ]
    }
   ],
   "source": [
    "#Decision Tree Classifier using class_weight set as 'balanced' and criterion as 'entropy' with all proteins\n",
    "\n",
    "#Select a Decision Tree classifier using class_weight set as 'balanced' with all proteins\n",
    "#and a random_state of 0 to obtain a deterministic behaviour during fitting for comparison\n",
    "#without the result being changed each time\n",
    "clf = DecisionTreeClassifier(random_state = 0,criterion = 'entropy',class_weight = 'balanced')\n",
    "#Fitting the model with X_train and y_train data\n",
    "fit = clf.fit(X_train, y_train)\n",
    "#Predict on unseen data of X_test\n",
    "y_pre = fit.predict(X_test)\n",
    "#Create a confusion matrix\n",
    "cm = confusion_matrix(y_test, y_pre)\n",
    "#Display the confusion martrix\n",
    "print('Confusion Matrix: \\n')\n",
    "print(cm)\n",
    "print('')\n",
    "#Show the classification report for this Decision Tree classifier with class_weight set as 'balanced' using all proteins\n",
    "print('Classification Report: \\n')\n",
    "print(classification_report(y_test,y_pre))\n",
    "#Show the accuracy for this Decision Tree classifier with class_weight set as 'balanced' using all proteins\n",
    "print('Accuracy:', accuracy_score(y_test,y_pre))"
   ]
  },
  {
   "cell_type": "code",
   "execution_count": 99,
   "metadata": {
    "scrolled": false
   },
   "outputs": [
    {
     "name": "stdout",
     "output_type": "stream",
     "text": [
      "Confusion Matrix: \n",
      "\n",
      "[[44  7  0  0  7  0  0  0]\n",
      " [ 5 43  0  0  0  5  0  0]\n",
      " [ 4  2 52  2  0  0  2  0]\n",
      " [ 0  0  1 52  0  0  4  1]\n",
      " [ 7  9  0  0 35  6  0  2]\n",
      " [ 0  3  0  0  4 36  0  0]\n",
      " [ 0  0  4  2  0  0 39  1]\n",
      " [ 0  0  1  0  0  0  0 52]]\n",
      "\n",
      "Classification Report: \n",
      "\n",
      "              precision    recall  f1-score   support\n",
      "\n",
      "      c-CS-m       0.73      0.76      0.75        58\n",
      "      c-CS-s       0.67      0.81      0.74        53\n",
      "      c-SC-m       0.90      0.84      0.87        62\n",
      "      c-SC-s       0.93      0.90      0.91        58\n",
      "      t-CS-m       0.76      0.59      0.67        59\n",
      "      t-CS-s       0.77      0.84      0.80        43\n",
      "      t-SC-m       0.87      0.85      0.86        46\n",
      "      t-SC-s       0.93      0.98      0.95        53\n",
      "\n",
      "    accuracy                           0.82       432\n",
      "   macro avg       0.82      0.82      0.82       432\n",
      "weighted avg       0.82      0.82      0.82       432\n",
      "\n",
      "Accuracy: 0.8171296296296297\n"
     ]
    }
   ],
   "source": [
    "#Decision Tree Classifier using class_weight set as 'balanced' and criterion as 'entropy' with only important proteins\n",
    "\n",
    "#Select a Decision Tree classifier using class_weight set as 'balanced' with important proteins\n",
    "#and a random_state of 0 to obtain a deterministic behaviour during fitting for comparison\n",
    "#without the result being changed each time\n",
    "clf_important_default = DecisionTreeClassifier(random_state = 0,criterion = 'entropy', class_weight = 'balanced')\n",
    "#Fitting the model with X_imptrain(the trainning set from important protein) and y_train data\n",
    "fit = clf_important_default.fit(X_imptrain, y_train)\n",
    "#Predict on unseen data of X_imptest(the test set from important protein)\n",
    "y_important_pre = fit.predict(X_imptest)\n",
    "#Create a confusion matrix\n",
    "cm = confusion_matrix(y_test, y_important_pre)\n",
    "#Display the confusion martrix\n",
    "print('Confusion Matrix: \\n')\n",
    "print(cm)\n",
    "print('')\n",
    "#Show the classification report for this Decision Tree classifier with class_weight set as 'balanced' using important proteins\n",
    "print('Classification Report: \\n')\n",
    "print(classification_report(y_test,y_important_pre))\n",
    "#Show the accuracy for this Decision Tree classifier with class_weight set as 'balanced' using important proteins\n",
    "print('Accuracy:', accuracy_score(y_test,y_important_pre))"
   ]
  },
  {
   "cell_type": "markdown",
   "metadata": {},
   "source": [
    "**Results / comparison:** <br>\n",
    "The results had improved significantly for the decision tree model from training using all proteins and slightly for the model from training using only the important proteins, by tuning the parameter for class_weight from None to 'balanced' and criterion from 'gini' to 'entropy'. Each of the confusion matrix from both models shows higher value on the diagonal line, thus lower classification error rate after tuning the parameters. The decision tree model trained using all proteins shows higher precision, recall and f1-score as well as accuracy improved from 0.8009 to 0.8403, whiile the model trained using important proteins shows higher recall and f1-score as well as acuracy from 0.8148 to 0.8171. In this comparison, the result is surprising as the decision tree model trained using all proteins with the class_weight set as 'balanced' and criterion set as 'entropy' has better result and accuracy compared to the model using important proteins."
   ]
  },
  {
   "cell_type": "markdown",
   "metadata": {},
   "source": [
    "**Summary / Recommendation**: <br>\n",
    "It is proven from the results that training a decision tree classification using only the feature selected important proteins and using all proteins provide different results and accuracy under different conditions. Thus, it is inappropriate to determine that using the important proteins always provide better results compared to all proteins. From the parameter tuning, we found that training a decision tree classification using all proteins with the parameters of class_weight set as 'balanced' and criterion as 'entropy', produces the best results and accuracy. Therefore, it is recommended to use the parameters of  class_weight set as 'balanced' and criterion as 'entropy' without using the feature selected proteins for decision tree classification."
   ]
  },
  {
   "cell_type": "code",
   "execution_count": 100,
   "metadata": {},
   "outputs": [
    {
     "data": {
      "image/png": "[encoded data removed]",
      "text/plain": [
       "<Figure size 432x288 with 1 Axes>"
      ]
     },
     "metadata": {
      "needs_background": "light"
     },
     "output_type": "display_data"
    }
   ],
   "source": [
    "#Make a bar plot comparing the accuracies retrieved by both kNN and Decision Tree models\n",
    "\n",
    "#Make a dataframe of the accuracies\n",
    "x = {'K-Nearest Neighbors': [0.9861111111111112], 'Decision Tree': [0.8402777777777778]}\n",
    "accuracies = pd.DataFrame(data=x)\n",
    "\n",
    "#Make a bar graph\n",
    "ax = accuracies.plot.bar()\n",
    "\n",
    "#set x and y label\n",
    "plt.xlabel('Models')\n",
    "plt.ylabel('Accuracy')\n",
    "x_labels = ['A', 'B']\n",
    "\n",
    "#set xticks\n",
    "xticks = [-0.15,0.15]\n",
    "ax.set_xticks(xticks)\n",
    "ax.set_xticks(xticks)\n",
    "ax.set_xticklabels(x_labels, rotation=0)\n",
    "\n",
    "#set legend size\n",
    "plt.legend(prop={'size': 8})\n",
    "#title\n",
    "plt.title('Comparison between the Best Accuracies retrieved by both kNN and Decision Tree models')\n",
    "\n",
    "plt.show()"
   ]
  },
  {
   "cell_type": "markdown",
   "metadata": {},
   "source": [
    "**Comparison:** <br>\n",
    "From all the results retrieved by both kNN and Decision Tree models, the kNN model with the parameters of n_neighbors set as 3, weights as 'distance', ‘p’ value as 1 trained using only important proteins, shows the highest accuracy and best result of precision, recall and f1 score. It presented an accuracy of 0.99, which is almost 100% accurate, compared to the decision tree model with parameters of class_weight set as 'balanced' and criterion as 'entropy' trained using all proteins presented an accuracy of 0.84. Therefore, the kNN model will be my recommendation to identify subsets of proteins that are discriminant between the classes."
   ]
  }
 ],
 "metadata": {
  "kernelspec": {
   "display_name": "Python 3",
   "language": "python",
   "name": "python3"
  },
  "language_info": {
   "codemirror_mode": {
    "name": "ipython",
    "version": 3
   },
   "file_extension": ".py",
   "mimetype": "text/x-python",
   "name": "python",
   "nbconvert_exporter": "python",
   "pygments_lexer": "ipython3",
   "version": "3.7.4"
  }
 },
 "nbformat": 4,
 "nbformat_minor": 2
}
